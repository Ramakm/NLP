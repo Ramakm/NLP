{
 "cells": [
  {
   "cell_type": "markdown",
   "id": "85b99a7f",
   "metadata": {},
   "source": [
    "## Topic Modelling: \n",
    "\n",
    "- Topic modeling is a type of statistical modeling that uses unsupervised Machine Learning to identify clusters or groups of similar words within a body of text. This text mining method uses semantic structures in text to understand unstructured data without predefined tags or training data"
   ]
  },
  {
   "cell_type": "markdown",
   "id": "e3196e76",
   "metadata": {},
   "source": [
    "![picture](https://dezyre.gumlet.io/images/blog/topic-modeling-nlp/Topic_Modeling_with_NLP.png?w=400&dpr=2.6)"
   ]
  },
  {
   "cell_type": "code",
   "execution_count": 1,
   "id": "6bec7e4d",
   "metadata": {},
   "outputs": [],
   "source": [
    "import pandas as pd\n",
    "from sklearn.decomposition import NMF\n",
    "from sklearn.feature_extraction.text import TfidfVectorizer"
   ]
  },
  {
   "cell_type": "code",
   "execution_count": 2,
   "id": "4f5508f2",
   "metadata": {},
   "outputs": [
    {
     "data": {
      "text/html": [
       "<div>\n",
       "<style scoped>\n",
       "    .dataframe tbody tr th:only-of-type {\n",
       "        vertical-align: middle;\n",
       "    }\n",
       "\n",
       "    .dataframe tbody tr th {\n",
       "        vertical-align: top;\n",
       "    }\n",
       "\n",
       "    .dataframe thead th {\n",
       "        text-align: right;\n",
       "    }\n",
       "</style>\n",
       "<table border=\"1\" class=\"dataframe\">\n",
       "  <thead>\n",
       "    <tr style=\"text-align: right;\">\n",
       "      <th></th>\n",
       "      <th>publish_date</th>\n",
       "      <th>headline_text</th>\n",
       "    </tr>\n",
       "  </thead>\n",
       "  <tbody>\n",
       "    <tr>\n",
       "      <th>0</th>\n",
       "      <td>20030219</td>\n",
       "      <td>aba decides against community broadcasting lic...</td>\n",
       "    </tr>\n",
       "    <tr>\n",
       "      <th>1</th>\n",
       "      <td>20030219</td>\n",
       "      <td>act fire witnesses must be aware of defamation</td>\n",
       "    </tr>\n",
       "    <tr>\n",
       "      <th>2</th>\n",
       "      <td>20030219</td>\n",
       "      <td>a g calls for infrastructure protection summit</td>\n",
       "    </tr>\n",
       "    <tr>\n",
       "      <th>3</th>\n",
       "      <td>20030219</td>\n",
       "      <td>air nz staff in aust strike for pay rise</td>\n",
       "    </tr>\n",
       "    <tr>\n",
       "      <th>4</th>\n",
       "      <td>20030219</td>\n",
       "      <td>air nz strike to affect australian travellers</td>\n",
       "    </tr>\n",
       "  </tbody>\n",
       "</table>\n",
       "</div>"
      ],
      "text/plain": [
       "   publish_date                                      headline_text\n",
       "0      20030219  aba decides against community broadcasting lic...\n",
       "1      20030219     act fire witnesses must be aware of defamation\n",
       "2      20030219     a g calls for infrastructure protection summit\n",
       "3      20030219           air nz staff in aust strike for pay rise\n",
       "4      20030219      air nz strike to affect australian travellers"
      ]
     },
     "execution_count": 2,
     "metadata": {},
     "output_type": "execute_result"
    }
   ],
   "source": [
    "documents = pd.read_csv('news-data.csv', error_bad_lines=False)\n",
    "documents.head()"
   ]
  },
  {
   "cell_type": "code",
   "execution_count": 3,
   "id": "eec94687",
   "metadata": {},
   "outputs": [
    {
     "data": {
      "text/plain": [
       "(1103663, 2)"
      ]
     },
     "execution_count": 3,
     "metadata": {},
     "output_type": "execute_result"
    }
   ],
   "source": [
    "documents.shape"
   ]
  },
  {
   "cell_type": "code",
   "execution_count": 4,
   "id": "e4bff412",
   "metadata": {},
   "outputs": [
    {
     "data": {
      "text/plain": [
       "1076219"
      ]
     },
     "execution_count": 4,
     "metadata": {},
     "output_type": "execute_result"
    }
   ],
   "source": [
    "documents[\"headline_text\"].nunique()"
   ]
  },
  {
   "cell_type": "code",
   "execution_count": 5,
   "id": "917a84f6",
   "metadata": {},
   "outputs": [
    {
     "data": {
      "text/plain": [
       "publish_date     0\n",
       "headline_text    0\n",
       "dtype: int64"
      ]
     },
     "execution_count": 5,
     "metadata": {},
     "output_type": "execute_result"
    }
   ],
   "source": [
    "documents.isnull().sum()"
   ]
  },
  {
   "cell_type": "code",
   "execution_count": 8,
   "id": "d8a87fe3",
   "metadata": {},
   "outputs": [],
   "source": [
    "documents=documents[[\"headline_text\"]].drop_duplicates()"
   ]
  },
  {
   "cell_type": "code",
   "execution_count": 9,
   "id": "89cd53a4",
   "metadata": {},
   "outputs": [
    {
     "data": {
      "text/plain": [
       "(1076219, 1)"
      ]
     },
     "execution_count": 9,
     "metadata": {},
     "output_type": "execute_result"
    }
   ],
   "source": [
    "documents.shape"
   ]
  },
  {
   "cell_type": "code",
   "execution_count": 10,
   "id": "4b07da85",
   "metadata": {},
   "outputs": [
    {
     "data": {
      "text/plain": [
       "'aba decides against community broadcasting licence'"
      ]
     },
     "execution_count": 10,
     "metadata": {},
     "output_type": "execute_result"
    }
   ],
   "source": [
    "documents[\"headline_text\"][0]"
   ]
  },
  {
   "cell_type": "markdown",
   "id": "b9f98796",
   "metadata": {},
   "source": [
    "## Distribution of length of these headlines"
   ]
  },
  {
   "cell_type": "code",
   "execution_count": 11,
   "id": "a5529df5",
   "metadata": {
    "collapsed": true
   },
   "outputs": [
    {
     "data": {
      "text/html": [
       "<div>\n",
       "<style scoped>\n",
       "    .dataframe tbody tr th:only-of-type {\n",
       "        vertical-align: middle;\n",
       "    }\n",
       "\n",
       "    .dataframe tbody tr th {\n",
       "        vertical-align: top;\n",
       "    }\n",
       "\n",
       "    .dataframe thead th {\n",
       "        text-align: right;\n",
       "    }\n",
       "</style>\n",
       "<table border=\"1\" class=\"dataframe\">\n",
       "  <thead>\n",
       "    <tr style=\"text-align: right;\">\n",
       "      <th></th>\n",
       "      <th>headline_text</th>\n",
       "      <th>length</th>\n",
       "    </tr>\n",
       "  </thead>\n",
       "  <tbody>\n",
       "    <tr>\n",
       "      <th>0</th>\n",
       "      <td>aba decides against community broadcasting lic...</td>\n",
       "      <td>6</td>\n",
       "    </tr>\n",
       "    <tr>\n",
       "      <th>1</th>\n",
       "      <td>act fire witnesses must be aware of defamation</td>\n",
       "      <td>8</td>\n",
       "    </tr>\n",
       "    <tr>\n",
       "      <th>2</th>\n",
       "      <td>a g calls for infrastructure protection summit</td>\n",
       "      <td>7</td>\n",
       "    </tr>\n",
       "    <tr>\n",
       "      <th>3</th>\n",
       "      <td>air nz staff in aust strike for pay rise</td>\n",
       "      <td>9</td>\n",
       "    </tr>\n",
       "    <tr>\n",
       "      <th>4</th>\n",
       "      <td>air nz strike to affect australian travellers</td>\n",
       "      <td>7</td>\n",
       "    </tr>\n",
       "  </tbody>\n",
       "</table>\n",
       "</div>"
      ],
      "text/plain": [
       "                                       headline_text  length\n",
       "0  aba decides against community broadcasting lic...       6\n",
       "1     act fire witnesses must be aware of defamation       8\n",
       "2     a g calls for infrastructure protection summit       7\n",
       "3           air nz staff in aust strike for pay rise       9\n",
       "4      air nz strike to affect australian travellers       7"
      ]
     },
     "execution_count": 11,
     "metadata": {},
     "output_type": "execute_result"
    }
   ],
   "source": [
    "documents[\"length\"]=documents[\"headline_text\"].apply(lambda x:len(x.split()))\n",
    "documents.head()"
   ]
  },
  {
   "cell_type": "code",
   "execution_count": 12,
   "id": "0dc0f405",
   "metadata": {
    "collapsed": true
   },
   "outputs": [
    {
     "data": {
      "image/png": "[encoded data removed]",
      "text/plain": [
       "<Figure size 432x288 with 1 Axes>"
      ]
     },
     "metadata": {
      "needs_background": "light"
     },
     "output_type": "display_data"
    }
   ],
   "source": [
    "import seaborn as sns\n",
    "import matplotlib.pyplot as plt\n",
    "\n",
    "sns.histplot(documents[\"length\"])\n",
    "plt.show()"
   ]
  },
  {
   "cell_type": "markdown",
   "id": "1a4d0186",
   "metadata": {},
   "source": [
    "## Top 20 most frequent words"
   ]
  },
  {
   "cell_type": "code",
   "execution_count": 19,
   "id": "a221501a",
   "metadata": {},
   "outputs": [
    {
     "data": {
      "text/plain": [
       "['aba', 'decides', 'against', 'community', 'broadcasting']"
      ]
     },
     "execution_count": 19,
     "metadata": {},
     "output_type": "execute_result"
    }
   ],
   "source": [
    "all_sentences=\" \".join(documents[\"headline_text\"].tolist()).split()\n",
    "all_sentences"
   ]
  },
  {
   "cell_type": "code",
   "execution_count": 20,
   "id": "02a4cacc",
   "metadata": {},
   "outputs": [],
   "source": [
    "from collections import Counter\n",
    "words_counts=Counter(all_sentences)"
   ]
  },
  {
   "cell_type": "code",
   "execution_count": 22,
   "id": "bd6030f0",
   "metadata": {
    "collapsed": true
   },
   "outputs": [
    {
     "data": {
      "text/plain": [
       "[('to', 213474),\n",
       " ('in', 134849),\n",
       " ('for', 129594),\n",
       " ('of', 80416),\n",
       " ('on', 72625),\n",
       " ('over', 49904),\n",
       " ('the', 48575),\n",
       " ('police', 35078),\n",
       " ('at', 31612),\n",
       " ('after', 29480),\n",
       " ('new', 29003),\n",
       " ('with', 28755),\n",
       " ('man', 27172),\n",
       " ('a', 24613),\n",
       " ('and', 21994),\n",
       " ('up', 20793),\n",
       " ('as', 20458),\n",
       " ('says', 19978),\n",
       " ('from', 18990),\n",
       " ('by', 17656)]"
      ]
     },
     "execution_count": 22,
     "metadata": {},
     "output_type": "execute_result"
    }
   ],
   "source": [
    "words_counts.most_common(20)"
   ]
  },
  {
   "cell_type": "markdown",
   "id": "cf53edaf",
   "metadata": {},
   "source": [
    "## After StopWords Removal"
   ]
  },
  {
   "cell_type": "code",
   "execution_count": 23,
   "id": "60e45d0f",
   "metadata": {},
   "outputs": [],
   "source": [
    "import nltk\n",
    "from nltk.corpus import stopwords"
   ]
  },
  {
   "cell_type": "code",
   "execution_count": 25,
   "id": "9fe38f15",
   "metadata": {},
   "outputs": [],
   "source": [
    "ls=stopwords.words('english')"
   ]
  },
  {
   "cell_type": "code",
   "execution_count": 27,
   "id": "f577e27a",
   "metadata": {},
   "outputs": [],
   "source": [
    "documents[\"headline_text_cleaned\"]=documents[\"headline_text\"].apply(lambda x:\" \".join([i for i in x.split() if i not in ls]))"
   ]
  },
  {
   "cell_type": "code",
   "execution_count": 28,
   "id": "a7aaa6a4",
   "metadata": {
    "collapsed": true
   },
   "outputs": [
    {
     "data": {
      "text/html": [
       "<div>\n",
       "<style scoped>\n",
       "    .dataframe tbody tr th:only-of-type {\n",
       "        vertical-align: middle;\n",
       "    }\n",
       "\n",
       "    .dataframe tbody tr th {\n",
       "        vertical-align: top;\n",
       "    }\n",
       "\n",
       "    .dataframe thead th {\n",
       "        text-align: right;\n",
       "    }\n",
       "</style>\n",
       "<table border=\"1\" class=\"dataframe\">\n",
       "  <thead>\n",
       "    <tr style=\"text-align: right;\">\n",
       "      <th></th>\n",
       "      <th>headline_text</th>\n",
       "      <th>length</th>\n",
       "      <th>headline_text_cleaned</th>\n",
       "    </tr>\n",
       "  </thead>\n",
       "  <tbody>\n",
       "    <tr>\n",
       "      <th>0</th>\n",
       "      <td>aba decides against community broadcasting lic...</td>\n",
       "      <td>6</td>\n",
       "      <td>aba decides community broadcasting licence</td>\n",
       "    </tr>\n",
       "    <tr>\n",
       "      <th>1</th>\n",
       "      <td>act fire witnesses must be aware of defamation</td>\n",
       "      <td>8</td>\n",
       "      <td>act fire witnesses must aware defamation</td>\n",
       "    </tr>\n",
       "    <tr>\n",
       "      <th>2</th>\n",
       "      <td>a g calls for infrastructure protection summit</td>\n",
       "      <td>7</td>\n",
       "      <td>g calls infrastructure protection summit</td>\n",
       "    </tr>\n",
       "    <tr>\n",
       "      <th>3</th>\n",
       "      <td>air nz staff in aust strike for pay rise</td>\n",
       "      <td>9</td>\n",
       "      <td>air nz staff aust strike pay rise</td>\n",
       "    </tr>\n",
       "    <tr>\n",
       "      <th>4</th>\n",
       "      <td>air nz strike to affect australian travellers</td>\n",
       "      <td>7</td>\n",
       "      <td>air nz strike affect australian travellers</td>\n",
       "    </tr>\n",
       "  </tbody>\n",
       "</table>\n",
       "</div>"
      ],
      "text/plain": [
       "                                       headline_text  length  \\\n",
       "0  aba decides against community broadcasting lic...       6   \n",
       "1     act fire witnesses must be aware of defamation       8   \n",
       "2     a g calls for infrastructure protection summit       7   \n",
       "3           air nz staff in aust strike for pay rise       9   \n",
       "4      air nz strike to affect australian travellers       7   \n",
       "\n",
       "                        headline_text_cleaned  \n",
       "0  aba decides community broadcasting licence  \n",
       "1    act fire witnesses must aware defamation  \n",
       "2    g calls infrastructure protection summit  \n",
       "3           air nz staff aust strike pay rise  \n",
       "4  air nz strike affect australian travellers  "
      ]
     },
     "execution_count": 28,
     "metadata": {},
     "output_type": "execute_result"
    }
   ],
   "source": [
    "documents.head()"
   ]
  },
  {
   "cell_type": "code",
   "execution_count": 30,
   "id": "619a6052",
   "metadata": {
    "collapsed": true
   },
   "outputs": [
    {
     "data": {
      "text/html": [
       "<div>\n",
       "<style scoped>\n",
       "    .dataframe tbody tr th:only-of-type {\n",
       "        vertical-align: middle;\n",
       "    }\n",
       "\n",
       "    .dataframe tbody tr th {\n",
       "        vertical-align: top;\n",
       "    }\n",
       "\n",
       "    .dataframe thead th {\n",
       "        text-align: right;\n",
       "    }\n",
       "</style>\n",
       "<table border=\"1\" class=\"dataframe\">\n",
       "  <thead>\n",
       "    <tr style=\"text-align: right;\">\n",
       "      <th></th>\n",
       "      <th>headline_text</th>\n",
       "      <th>length</th>\n",
       "      <th>headline_text_cleaned</th>\n",
       "    </tr>\n",
       "  </thead>\n",
       "  <tbody>\n",
       "    <tr>\n",
       "      <th>0</th>\n",
       "      <td>aba decides against community broadcasting lic...</td>\n",
       "      <td>5</td>\n",
       "      <td>aba decides community broadcasting licence</td>\n",
       "    </tr>\n",
       "    <tr>\n",
       "      <th>1</th>\n",
       "      <td>act fire witnesses must be aware of defamation</td>\n",
       "      <td>6</td>\n",
       "      <td>act fire witnesses must aware defamation</td>\n",
       "    </tr>\n",
       "    <tr>\n",
       "      <th>2</th>\n",
       "      <td>a g calls for infrastructure protection summit</td>\n",
       "      <td>5</td>\n",
       "      <td>g calls infrastructure protection summit</td>\n",
       "    </tr>\n",
       "    <tr>\n",
       "      <th>3</th>\n",
       "      <td>air nz staff in aust strike for pay rise</td>\n",
       "      <td>7</td>\n",
       "      <td>air nz staff aust strike pay rise</td>\n",
       "    </tr>\n",
       "    <tr>\n",
       "      <th>4</th>\n",
       "      <td>air nz strike to affect australian travellers</td>\n",
       "      <td>6</td>\n",
       "      <td>air nz strike affect australian travellers</td>\n",
       "    </tr>\n",
       "  </tbody>\n",
       "</table>\n",
       "</div>"
      ],
      "text/plain": [
       "                                       headline_text  length  \\\n",
       "0  aba decides against community broadcasting lic...       5   \n",
       "1     act fire witnesses must be aware of defamation       6   \n",
       "2     a g calls for infrastructure protection summit       5   \n",
       "3           air nz staff in aust strike for pay rise       7   \n",
       "4      air nz strike to affect australian travellers       6   \n",
       "\n",
       "                        headline_text_cleaned  \n",
       "0  aba decides community broadcasting licence  \n",
       "1    act fire witnesses must aware defamation  \n",
       "2    g calls infrastructure protection summit  \n",
       "3           air nz staff aust strike pay rise  \n",
       "4  air nz strike affect australian travellers  "
      ]
     },
     "execution_count": 30,
     "metadata": {},
     "output_type": "execute_result"
    }
   ],
   "source": [
    "documents[\"length\"]=documents[\"headline_text_cleaned\"].apply(lambda x:len(x.split()))\n",
    "documents.head()"
   ]
  },
  {
   "cell_type": "code",
   "execution_count": 31,
   "id": "36efee6a",
   "metadata": {
    "collapsed": true
   },
   "outputs": [
    {
     "data": {
      "image/png": "[encoded data removed]",
      "text/plain": [
       "<Figure size 432x288 with 1 Axes>"
      ]
     },
     "metadata": {
      "needs_background": "light"
     },
     "output_type": "display_data"
    }
   ],
   "source": [
    "import seaborn as sns\n",
    "import matplotlib.pyplot as plt\n",
    "\n",
    "sns.histplot(documents[\"length\"])\n",
    "plt.show()"
   ]
  },
  {
   "cell_type": "code",
   "execution_count": 32,
   "id": "60de02be",
   "metadata": {
    "collapsed": true
   },
   "outputs": [
    {
     "data": {
      "text/plain": [
       "[('police', 35078),\n",
       " ('new', 29003),\n",
       " ('man', 27172),\n",
       " ('says', 19978),\n",
       " ('us', 17407),\n",
       " ('govt', 16910),\n",
       " ('council', 16293),\n",
       " ('court', 16184),\n",
       " ('fire', 13702),\n",
       " ('nsw', 12855),\n",
       " ('plan', 12286),\n",
       " ('australia', 12112),\n",
       " ('water', 11801),\n",
       " ('qld', 11715),\n",
       " ('wa', 11426),\n",
       " ('death', 11031),\n",
       " ('crash', 10753),\n",
       " ('sydney', 10487),\n",
       " ('health', 10258),\n",
       " ('australian', 10157)]"
      ]
     },
     "execution_count": 32,
     "metadata": {},
     "output_type": "execute_result"
    }
   ],
   "source": [
    "all_sentences=\" \".join(documents[\"headline_text_cleaned\"].tolist()).split()\n",
    "from collections import Counter\n",
    "words_counts=Counter(all_sentences)\n",
    "words_counts.most_common(20)"
   ]
  },
  {
   "cell_type": "code",
   "execution_count": 33,
   "id": "30799ebe",
   "metadata": {},
   "outputs": [],
   "source": [
    "# use tfidf by removing tokens that don't appear in at least 50 documents\n",
    "vect = TfidfVectorizer(min_df=50, stop_words='english')\n",
    " \n",
    "# Fit and transform\n",
    "X = vect.fit_transform(documents.headline_text)"
   ]
  },
  {
   "cell_type": "code",
   "execution_count": 34,
   "id": "452d318b",
   "metadata": {},
   "outputs": [
    {
     "data": {
      "text/plain": [
       "(1076219, 11141)"
      ]
     },
     "execution_count": 34,
     "metadata": {},
     "output_type": "execute_result"
    }
   ],
   "source": [
    "X.shape"
   ]
  },
  {
   "cell_type": "markdown",
   "id": "0b71d7f4",
   "metadata": {},
   "source": [
    "![picture](https://lh4.googleusercontent.com/FvUGnhGjYVFUY-K1pZxIrgPJKElEKxdnaX1GfDg3suLoMY5KUzgXKRsqcs-pDso-NXGyGdkq9r6S81G2Nc5zRaEQtQ88OfBSgMzRBk3RiZTXANxTYFzTLeWEoEZTOhxPH1UYCwqd)"
   ]
  },
  {
   "cell_type": "code",
   "execution_count": 38,
   "id": "9df844c0",
   "metadata": {},
   "outputs": [
    {
     "data": {
      "text/html": [
       "<style>#sk-container-id-1 {color: black;background-color: white;}#sk-container-id-1 pre{padding: 0;}#sk-container-id-1 div.sk-toggleable {background-color: white;}#sk-container-id-1 label.sk-toggleable__label {cursor: pointer;display: block;width: 100%;margin-bottom: 0;padding: 0.3em;box-sizing: border-box;text-align: center;}#sk-container-id-1 label.sk-toggleable__label-arrow:before {content: \"▸\";float: left;margin-right: 0.25em;color: #696969;}#sk-container-id-1 label.sk-toggleable__label-arrow:hover:before {color: black;}#sk-container-id-1 div.sk-estimator:hover label.sk-toggleable__label-arrow:before {color: black;}#sk-container-id-1 div.sk-toggleable__content {max-height: 0;max-width: 0;overflow: hidden;text-align: left;background-color: #f0f8ff;}#sk-container-id-1 div.sk-toggleable__content pre {margin: 0.2em;color: black;border-radius: 0.25em;background-color: #f0f8ff;}#sk-container-id-1 input.sk-toggleable__control:checked~div.sk-toggleable__content {max-height: 200px;max-width: 100%;overflow: auto;}#sk-container-id-1 input.sk-toggleable__control:checked~label.sk-toggleable__label-arrow:before {content: \"▾\";}#sk-container-id-1 div.sk-estimator input.sk-toggleable__control:checked~label.sk-toggleable__label {background-color: #d4ebff;}#sk-container-id-1 div.sk-label input.sk-toggleable__control:checked~label.sk-toggleable__label {background-color: #d4ebff;}#sk-container-id-1 input.sk-hidden--visually {border: 0;clip: rect(1px 1px 1px 1px);clip: rect(1px, 1px, 1px, 1px);height: 1px;margin: -1px;overflow: hidden;padding: 0;position: absolute;width: 1px;}#sk-container-id-1 div.sk-estimator {font-family: monospace;background-color: #f0f8ff;border: 1px dotted black;border-radius: 0.25em;box-sizing: border-box;margin-bottom: 0.5em;}#sk-container-id-1 div.sk-estimator:hover {background-color: #d4ebff;}#sk-container-id-1 div.sk-parallel-item::after {content: \"\";width: 100%;border-bottom: 1px solid gray;flex-grow: 1;}#sk-container-id-1 div.sk-label:hover label.sk-toggleable__label {background-color: #d4ebff;}#sk-container-id-1 div.sk-serial::before {content: \"\";position: absolute;border-left: 1px solid gray;box-sizing: border-box;top: 0;bottom: 0;left: 50%;z-index: 0;}#sk-container-id-1 div.sk-serial {display: flex;flex-direction: column;align-items: center;background-color: white;padding-right: 0.2em;padding-left: 0.2em;position: relative;}#sk-container-id-1 div.sk-item {position: relative;z-index: 1;}#sk-container-id-1 div.sk-parallel {display: flex;align-items: stretch;justify-content: center;background-color: white;position: relative;}#sk-container-id-1 div.sk-item::before, #sk-container-id-1 div.sk-parallel-item::before {content: \"\";position: absolute;border-left: 1px solid gray;box-sizing: border-box;top: 0;bottom: 0;left: 50%;z-index: -1;}#sk-container-id-1 div.sk-parallel-item {display: flex;flex-direction: column;z-index: 1;position: relative;background-color: white;}#sk-container-id-1 div.sk-parallel-item:first-child::after {align-self: flex-end;width: 50%;}#sk-container-id-1 div.sk-parallel-item:last-child::after {align-self: flex-start;width: 50%;}#sk-container-id-1 div.sk-parallel-item:only-child::after {width: 0;}#sk-container-id-1 div.sk-dashed-wrapped {border: 1px dashed gray;margin: 0 0.4em 0.5em 0.4em;box-sizing: border-box;padding-bottom: 0.4em;background-color: white;}#sk-container-id-1 div.sk-label label {font-family: monospace;font-weight: bold;display: inline-block;line-height: 1.2em;}#sk-container-id-1 div.sk-label-container {text-align: center;}#sk-container-id-1 div.sk-container {/* jupyter's `normalize.less` sets `[hidden] { display: none; }` but bootstrap.min.css set `[hidden] { display: none !important; }` so we also need the `!important` here to be able to override the default hidden behavior on the sphinx rendered scikit-learn.org. See: https://github.com/scikit-learn/scikit-learn/issues/21755 */display: inline-block !important;position: relative;}#sk-container-id-1 div.sk-text-repr-fallback {display: none;}</style><div id=\"sk-container-id-1\" class=\"sk-top-container\"><div class=\"sk-text-repr-fallback\"><pre>NMF(n_components=5, random_state=5)</pre><b>In a Jupyter environment, please rerun this cell to show the HTML representation or trust the notebook. <br />On GitHub, the HTML representation is unable to render, please try loading this page with nbviewer.org.</b></div><div class=\"sk-container\" hidden><div class=\"sk-item\"><div class=\"sk-estimator sk-toggleable\"><input class=\"sk-toggleable__control sk-hidden--visually\" id=\"sk-estimator-id-1\" type=\"checkbox\" checked><label for=\"sk-estimator-id-1\" class=\"sk-toggleable__label sk-toggleable__label-arrow\">NMF</label><div class=\"sk-toggleable__content\"><pre>NMF(n_components=5, random_state=5)</pre></div></div></div></div></div>"
      ],
      "text/plain": [
       "NMF(n_components=5, random_state=5)"
      ]
     },
     "execution_count": 38,
     "metadata": {},
     "output_type": "execute_result"
    }
   ],
   "source": [
    "# Create an NMF instance: model\n",
    "# the 5 components will be the topics\n",
    "model = NMF(n_components=5, random_state=5)\n",
    " \n",
    "# Fit the model to TF-IDF\n",
    "model.fit(X)"
   ]
  },
  {
   "cell_type": "code",
   "execution_count": 39,
   "id": "9aae9f3c",
   "metadata": {},
   "outputs": [],
   "source": [
    "# Transform the TF-IDF: nmf_features\n",
    "nmf_features = model.transform(X)"
   ]
  },
  {
   "cell_type": "code",
   "execution_count": 41,
   "id": "fd5247e5",
   "metadata": {},
   "outputs": [
    {
     "data": {
      "text/plain": [
       "(1076219, 5)"
      ]
     },
     "execution_count": 41,
     "metadata": {},
     "output_type": "execute_result"
    }
   ],
   "source": [
    "nmf_features.shape"
   ]
  },
  {
   "cell_type": "code",
   "execution_count": 42,
   "id": "9447966c",
   "metadata": {},
   "outputs": [
    {
     "data": {
      "text/plain": [
       "(5, 11141)"
      ]
     },
     "execution_count": 42,
     "metadata": {},
     "output_type": "execute_result"
    }
   ],
   "source": [
    "model.components_.shape"
   ]
  },
  {
   "cell_type": "code",
   "execution_count": null,
   "id": "5f2b5a8d",
   "metadata": {},
   "outputs": [],
   "source": [
    "#documents 1076219\n",
    "#topics 5\n",
    "#features (words) 11141"
   ]
  },
  {
   "cell_type": "code",
   "execution_count": 43,
   "id": "2202a8b6",
   "metadata": {
    "collapsed": true
   },
   "outputs": [
    {
     "name": "stderr",
     "output_type": "stream",
     "text": [
      "/opt/anaconda3/lib/python3.8/site-packages/sklearn/utils/deprecation.py:87: FutureWarning: Function get_feature_names is deprecated; get_feature_names is deprecated in 1.0 and will be removed in 1.2. Please use get_feature_names_out instead.\n",
      "  warnings.warn(msg, category=FutureWarning)\n"
     ]
    },
    {
     "data": {
      "text/html": [
       "<div>\n",
       "<style scoped>\n",
       "    .dataframe tbody tr th:only-of-type {\n",
       "        vertical-align: middle;\n",
       "    }\n",
       "\n",
       "    .dataframe tbody tr th {\n",
       "        vertical-align: top;\n",
       "    }\n",
       "\n",
       "    .dataframe thead th {\n",
       "        text-align: right;\n",
       "    }\n",
       "</style>\n",
       "<table border=\"1\" class=\"dataframe\">\n",
       "  <thead>\n",
       "    <tr style=\"text-align: right;\">\n",
       "      <th></th>\n",
       "      <th>000</th>\n",
       "      <th>01</th>\n",
       "      <th>02</th>\n",
       "      <th>03</th>\n",
       "      <th>04</th>\n",
       "      <th>05</th>\n",
       "      <th>06</th>\n",
       "      <th>07</th>\n",
       "      <th>08</th>\n",
       "      <th>09</th>\n",
       "      <th>...</th>\n",
       "      <th>zimbabwean</th>\n",
       "      <th>zimbabwes</th>\n",
       "      <th>zinc</th>\n",
       "      <th>zinifex</th>\n",
       "      <th>zoe</th>\n",
       "      <th>zone</th>\n",
       "      <th>zones</th>\n",
       "      <th>zoning</th>\n",
       "      <th>zoo</th>\n",
       "      <th>zuma</th>\n",
       "    </tr>\n",
       "  </thead>\n",
       "  <tbody>\n",
       "    <tr>\n",
       "      <th>0</th>\n",
       "      <td>0.000517</td>\n",
       "      <td>0.000000</td>\n",
       "      <td>0.00000</td>\n",
       "      <td>0.000000</td>\n",
       "      <td>0.000000</td>\n",
       "      <td>0.000000</td>\n",
       "      <td>0.000000</td>\n",
       "      <td>0.000000</td>\n",
       "      <td>0.000000</td>\n",
       "      <td>0.000000</td>\n",
       "      <td>...</td>\n",
       "      <td>0.000252</td>\n",
       "      <td>0.000000</td>\n",
       "      <td>0.000042</td>\n",
       "      <td>0.000000</td>\n",
       "      <td>0.001319</td>\n",
       "      <td>0.002856</td>\n",
       "      <td>0.000000</td>\n",
       "      <td>0.000000</td>\n",
       "      <td>0.009092</td>\n",
       "      <td>0.000000</td>\n",
       "    </tr>\n",
       "    <tr>\n",
       "      <th>1</th>\n",
       "      <td>0.000681</td>\n",
       "      <td>0.000000</td>\n",
       "      <td>0.00000</td>\n",
       "      <td>0.000000</td>\n",
       "      <td>0.000000</td>\n",
       "      <td>0.000000</td>\n",
       "      <td>0.000000</td>\n",
       "      <td>0.000000</td>\n",
       "      <td>0.000000</td>\n",
       "      <td>0.000000</td>\n",
       "      <td>...</td>\n",
       "      <td>0.001804</td>\n",
       "      <td>0.000195</td>\n",
       "      <td>0.000000</td>\n",
       "      <td>0.000000</td>\n",
       "      <td>0.000158</td>\n",
       "      <td>0.006393</td>\n",
       "      <td>0.002626</td>\n",
       "      <td>0.000000</td>\n",
       "      <td>0.000000</td>\n",
       "      <td>0.000000</td>\n",
       "    </tr>\n",
       "    <tr>\n",
       "      <th>2</th>\n",
       "      <td>0.000022</td>\n",
       "      <td>0.000000</td>\n",
       "      <td>0.00000</td>\n",
       "      <td>0.000000</td>\n",
       "      <td>0.000000</td>\n",
       "      <td>0.000000</td>\n",
       "      <td>0.000000</td>\n",
       "      <td>0.000000</td>\n",
       "      <td>0.000000</td>\n",
       "      <td>0.000000</td>\n",
       "      <td>...</td>\n",
       "      <td>0.000000</td>\n",
       "      <td>0.000306</td>\n",
       "      <td>0.000440</td>\n",
       "      <td>0.000048</td>\n",
       "      <td>0.000000</td>\n",
       "      <td>0.007135</td>\n",
       "      <td>0.008004</td>\n",
       "      <td>0.001172</td>\n",
       "      <td>0.020383</td>\n",
       "      <td>0.000515</td>\n",
       "    </tr>\n",
       "    <tr>\n",
       "      <th>3</th>\n",
       "      <td>0.002704</td>\n",
       "      <td>0.005943</td>\n",
       "      <td>0.01359</td>\n",
       "      <td>0.010996</td>\n",
       "      <td>0.010697</td>\n",
       "      <td>0.008986</td>\n",
       "      <td>0.009278</td>\n",
       "      <td>0.006531</td>\n",
       "      <td>0.008561</td>\n",
       "      <td>0.010822</td>\n",
       "      <td>...</td>\n",
       "      <td>0.002485</td>\n",
       "      <td>0.002780</td>\n",
       "      <td>0.002522</td>\n",
       "      <td>0.001759</td>\n",
       "      <td>0.001601</td>\n",
       "      <td>0.036688</td>\n",
       "      <td>0.015976</td>\n",
       "      <td>0.005718</td>\n",
       "      <td>0.012310</td>\n",
       "      <td>0.001647</td>\n",
       "    </tr>\n",
       "    <tr>\n",
       "      <th>4</th>\n",
       "      <td>0.000772</td>\n",
       "      <td>0.000000</td>\n",
       "      <td>0.00000</td>\n",
       "      <td>0.000000</td>\n",
       "      <td>0.000056</td>\n",
       "      <td>0.000000</td>\n",
       "      <td>0.000000</td>\n",
       "      <td>0.000351</td>\n",
       "      <td>0.000000</td>\n",
       "      <td>0.000000</td>\n",
       "      <td>...</td>\n",
       "      <td>0.002905</td>\n",
       "      <td>0.000637</td>\n",
       "      <td>0.000000</td>\n",
       "      <td>0.000512</td>\n",
       "      <td>0.001087</td>\n",
       "      <td>0.001583</td>\n",
       "      <td>0.000102</td>\n",
       "      <td>0.000000</td>\n",
       "      <td>0.001220</td>\n",
       "      <td>0.003448</td>\n",
       "    </tr>\n",
       "  </tbody>\n",
       "</table>\n",
       "<p>5 rows × 11141 columns</p>\n",
       "</div>"
      ],
      "text/plain": [
       "        000        01       02        03        04        05        06  \\\n",
       "0  0.000517  0.000000  0.00000  0.000000  0.000000  0.000000  0.000000   \n",
       "1  0.000681  0.000000  0.00000  0.000000  0.000000  0.000000  0.000000   \n",
       "2  0.000022  0.000000  0.00000  0.000000  0.000000  0.000000  0.000000   \n",
       "3  0.002704  0.005943  0.01359  0.010996  0.010697  0.008986  0.009278   \n",
       "4  0.000772  0.000000  0.00000  0.000000  0.000056  0.000000  0.000000   \n",
       "\n",
       "         07        08        09  ...  zimbabwean  zimbabwes      zinc  \\\n",
       "0  0.000000  0.000000  0.000000  ...    0.000252   0.000000  0.000042   \n",
       "1  0.000000  0.000000  0.000000  ...    0.001804   0.000195  0.000000   \n",
       "2  0.000000  0.000000  0.000000  ...    0.000000   0.000306  0.000440   \n",
       "3  0.006531  0.008561  0.010822  ...    0.002485   0.002780  0.002522   \n",
       "4  0.000351  0.000000  0.000000  ...    0.002905   0.000637  0.000000   \n",
       "\n",
       "    zinifex       zoe      zone     zones    zoning       zoo      zuma  \n",
       "0  0.000000  0.001319  0.002856  0.000000  0.000000  0.009092  0.000000  \n",
       "1  0.000000  0.000158  0.006393  0.002626  0.000000  0.000000  0.000000  \n",
       "2  0.000048  0.000000  0.007135  0.008004  0.001172  0.020383  0.000515  \n",
       "3  0.001759  0.001601  0.036688  0.015976  0.005718  0.012310  0.001647  \n",
       "4  0.000512  0.001087  0.001583  0.000102  0.000000  0.001220  0.003448  \n",
       "\n",
       "[5 rows x 11141 columns]"
      ]
     },
     "execution_count": 43,
     "metadata": {},
     "output_type": "execute_result"
    }
   ],
   "source": [
    "# Create a DataFrame: components_df\n",
    "components_df = pd.DataFrame(model.components_, columns=vect.get_feature_names())\n",
    "components_df"
   ]
  },
  {
   "cell_type": "code",
   "execution_count": 44,
   "id": "4afd80de",
   "metadata": {},
   "outputs": [
    {
     "name": "stdout",
     "output_type": "stream",
     "text": [
      "For topic 1 the words with the highest value are:\n",
      "man         7.842989\n",
      "charged     2.874227\n",
      "murder      1.228885\n",
      "crash       1.077560\n",
      "dies        1.059755\n",
      "jailed      0.877675\n",
      "car         0.810381\n",
      "stabbing    0.650639\n",
      "missing     0.649287\n",
      "guilty      0.621733\n",
      "Name: 0, dtype: float64\n",
      "\n",
      "\n",
      "For topic 2 the words with the highest value are:\n",
      "police         7.273933\n",
      "probe          0.846202\n",
      "investigate    0.807370\n",
      "missing        0.631009\n",
      "search         0.629721\n",
      "death          0.501805\n",
      "car            0.447389\n",
      "hunt           0.425903\n",
      "crash          0.407507\n",
      "officer        0.353271\n",
      "Name: 1, dtype: float64\n",
      "\n",
      "\n",
      "For topic 3 the words with the highest value are:\n",
      "new          7.022154\n",
      "zealand      0.467464\n",
      "laws         0.333147\n",
      "year         0.298963\n",
      "home         0.217019\n",
      "york         0.202951\n",
      "hospital     0.201646\n",
      "centre       0.200862\n",
      "deal         0.185725\n",
      "australia    0.167608\n",
      "Name: 2, dtype: float64\n",
      "\n",
      "\n",
      "For topic 4 the words with the highest value are:\n",
      "govt       2.262823\n",
      "council    1.844362\n",
      "says       1.621554\n",
      "nsw        1.241413\n",
      "plan       1.186103\n",
      "qld        1.132639\n",
      "water      1.091522\n",
      "health     0.923360\n",
      "rural      0.834904\n",
      "wa         0.807523\n",
      "Name: 3, dtype: float64\n",
      "\n",
      "\n",
      "For topic 5 the words with the highest value are:\n",
      "court      4.915197\n",
      "accused    1.390431\n",
      "face       1.269924\n",
      "murder     0.921899\n",
      "faces      0.655855\n",
      "charges    0.649247\n",
      "told       0.555192\n",
      "case       0.489318\n",
      "high       0.440493\n",
      "sex        0.378636\n",
      "Name: 4, dtype: float64\n",
      "\n",
      "\n"
     ]
    }
   ],
   "source": [
    "for topic in range(components_df.shape[0]):\n",
    "    tmp = components_df.iloc[topic]\n",
    "    print(f'For topic {topic+1} the words with the highest value are:')\n",
    "    print(tmp.nlargest(10))\n",
    "    print('\\n')"
   ]
  },
  {
   "cell_type": "code",
   "execution_count": 45,
   "id": "ad4908fc",
   "metadata": {},
   "outputs": [],
   "source": [
    "news = \"\"\"15-year-old girl stabbed to death in grocery store during fight with 4 younger girls\n",
    "Authorities said they gathered lots of evidence from videos on social media\"\"\""
   ]
  },
  {
   "cell_type": "code",
   "execution_count": 46,
   "id": "4a12b95b",
   "metadata": {},
   "outputs": [],
   "source": [
    "# Transform the TF-IDF\n",
    "# Transform the TF-IDF: nmf_features"
   ]
  },
  {
   "cell_type": "code",
   "execution_count": 48,
   "id": "8e1f3fc6",
   "metadata": {},
   "outputs": [],
   "source": [
    "x=vect.transform([news])"
   ]
  },
  {
   "cell_type": "code",
   "execution_count": 50,
   "id": "50d0bb10",
   "metadata": {},
   "outputs": [],
   "source": [
    "nmf_features=model.transform(x)"
   ]
  },
  {
   "cell_type": "code",
   "execution_count": 55,
   "id": "e5bf0ed6",
   "metadata": {},
   "outputs": [
    {
     "data": {
      "text/plain": [
       "4"
      ]
     },
     "execution_count": 55,
     "metadata": {},
     "output_type": "execute_result"
    }
   ],
   "source": [
    "pd.DataFrame(nmf_features).idxmax(axis=1)[0]+1"
   ]
  },
  {
   "cell_type": "code",
   "execution_count": null,
   "id": "f3b2ceed",
   "metadata": {},
   "outputs": [],
   "source": []
  }
 ],
 "metadata": {
  "kernelspec": {
   "display_name": "Python 3",
   "language": "python",
   "name": "python3"
  },
  "language_info": {
   "codemirror_mode": {
    "name": "ipython",
    "version": 3
   },
   "file_extension": ".py",
   "mimetype": "text/x-python",
   "name": "python",
   "nbconvert_exporter": "python",
   "pygments_lexer": "ipython3",
   "version": "3.8.8"
  }
 },
 "nbformat": 4,
 "nbformat_minor": 5
}
