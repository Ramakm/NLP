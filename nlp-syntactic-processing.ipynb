{
 "cells": [
  {
   "cell_type": "markdown",
   "id": "5402ef4e",
   "metadata": {
    "papermill": {
     "duration": 0.043251,
     "end_time": "2023-06-16T06:27:38.857078",
     "exception": false,
     "start_time": "2023-06-16T06:27:38.813827",
     "status": "completed"
    },
    "tags": []
   },
   "source": [
    "# **Syntactic Processing & PoS Tagging**"
   ]
  },
  {
   "cell_type": "markdown",
   "id": "88779996",
   "metadata": {
    "papermill": {
     "duration": 0.041389,
     "end_time": "2023-06-16T06:27:38.940028",
     "exception": false,
     "start_time": "2023-06-16T06:27:38.898639",
     "status": "completed"
    },
    "tags": []
   },
   "source": [
    "Heteronyms are the words that have same spelling but mean different things when pronounced differently.\n",
    "\n",
    "Recall the word lead from the lectures. It can refer to the metal lead or the act of leadership. The two pronounciations have different meanings.\n",
    "\n",
    "For machine translation systems or text to speech systems, the ability to identify the correct sense of the word is crucial.\n",
    "\n",
    "Let us have a look at this example:\n",
    "\n",
    "https://translate.google.com/?sl=en&tl=hi&text=She%20wished%20she%20could%20desert%20him%20in%20the%20desert.%0A&op=translate\n",
    "\n",
    "Example taken from: http://www-personal.umich.edu/~cellis/heteronym.html"
   ]
  },
  {
   "cell_type": "code",
   "execution_count": 1,
   "id": "8a38ec06",
   "metadata": {
    "execution": {
     "iopub.execute_input": "2023-06-16T06:27:39.024830Z",
     "iopub.status.busy": "2023-06-16T06:27:39.024457Z",
     "iopub.status.idle": "2023-06-16T06:27:52.160020Z",
     "shell.execute_reply": "2023-06-16T06:27:52.159092Z"
    },
    "papermill": {
     "duration": 13.180877,
     "end_time": "2023-06-16T06:27:52.162549",
     "exception": false,
     "start_time": "2023-06-16T06:27:38.981672",
     "status": "completed"
    },
    "tags": []
   },
   "outputs": [
    {
     "name": "stderr",
     "output_type": "stream",
     "text": [
      "/opt/conda/lib/python3.10/site-packages/tensorflow_io/python/ops/__init__.py:98: UserWarning: unable to load libtensorflow_io_plugins.so: unable to open file: libtensorflow_io_plugins.so, from paths: ['/opt/conda/lib/python3.10/site-packages/tensorflow_io/python/ops/libtensorflow_io_plugins.so']\n",
      "caused by: ['/opt/conda/lib/python3.10/site-packages/tensorflow_io/python/ops/libtensorflow_io_plugins.so: undefined symbol: _ZN3tsl6StatusC1EN10tensorflow5error4CodeESt17basic_string_viewIcSt11char_traitsIcEENS_14SourceLocationE']\n",
      "  warnings.warn(f\"unable to load libtensorflow_io_plugins.so: {e}\")\n",
      "/opt/conda/lib/python3.10/site-packages/tensorflow_io/python/ops/__init__.py:104: UserWarning: file system plugins are not loaded: unable to open file: libtensorflow_io.so, from paths: ['/opt/conda/lib/python3.10/site-packages/tensorflow_io/python/ops/libtensorflow_io.so']\n",
      "caused by: ['/opt/conda/lib/python3.10/site-packages/tensorflow_io/python/ops/libtensorflow_io.so: undefined symbol: _ZTVN10tensorflow13GcsFileSystemE']\n",
      "  warnings.warn(f\"file system plugins are not loaded: {e}\")\n"
     ]
    }
   ],
   "source": [
    "# Import SpaCy library\n",
    "import spacy\n",
    "\n",
    "import warnings\n",
    "warnings.filterwarnings('ignore')"
   ]
  },
  {
   "cell_type": "code",
   "execution_count": 2,
   "id": "f4c23465",
   "metadata": {
    "execution": {
     "iopub.execute_input": "2023-06-16T06:27:52.247503Z",
     "iopub.status.busy": "2023-06-16T06:27:52.246812Z",
     "iopub.status.idle": "2023-06-16T06:27:53.224355Z",
     "shell.execute_reply": "2023-06-16T06:27:53.223467Z"
    },
    "papermill": {
     "duration": 1.023129,
     "end_time": "2023-06-16T06:27:53.226918",
     "exception": false,
     "start_time": "2023-06-16T06:27:52.203789",
     "status": "completed"
    },
    "tags": []
   },
   "outputs": [],
   "source": [
    "# Load pre-trained SpaCy model for performing basic \n",
    "# NLP tasks such as POS tagging, parsing, etc.\n",
    "model = spacy.load(\"en_core_web_sm\")"
   ]
  },
  {
   "cell_type": "code",
   "execution_count": 3,
   "id": "02d3b247",
   "metadata": {
    "execution": {
     "iopub.execute_input": "2023-06-16T06:27:53.314601Z",
     "iopub.status.busy": "2023-06-16T06:27:53.314209Z",
     "iopub.status.idle": "2023-06-16T06:27:53.345002Z",
     "shell.execute_reply": "2023-06-16T06:27:53.344020Z"
    },
    "papermill": {
     "duration": 0.077727,
     "end_time": "2023-06-16T06:27:53.347364",
     "exception": false,
     "start_time": "2023-06-16T06:27:53.269637",
     "status": "completed"
    },
    "tags": []
   },
   "outputs": [],
   "source": [
    "#Use the model to process the input sentence\n",
    "tokens = model(\"She wished she could desert him in the desert.\")"
   ]
  },
  {
   "cell_type": "code",
   "execution_count": 4,
   "id": "77b5b60c",
   "metadata": {
    "execution": {
     "iopub.execute_input": "2023-06-16T06:27:53.432922Z",
     "iopub.status.busy": "2023-06-16T06:27:53.432479Z",
     "iopub.status.idle": "2023-06-16T06:27:53.438934Z",
     "shell.execute_reply": "2023-06-16T06:27:53.437566Z"
    },
    "papermill": {
     "duration": 0.051317,
     "end_time": "2023-06-16T06:27:53.441021",
     "exception": false,
     "start_time": "2023-06-16T06:27:53.389704",
     "status": "completed"
    },
    "tags": []
   },
   "outputs": [
    {
     "name": "stdout",
     "output_type": "stream",
     "text": [
      "She -- PRON -- PRP\n",
      "wished -- VERB -- VBD\n",
      "she -- PRON -- PRP\n",
      "could -- AUX -- MD\n",
      "desert -- VERB -- VB\n",
      "him -- PRON -- PRP\n",
      "in -- ADP -- IN\n",
      "the -- DET -- DT\n",
      "desert -- NOUN -- NN\n",
      ". -- PUNCT -- .\n"
     ]
    }
   ],
   "source": [
    "# Print the tokens and their respective PoS tags.\n",
    "for token in tokens:\n",
    "    print(token.text, \"--\", token.pos_, \"--\", token.tag_)"
   ]
  },
  {
   "cell_type": "markdown",
   "id": "9942c51d",
   "metadata": {
    "papermill": {
     "duration": 0.041315,
     "end_time": "2023-06-16T06:27:53.524089",
     "exception": false,
     "start_time": "2023-06-16T06:27:53.482774",
     "status": "completed"
    },
    "tags": []
   },
   "source": [
    "Note here that in the above example, the two instances of desert have different PoS tags and hence, the text to speech system can use this information to generate the correct pronounciation.\n",
    "\n",
    "The above task is a specific example of the larger NLP problem called Word Sense Disambiguation (WSD). For words that have more than one meaning, WSD is the problem of identifying the correct meaning of the word based on the context in which the word is used.\n",
    "\n",
    "Note that this technique will not work when the different meanings have the same PoS tags.\n",
    "\n",
    "https://translate.google.com/?sl=en&tl=hi&text=The%20bass%20swam%20around%20the%20bass%20drum%20on%20the%20ocean%20floor.&op=translate"
   ]
  },
  {
   "cell_type": "code",
   "execution_count": 5,
   "id": "40908a43",
   "metadata": {
    "execution": {
     "iopub.execute_input": "2023-06-16T06:27:53.609127Z",
     "iopub.status.busy": "2023-06-16T06:27:53.608748Z",
     "iopub.status.idle": "2023-06-16T06:27:53.622941Z",
     "shell.execute_reply": "2023-06-16T06:27:53.621782Z"
    },
    "papermill": {
     "duration": 0.05902,
     "end_time": "2023-06-16T06:27:53.625014",
     "exception": false,
     "start_time": "2023-06-16T06:27:53.565994",
     "status": "completed"
    },
    "tags": []
   },
   "outputs": [
    {
     "name": "stdout",
     "output_type": "stream",
     "text": [
      "The -- DET -- DT\n",
      "bass -- NOUN -- NN\n",
      "swam -- NOUN -- NN\n",
      "around -- ADP -- IN\n",
      "the -- DET -- DT\n",
      "bass -- NOUN -- NN\n",
      "drum -- NOUN -- NN\n",
      "on -- ADP -- IN\n",
      "the -- DET -- DT\n",
      "ocean -- NOUN -- NN\n",
      "floor -- NOUN -- NN\n"
     ]
    }
   ],
   "source": [
    "# Let's take a new example.\n",
    "tokens = model(\"The bass swam around the bass drum on the ocean floor\")\n",
    "for token in tokens:\n",
    "    print(token.text, \"--\", token.pos_, \"--\", token.tag_)"
   ]
  },
  {
   "cell_type": "code",
   "execution_count": 6,
   "id": "94266013",
   "metadata": {
    "execution": {
     "iopub.execute_input": "2023-06-16T06:27:53.710965Z",
     "iopub.status.busy": "2023-06-16T06:27:53.710580Z",
     "iopub.status.idle": "2023-06-16T06:27:53.714724Z",
     "shell.execute_reply": "2023-06-16T06:27:53.713806Z"
    },
    "papermill": {
     "duration": 0.048682,
     "end_time": "2023-06-16T06:27:53.716531",
     "exception": false,
     "start_time": "2023-06-16T06:27:53.667849",
     "status": "completed"
    },
    "tags": []
   },
   "outputs": [],
   "source": [
    "# Import libraries\n",
    "import pandas as pd\n",
    "import numpy as np\n",
    "import os"
   ]
  },
  {
   "attachments": {
    "399b14d4-020f-45e1-8944-ac6e6c23e87a.png": {
     "image/png": "[encoded data removed]"
    }
   },
   "cell_type": "markdown",
   "id": "d75d096a",
   "metadata": {
    "papermill": {
     "duration": 0.041304,
     "end_time": "2023-06-16T06:27:53.800490",
     "exception": false,
     "start_time": "2023-06-16T06:27:53.759186",
     "status": "completed"
    },
    "tags": []
   },
   "source": [
    "![image.png](attachment:399b14d4-020f-45e1-8944-ac6e6c23e87a.png)"
   ]
  },
  {
   "cell_type": "code",
   "execution_count": 7,
   "id": "b44341d8",
   "metadata": {
    "execution": {
     "iopub.execute_input": "2023-06-16T06:27:53.887139Z",
     "iopub.status.busy": "2023-06-16T06:27:53.886213Z",
     "iopub.status.idle": "2023-06-16T06:27:53.890530Z",
     "shell.execute_reply": "2023-06-16T06:27:53.889778Z"
    },
    "papermill": {
     "duration": 0.04971,
     "end_time": "2023-06-16T06:27:53.892498",
     "exception": false,
     "start_time": "2023-06-16T06:27:53.842788",
     "status": "completed"
    },
    "tags": []
   },
   "outputs": [],
   "source": [
    "sent1 = \"I loved the screen on this phone.\"\n",
    "sent2 = \"The battery life on this phone is great.\"\n",
    "sent3 = \"The speakers are pathetic.\""
   ]
  },
  {
   "cell_type": "markdown",
   "id": "76997e91",
   "metadata": {
    "papermill": {
     "duration": 0.041467,
     "end_time": "2023-06-16T06:27:53.975964",
     "exception": false,
     "start_time": "2023-06-16T06:27:53.934497",
     "status": "completed"
    },
    "tags": []
   },
   "source": [
    "## Lets do a POS parse and see if we can figure out some patterns."
   ]
  },
  {
   "cell_type": "code",
   "execution_count": 8,
   "id": "8b7ef017",
   "metadata": {
    "execution": {
     "iopub.execute_input": "2023-06-16T06:27:54.060473Z",
     "iopub.status.busy": "2023-06-16T06:27:54.059768Z",
     "iopub.status.idle": "2023-06-16T06:27:54.874043Z",
     "shell.execute_reply": "2023-06-16T06:27:54.872922Z"
    },
    "papermill": {
     "duration": 0.859579,
     "end_time": "2023-06-16T06:27:54.876643",
     "exception": false,
     "start_time": "2023-06-16T06:27:54.017064",
     "status": "completed"
    },
    "tags": []
   },
   "outputs": [],
   "source": [
    "model = spacy.load(\"en_core_web_sm\")"
   ]
  },
  {
   "cell_type": "code",
   "execution_count": 9,
   "id": "8a3dacb0",
   "metadata": {
    "execution": {
     "iopub.execute_input": "2023-06-16T06:27:54.963651Z",
     "iopub.status.busy": "2023-06-16T06:27:54.962953Z",
     "iopub.status.idle": "2023-06-16T06:27:54.974589Z",
     "shell.execute_reply": "2023-06-16T06:27:54.973715Z"
    },
    "papermill": {
     "duration": 0.057675,
     "end_time": "2023-06-16T06:27:54.976798",
     "exception": false,
     "start_time": "2023-06-16T06:27:54.919123",
     "status": "completed"
    },
    "tags": []
   },
   "outputs": [],
   "source": [
    "sentence1 = model(sent1)"
   ]
  },
  {
   "cell_type": "code",
   "execution_count": 10,
   "id": "446130a8",
   "metadata": {
    "execution": {
     "iopub.execute_input": "2023-06-16T06:27:55.061723Z",
     "iopub.status.busy": "2023-06-16T06:27:55.061023Z",
     "iopub.status.idle": "2023-06-16T06:27:55.066605Z",
     "shell.execute_reply": "2023-06-16T06:27:55.065606Z"
    },
    "papermill": {
     "duration": 0.050333,
     "end_time": "2023-06-16T06:27:55.068556",
     "exception": false,
     "start_time": "2023-06-16T06:27:55.018223",
     "status": "completed"
    },
    "tags": []
   },
   "outputs": [
    {
     "name": "stdout",
     "output_type": "stream",
     "text": [
      "I -- PRON -- PRP\n",
      "loved -- VERB -- VBD\n",
      "the -- DET -- DT\n",
      "screen -- NOUN -- NN\n",
      "on -- ADP -- IN\n",
      "this -- DET -- DT\n",
      "phone -- NOUN -- NN\n",
      ". -- PUNCT -- .\n"
     ]
    }
   ],
   "source": [
    "# Print the PoS tag of sent1\n",
    "for token in sentence1:\n",
    "    print(token.text, \"--\", token.pos_, \"--\", token.tag_)"
   ]
  },
  {
   "cell_type": "code",
   "execution_count": 11,
   "id": "22cf25c5",
   "metadata": {
    "execution": {
     "iopub.execute_input": "2023-06-16T06:27:55.154302Z",
     "iopub.status.busy": "2023-06-16T06:27:55.153594Z",
     "iopub.status.idle": "2023-06-16T06:27:55.165288Z",
     "shell.execute_reply": "2023-06-16T06:27:55.164124Z"
    },
    "papermill": {
     "duration": 0.057265,
     "end_time": "2023-06-16T06:27:55.167668",
     "exception": false,
     "start_time": "2023-06-16T06:27:55.110403",
     "status": "completed"
    },
    "tags": []
   },
   "outputs": [],
   "source": [
    "# Print the PoS tag of sent2\n",
    "sentence2 = model(sent2)"
   ]
  },
  {
   "cell_type": "code",
   "execution_count": 12,
   "id": "44e1a2bd",
   "metadata": {
    "execution": {
     "iopub.execute_input": "2023-06-16T06:27:55.253114Z",
     "iopub.status.busy": "2023-06-16T06:27:55.252721Z",
     "iopub.status.idle": "2023-06-16T06:27:55.258867Z",
     "shell.execute_reply": "2023-06-16T06:27:55.257652Z"
    },
    "papermill": {
     "duration": 0.052176,
     "end_time": "2023-06-16T06:27:55.261299",
     "exception": false,
     "start_time": "2023-06-16T06:27:55.209123",
     "status": "completed"
    },
    "tags": []
   },
   "outputs": [
    {
     "name": "stdout",
     "output_type": "stream",
     "text": [
      "The -- DET -- DT\n",
      "battery -- NOUN -- NN\n",
      "life -- NOUN -- NN\n",
      "on -- ADP -- IN\n",
      "this -- DET -- DT\n",
      "phone -- NOUN -- NN\n",
      "is -- AUX -- VBZ\n",
      "great -- ADJ -- JJ\n",
      ". -- PUNCT -- .\n"
     ]
    }
   ],
   "source": [
    "for token in sentence2:\n",
    "    print(token.text, \"--\", token.pos_, \"--\", token.tag_)"
   ]
  },
  {
   "cell_type": "code",
   "execution_count": 13,
   "id": "78589814",
   "metadata": {
    "execution": {
     "iopub.execute_input": "2023-06-16T06:27:55.346381Z",
     "iopub.status.busy": "2023-06-16T06:27:55.346023Z",
     "iopub.status.idle": "2023-06-16T06:27:55.359033Z",
     "shell.execute_reply": "2023-06-16T06:27:55.358071Z"
    },
    "papermill": {
     "duration": 0.058377,
     "end_time": "2023-06-16T06:27:55.361550",
     "exception": false,
     "start_time": "2023-06-16T06:27:55.303173",
     "status": "completed"
    },
    "tags": []
   },
   "outputs": [],
   "source": [
    "# Print the PoS tag of sent3\n",
    "sentence3 = model(sent3)"
   ]
  },
  {
   "cell_type": "code",
   "execution_count": 14,
   "id": "f8aa4c6c",
   "metadata": {
    "execution": {
     "iopub.execute_input": "2023-06-16T06:27:55.447037Z",
     "iopub.status.busy": "2023-06-16T06:27:55.446346Z",
     "iopub.status.idle": "2023-06-16T06:27:55.451660Z",
     "shell.execute_reply": "2023-06-16T06:27:55.450553Z"
    },
    "papermill": {
     "duration": 0.049742,
     "end_time": "2023-06-16T06:27:55.453549",
     "exception": false,
     "start_time": "2023-06-16T06:27:55.403807",
     "status": "completed"
    },
    "tags": []
   },
   "outputs": [
    {
     "name": "stdout",
     "output_type": "stream",
     "text": [
      "The -- DET -- DT\n",
      "speakers -- NOUN -- NNS\n",
      "are -- AUX -- VBP\n",
      "pathetic -- ADJ -- JJ\n",
      ". -- PUNCT -- .\n"
     ]
    }
   ],
   "source": [
    "for token in sentence3:\n",
    "    print(token.text, \"--\", token.pos_,\"--\", token.tag_)"
   ]
  },
  {
   "cell_type": "markdown",
   "id": "46154537",
   "metadata": {
    "papermill": {
     "duration": 0.040871,
     "end_time": "2023-06-16T06:27:55.535640",
     "exception": false,
     "start_time": "2023-06-16T06:27:55.494769",
     "status": "completed"
    },
    "tags": []
   },
   "source": [
    "#### Product features such as screen, battery, speaker have a POS tag of NOUN"
   ]
  },
  {
   "cell_type": "markdown",
   "id": "e4688aa8",
   "metadata": {
    "papermill": {
     "duration": 0.041875,
     "end_time": "2023-06-16T06:27:55.618891",
     "exception": false,
     "start_time": "2023-06-16T06:27:55.577016",
     "status": "completed"
    },
    "tags": []
   },
   "source": [
    "**Summary:**\n",
    "* Product features such as screen, battery and speaker have a POS tag of Noun\n",
    "* If we can find the frequency count of all the nouns in our data, then by looking at top-n nouns we can find out what product features people are talking about\n",
    "* Check hypothesis on a real world dataset"
   ]
  },
  {
   "cell_type": "markdown",
   "id": "3875bb40",
   "metadata": {
    "papermill": {
     "duration": 0.042106,
     "end_time": "2023-06-16T06:27:55.703002",
     "exception": false,
     "start_time": "2023-06-16T06:27:55.660896",
     "status": "completed"
    },
    "tags": []
   },
   "source": [
    "## **Samsung Data Review:**"
   ]
  },
  {
   "cell_type": "code",
   "execution_count": 15,
   "id": "97971007",
   "metadata": {
    "execution": {
     "iopub.execute_input": "2023-06-16T06:27:55.787436Z",
     "iopub.status.busy": "2023-06-16T06:27:55.786474Z",
     "iopub.status.idle": "2023-06-16T06:27:56.585032Z",
     "shell.execute_reply": "2023-06-16T06:27:56.584213Z"
    },
    "papermill": {
     "duration": 0.843229,
     "end_time": "2023-06-16T06:27:56.587392",
     "exception": false,
     "start_time": "2023-06-16T06:27:55.744163",
     "status": "completed"
    },
    "tags": []
   },
   "outputs": [],
   "source": [
    "nlp = spacy.load(\"en_core_web_sm\")"
   ]
  },
  {
   "cell_type": "code",
   "execution_count": 16,
   "id": "a6626e06",
   "metadata": {
    "execution": {
     "iopub.execute_input": "2023-06-16T06:27:56.675037Z",
     "iopub.status.busy": "2023-06-16T06:27:56.674461Z",
     "iopub.status.idle": "2023-06-16T06:27:56.836545Z",
     "shell.execute_reply": "2023-06-16T06:27:56.835154Z"
    },
    "papermill": {
     "duration": 0.208841,
     "end_time": "2023-06-16T06:27:56.839012",
     "exception": false,
     "start_time": "2023-06-16T06:27:56.630171",
     "status": "completed"
    },
    "tags": []
   },
   "outputs": [],
   "source": [
    "# Load the Samsung.txt dataset\n",
    "con=open(\"/kaggle/input/samsungtxt/Samsung.txt\",'r', encoding=\"utf-8\")\n",
    "samsung_reviews=con.read()\n",
    "con.close()"
   ]
  },
  {
   "cell_type": "code",
   "execution_count": 17,
   "id": "0f5e5897",
   "metadata": {
    "execution": {
     "iopub.execute_input": "2023-06-16T06:27:56.924334Z",
     "iopub.status.busy": "2023-06-16T06:27:56.923946Z",
     "iopub.status.idle": "2023-06-16T06:27:56.952449Z",
     "shell.execute_reply": "2023-06-16T06:27:56.951393Z"
    },
    "papermill": {
     "duration": 0.07368,
     "end_time": "2023-06-16T06:27:56.954694",
     "exception": false,
     "start_time": "2023-06-16T06:27:56.881014",
     "status": "completed"
    },
    "tags": []
   },
   "outputs": [
    {
     "data": {
      "text/plain": [
       "46355"
      ]
     },
     "execution_count": 17,
     "metadata": {},
     "output_type": "execute_result"
    }
   ],
   "source": [
    "len(samsung_reviews.split(\"\\n\"))"
   ]
  },
  {
   "cell_type": "markdown",
   "id": "27e3e55c",
   "metadata": {
    "papermill": {
     "duration": 0.040971,
     "end_time": "2023-06-16T06:27:57.037188",
     "exception": false,
     "start_time": "2023-06-16T06:27:56.996217",
     "status": "completed"
    },
    "tags": []
   },
   "source": [
    "#### Dataset is a text file where each review is in a new line"
   ]
  },
  {
   "cell_type": "code",
   "execution_count": 18,
   "id": "04c8cf99",
   "metadata": {
    "execution": {
     "iopub.execute_input": "2023-06-16T06:27:57.122468Z",
     "iopub.status.busy": "2023-06-16T06:27:57.122105Z",
     "iopub.status.idle": "2023-06-16T06:27:57.148975Z",
     "shell.execute_reply": "2023-06-16T06:27:57.147843Z"
    },
    "papermill": {
     "duration": 0.072668,
     "end_time": "2023-06-16T06:27:57.151240",
     "exception": false,
     "start_time": "2023-06-16T06:27:57.078572",
     "status": "completed"
    },
    "tags": []
   },
   "outputs": [
    {
     "data": {
      "text/plain": [
       "[\"I feel so LUCKY to have found this used (phone to us & not used hard at all), phone on line from someone who upgraded and sold this one. My Son liked his old one that finally fell apart after 2.5+ years and didn't want an upgrade!! Thank you Seller, we really appreciate it & your honesty re: said used phone.I recommend this seller very highly & would but from them again!!\",\n",
       " 'nice phone, nice up grade from my pantach revue. Very clean set up and easy set up. never had an android phone but they are fantastic to say the least. perfect size for surfing and social media. great phone samsung',\n",
       " 'Very pleased',\n",
       " 'It works good but it goes slow sometimes but its a very good phone I love it']"
      ]
     },
     "execution_count": 18,
     "metadata": {},
     "output_type": "execute_result"
    }
   ],
   "source": [
    "samsung_reviews.split(\"\\n\")[0:4]"
   ]
  },
  {
   "cell_type": "markdown",
   "id": "2ba705f2",
   "metadata": {
    "papermill": {
     "duration": 0.043198,
     "end_time": "2023-06-16T06:27:57.236687",
     "exception": false,
     "start_time": "2023-06-16T06:27:57.193489",
     "status": "completed"
    },
    "tags": []
   },
   "source": [
    "#### Will our hypothesis hold on real world data? Product features---POS_NOUN"
   ]
  },
  {
   "cell_type": "code",
   "execution_count": 19,
   "id": "a2418a84",
   "metadata": {
    "execution": {
     "iopub.execute_input": "2023-06-16T06:27:57.326321Z",
     "iopub.status.busy": "2023-06-16T06:27:57.325625Z",
     "iopub.status.idle": "2023-06-16T06:27:57.373133Z",
     "shell.execute_reply": "2023-06-16T06:27:57.372317Z"
    },
    "papermill": {
     "duration": 0.092407,
     "end_time": "2023-06-16T06:27:57.375096",
     "exception": false,
     "start_time": "2023-06-16T06:27:57.282689",
     "status": "completed"
    },
    "tags": []
   },
   "outputs": [
    {
     "data": {
      "text/plain": [
       "I feel so LUCKY to have found this used (phone to us & not used hard at all), phone on line from someone who upgraded and sold this one. My Son liked his old one that finally fell apart after 2.5+ years and didn't want an upgrade!! Thank you Seller, we really appreciate it & your honesty re: said used phone.I recommend this seller very highly & would but from them again!!"
      ]
     },
     "execution_count": 19,
     "metadata": {},
     "output_type": "execute_result"
    }
   ],
   "source": [
    "review1=samsung_reviews.split(\"\\n\")[0]\n",
    "review1=nlp(review1)\n",
    "review1"
   ]
  },
  {
   "cell_type": "markdown",
   "id": "bc76e79d",
   "metadata": {
    "papermill": {
     "duration": 0.041863,
     "end_time": "2023-06-16T06:27:57.458626",
     "exception": false,
     "start_time": "2023-06-16T06:27:57.416763",
     "status": "completed"
    },
    "tags": []
   },
   "source": [
    "#### Lets do nlp parse on part of one review in our dataset"
   ]
  },
  {
   "cell_type": "code",
   "execution_count": 20,
   "id": "578040de",
   "metadata": {
    "execution": {
     "iopub.execute_input": "2023-06-16T06:27:57.545672Z",
     "iopub.status.busy": "2023-06-16T06:27:57.545188Z",
     "iopub.status.idle": "2023-06-16T06:27:57.551850Z",
     "shell.execute_reply": "2023-06-16T06:27:57.550802Z"
    },
    "papermill": {
     "duration": 0.053806,
     "end_time": "2023-06-16T06:27:57.554368",
     "exception": false,
     "start_time": "2023-06-16T06:27:57.500562",
     "status": "completed"
    },
    "tags": []
   },
   "outputs": [
    {
     "name": "stdout",
     "output_type": "stream",
     "text": [
      "I -- I -- PRON\n",
      "feel -- feel -- VERB\n",
      "so -- so -- ADV\n",
      "LUCKY -- LUCKY -- NOUN\n",
      "to -- to -- PART\n",
      "have -- have -- AUX\n",
      "found -- find -- VERB\n",
      "this -- this -- DET\n",
      "used -- use -- VERB\n",
      "( -- ( -- PUNCT\n"
     ]
    }
   ],
   "source": [
    "for tok in review1[0:10]:\n",
    "    print(tok.text, '--', tok.lemma_,'--', tok.pos_)"
   ]
  },
  {
   "cell_type": "markdown",
   "id": "162df8cf",
   "metadata": {
    "papermill": {
     "duration": 0.044242,
     "end_time": "2023-06-16T06:27:57.642293",
     "exception": false,
     "start_time": "2023-06-16T06:27:57.598051",
     "status": "completed"
    },
    "tags": []
   },
   "source": [
    "#### Real world data is usually messy, observe the words found and used"
   ]
  },
  {
   "cell_type": "code",
   "execution_count": 21,
   "id": "012dd615",
   "metadata": {
    "execution": {
     "iopub.execute_input": "2023-06-16T06:27:57.740276Z",
     "iopub.status.busy": "2023-06-16T06:27:57.739477Z",
     "iopub.status.idle": "2023-06-16T06:27:57.745535Z",
     "shell.execute_reply": "2023-06-16T06:27:57.744408Z"
    },
    "papermill": {
     "duration": 0.056514,
     "end_time": "2023-06-16T06:27:57.747734",
     "exception": false,
     "start_time": "2023-06-16T06:27:57.691220",
     "status": "completed"
    },
    "tags": []
   },
   "outputs": [],
   "source": [
    "pos = []\n",
    "lemma = []\n",
    "text = []\n",
    "\n",
    "for tok in review1:\n",
    "    pos.append(tok.pos_)\n",
    "    lemma.append(tok.lemma_)\n",
    "    text.append(tok.text)"
   ]
  },
  {
   "cell_type": "code",
   "execution_count": 22,
   "id": "aab5df33",
   "metadata": {
    "execution": {
     "iopub.execute_input": "2023-06-16T06:27:57.833359Z",
     "iopub.status.busy": "2023-06-16T06:27:57.832731Z",
     "iopub.status.idle": "2023-06-16T06:27:57.865104Z",
     "shell.execute_reply": "2023-06-16T06:27:57.864019Z"
    },
    "papermill": {
     "duration": 0.077693,
     "end_time": "2023-06-16T06:27:57.867183",
     "exception": false,
     "start_time": "2023-06-16T06:27:57.789490",
     "status": "completed"
    },
    "tags": []
   },
   "outputs": [
    {
     "data": {
      "text/html": [
       "<div>\n",
       "<style scoped>\n",
       "    .dataframe tbody tr th:only-of-type {\n",
       "        vertical-align: middle;\n",
       "    }\n",
       "\n",
       "    .dataframe tbody tr th {\n",
       "        vertical-align: top;\n",
       "    }\n",
       "\n",
       "    .dataframe thead th {\n",
       "        text-align: right;\n",
       "    }\n",
       "</style>\n",
       "<table border=\"1\" class=\"dataframe\">\n",
       "  <thead>\n",
       "    <tr style=\"text-align: right;\">\n",
       "      <th></th>\n",
       "      <th>Text</th>\n",
       "      <th>Lemma</th>\n",
       "      <th>PoS</th>\n",
       "    </tr>\n",
       "  </thead>\n",
       "  <tbody>\n",
       "    <tr>\n",
       "      <th>0</th>\n",
       "      <td>I</td>\n",
       "      <td>I</td>\n",
       "      <td>PRON</td>\n",
       "    </tr>\n",
       "    <tr>\n",
       "      <th>1</th>\n",
       "      <td>feel</td>\n",
       "      <td>feel</td>\n",
       "      <td>VERB</td>\n",
       "    </tr>\n",
       "    <tr>\n",
       "      <th>2</th>\n",
       "      <td>so</td>\n",
       "      <td>so</td>\n",
       "      <td>ADV</td>\n",
       "    </tr>\n",
       "    <tr>\n",
       "      <th>3</th>\n",
       "      <td>LUCKY</td>\n",
       "      <td>LUCKY</td>\n",
       "      <td>NOUN</td>\n",
       "    </tr>\n",
       "    <tr>\n",
       "      <th>4</th>\n",
       "      <td>to</td>\n",
       "      <td>to</td>\n",
       "      <td>PART</td>\n",
       "    </tr>\n",
       "    <tr>\n",
       "      <th>...</th>\n",
       "      <td>...</td>\n",
       "      <td>...</td>\n",
       "      <td>...</td>\n",
       "    </tr>\n",
       "    <tr>\n",
       "      <th>81</th>\n",
       "      <td>from</td>\n",
       "      <td>from</td>\n",
       "      <td>ADP</td>\n",
       "    </tr>\n",
       "    <tr>\n",
       "      <th>82</th>\n",
       "      <td>them</td>\n",
       "      <td>they</td>\n",
       "      <td>PRON</td>\n",
       "    </tr>\n",
       "    <tr>\n",
       "      <th>83</th>\n",
       "      <td>again</td>\n",
       "      <td>again</td>\n",
       "      <td>ADV</td>\n",
       "    </tr>\n",
       "    <tr>\n",
       "      <th>84</th>\n",
       "      <td>!</td>\n",
       "      <td>!</td>\n",
       "      <td>PUNCT</td>\n",
       "    </tr>\n",
       "    <tr>\n",
       "      <th>85</th>\n",
       "      <td>!</td>\n",
       "      <td>!</td>\n",
       "      <td>PUNCT</td>\n",
       "    </tr>\n",
       "  </tbody>\n",
       "</table>\n",
       "<p>86 rows × 3 columns</p>\n",
       "</div>"
      ],
      "text/plain": [
       "     Text  Lemma    PoS\n",
       "0       I      I   PRON\n",
       "1    feel   feel   VERB\n",
       "2      so     so    ADV\n",
       "3   LUCKY  LUCKY   NOUN\n",
       "4      to     to   PART\n",
       "..    ...    ...    ...\n",
       "81   from   from    ADP\n",
       "82   them   they   PRON\n",
       "83  again  again    ADV\n",
       "84      !      !  PUNCT\n",
       "85      !      !  PUNCT\n",
       "\n",
       "[86 rows x 3 columns]"
      ]
     },
     "execution_count": 22,
     "metadata": {},
     "output_type": "execute_result"
    }
   ],
   "source": [
    "nlp_table =  pd.DataFrame({\"Text\": text , \"Lemma\": lemma, \"PoS\": pos})\n",
    "nlp_table"
   ]
  },
  {
   "cell_type": "code",
   "execution_count": 23,
   "id": "9b730dbe",
   "metadata": {
    "execution": {
     "iopub.execute_input": "2023-06-16T06:27:57.954237Z",
     "iopub.status.busy": "2023-06-16T06:27:57.953120Z",
     "iopub.status.idle": "2023-06-16T06:27:57.968119Z",
     "shell.execute_reply": "2023-06-16T06:27:57.966934Z"
    },
    "papermill": {
     "duration": 0.060922,
     "end_time": "2023-06-16T06:27:57.970312",
     "exception": false,
     "start_time": "2023-06-16T06:27:57.909390",
     "status": "completed"
    },
    "tags": []
   },
   "outputs": [
    {
     "data": {
      "text/plain": [
       "phone      3\n",
       "one        2\n",
       "LUCKY      1\n",
       "line       1\n",
       "year       1\n",
       "upgrade    1\n",
       "honesty    1\n",
       "re         1\n",
       "seller     1\n",
       "Name: Lemma, dtype: int64"
      ]
     },
     "execution_count": 23,
     "metadata": {},
     "output_type": "execute_result"
    }
   ],
   "source": [
    "## Get most frequent lemma forms of nouns\n",
    "nlp_table[nlp_table['PoS'] == 'NOUN']['Lemma'].value_counts()"
   ]
  },
  {
   "cell_type": "markdown",
   "id": "e07424f5",
   "metadata": {
    "papermill": {
     "duration": 0.041359,
     "end_time": "2023-06-16T06:27:58.054231",
     "exception": false,
     "start_time": "2023-06-16T06:27:58.012872",
     "status": "completed"
    },
    "tags": []
   },
   "source": [
    "#### It seems possible that if we extract all the nouns from the reviews and look at the top 5 most frequent lemmatised noun forms, we will be able to identify What people are talking about?"
   ]
  },
  {
   "cell_type": "markdown",
   "id": "9fd545c5",
   "metadata": {
    "papermill": {
     "duration": 0.103495,
     "end_time": "2023-06-16T06:27:58.199834",
     "exception": false,
     "start_time": "2023-06-16T06:27:58.096339",
     "status": "completed"
    },
    "tags": []
   },
   "source": [
    "#### Lets repeat this experiment on a larger set of reviews"
   ]
  },
  {
   "cell_type": "code",
   "execution_count": 24,
   "id": "c5997d5f",
   "metadata": {
    "execution": {
     "iopub.execute_input": "2023-06-16T06:27:58.287263Z",
     "iopub.status.busy": "2023-06-16T06:27:58.286885Z",
     "iopub.status.idle": "2023-06-16T06:27:59.357696Z",
     "shell.execute_reply": "2023-06-16T06:27:59.356666Z"
    },
    "papermill": {
     "duration": 1.117366,
     "end_time": "2023-06-16T06:27:59.359922",
     "exception": false,
     "start_time": "2023-06-16T06:27:58.242556",
     "status": "completed"
    },
    "tags": []
   },
   "outputs": [
    {
     "data": {
      "text/plain": [
       "phone        111\n",
       "price         12\n",
       "problem       11\n",
       "condition     10\n",
       "seller        10\n",
       "dtype: int64"
      ]
     },
     "execution_count": 24,
     "metadata": {},
     "output_type": "execute_result"
    }
   ],
   "source": [
    "noun = []\n",
    "\n",
    "for review in samsung_reviews.split(\"\\n\")[0:100]:\n",
    "    doc = nlp(review)\n",
    "    for tok in doc:\n",
    "        if tok.pos_ == 'NOUN':\n",
    "            noun.append(tok.lemma_.lower())\n",
    "            \n",
    "\n",
    "pd.Series(noun).value_counts().head()"
   ]
  },
  {
   "cell_type": "markdown",
   "id": "7a7b03d4",
   "metadata": {
    "papermill": {
     "duration": 0.042436,
     "end_time": "2023-06-16T06:27:59.445276",
     "exception": false,
     "start_time": "2023-06-16T06:27:59.402840",
     "status": "completed"
    },
    "tags": []
   },
   "source": [
    "#### Lets add some way of keeping track of time"
   ]
  },
  {
   "cell_type": "code",
   "execution_count": 25,
   "id": "3b424ea3",
   "metadata": {
    "execution": {
     "iopub.execute_input": "2023-06-16T06:27:59.532900Z",
     "iopub.status.busy": "2023-06-16T06:27:59.532524Z",
     "iopub.status.idle": "2023-06-16T06:28:10.756815Z",
     "shell.execute_reply": "2023-06-16T06:28:10.755795Z"
    },
    "papermill": {
     "duration": 11.270877,
     "end_time": "2023-06-16T06:28:10.759174",
     "exception": false,
     "start_time": "2023-06-16T06:27:59.488297",
     "status": "completed"
    },
    "tags": []
   },
   "outputs": [
    {
     "data": {
      "text/plain": [
       "phone      1216\n",
       "time         90\n",
       "battery      90\n",
       "screen       87\n",
       "price        87\n",
       "dtype: int64"
      ]
     },
     "execution_count": 25,
     "metadata": {},
     "output_type": "execute_result"
    }
   ],
   "source": [
    "from tqdm import tqdm\n",
    "\n",
    "noun = []\n",
    "\n",
    "for review in samsung_reviews.split(\"\\n\")[0:1000]:\n",
    "    doc = nlp(review)\n",
    "    for tok in doc:\n",
    "        if tok.pos_ == 'NOUN':\n",
    "            noun.append(tok.lemma_.lower())\n",
    "            \n",
    "\n",
    "pd.Series(noun).value_counts().head()"
   ]
  },
  {
   "cell_type": "code",
   "execution_count": 26,
   "id": "78640b96",
   "metadata": {
    "execution": {
     "iopub.execute_input": "2023-06-16T06:28:10.846493Z",
     "iopub.status.busy": "2023-06-16T06:28:10.846007Z",
     "iopub.status.idle": "2023-06-16T06:28:10.872496Z",
     "shell.execute_reply": "2023-06-16T06:28:10.871568Z"
    },
    "papermill": {
     "duration": 0.072784,
     "end_time": "2023-06-16T06:28:10.874749",
     "exception": false,
     "start_time": "2023-06-16T06:28:10.801965",
     "status": "completed"
    },
    "tags": []
   },
   "outputs": [
    {
     "data": {
      "text/plain": [
       "46355"
      ]
     },
     "execution_count": 26,
     "metadata": {},
     "output_type": "execute_result"
    }
   ],
   "source": [
    "len(samsung_reviews.split(\"\\n\"))"
   ]
  },
  {
   "cell_type": "markdown",
   "id": "7b9602b0",
   "metadata": {
    "papermill": {
     "duration": 0.042682,
     "end_time": "2023-06-16T06:28:10.960726",
     "exception": false,
     "start_time": "2023-06-16T06:28:10.918044",
     "status": "completed"
    },
    "tags": []
   },
   "source": [
    "**Summary:**\n",
    "\n",
    "* POS tag based rule seems to be working well\n",
    "* We need to figure out a way to reduce the time taken to process reviews"
   ]
  },
  {
   "cell_type": "markdown",
   "id": "43f556bc",
   "metadata": {
    "papermill": {
     "duration": 0.042718,
     "end_time": "2023-06-16T06:28:11.046242",
     "exception": false,
     "start_time": "2023-06-16T06:28:11.003524",
     "status": "completed"
    },
    "tags": []
   },
   "source": [
    "### Can we reduce the time taken?"
   ]
  },
  {
   "attachments": {
    "7d88127d-02ac-4cd2-935b-6eef990dd7b4.png": {
     "image/png": "[encoded data removed]"
    }
   },
   "cell_type": "markdown",
   "id": "7654412e",
   "metadata": {
    "papermill": {
     "duration": 0.042784,
     "end_time": "2023-06-16T06:28:11.131820",
     "exception": false,
     "start_time": "2023-06-16T06:28:11.089036",
     "status": "completed"
    },
    "tags": []
   },
   "source": [
    "![image.png](attachment:7d88127d-02ac-4cd2-935b-6eef990dd7b4.png)"
   ]
  },
  {
   "cell_type": "code",
   "execution_count": 27,
   "id": "3403e63b",
   "metadata": {
    "execution": {
     "iopub.execute_input": "2023-06-16T06:28:11.219506Z",
     "iopub.status.busy": "2023-06-16T06:28:11.218807Z",
     "iopub.status.idle": "2023-06-16T06:28:12.025119Z",
     "shell.execute_reply": "2023-06-16T06:28:12.024127Z"
    },
    "papermill": {
     "duration": 0.852777,
     "end_time": "2023-06-16T06:28:12.027507",
     "exception": false,
     "start_time": "2023-06-16T06:28:11.174730",
     "status": "completed"
    },
    "tags": []
   },
   "outputs": [],
   "source": [
    "nlp=spacy.load('en_core_web_sm',disable=['parser','ner'])"
   ]
  },
  {
   "cell_type": "code",
   "execution_count": 28,
   "id": "b7c008fd",
   "metadata": {
    "execution": {
     "iopub.execute_input": "2023-06-16T06:28:12.117529Z",
     "iopub.status.busy": "2023-06-16T06:28:12.116848Z",
     "iopub.status.idle": "2023-06-16T06:28:17.617328Z",
     "shell.execute_reply": "2023-06-16T06:28:17.616277Z"
    },
    "papermill": {
     "duration": 5.547602,
     "end_time": "2023-06-16T06:28:17.619601",
     "exception": false,
     "start_time": "2023-06-16T06:28:12.071999",
     "status": "completed"
    },
    "tags": []
   },
   "outputs": [
    {
     "data": {
      "text/plain": [
       "phone      1216\n",
       "time         90\n",
       "battery      90\n",
       "screen       87\n",
       "price        87\n",
       "dtype: int64"
      ]
     },
     "execution_count": 28,
     "metadata": {},
     "output_type": "execute_result"
    }
   ],
   "source": [
    "from tqdm import tqdm\n",
    "\n",
    "noun = []\n",
    "\n",
    "for review in samsung_reviews.split(\"\\n\")[0:1000]:\n",
    "    doc = nlp(review)\n",
    "    for tok in doc:\n",
    "        if tok.pos_ == 'NOUN':\n",
    "            noun.append(tok.lemma_.lower())\n",
    "            \n",
    "\n",
    "pd.Series(noun).value_counts().head()"
   ]
  },
  {
   "cell_type": "markdown",
   "id": "eb6ee902",
   "metadata": {
    "papermill": {
     "duration": 0.051772,
     "end_time": "2023-06-16T06:28:17.723021",
     "exception": false,
     "start_time": "2023-06-16T06:28:17.671249",
     "status": "completed"
    },
    "tags": []
   },
   "source": [
    "#### Lets process all the reviews now and see if time taken is less !!!"
   ]
  },
  {
   "cell_type": "code",
   "execution_count": 29,
   "id": "1fd26b17",
   "metadata": {
    "execution": {
     "iopub.execute_input": "2023-06-16T06:28:17.812480Z",
     "iopub.status.busy": "2023-06-16T06:28:17.812100Z",
     "iopub.status.idle": "2023-06-16T06:31:36.067119Z",
     "shell.execute_reply": "2023-06-16T06:31:36.066097Z"
    },
    "papermill": {
     "duration": 198.344089,
     "end_time": "2023-06-16T06:31:36.111787",
     "exception": false,
     "start_time": "2023-06-16T06:28:17.767698",
     "status": "completed"
    },
    "tags": []
   },
   "outputs": [
    {
     "data": {
      "text/plain": [
       "phone      43507\n",
       "battery     4334\n",
       "product     3992\n",
       "screen      3838\n",
       "time        3810\n",
       "dtype: int64"
      ]
     },
     "execution_count": 29,
     "metadata": {},
     "output_type": "execute_result"
    }
   ],
   "source": [
    "noun = []\n",
    "\n",
    "for review in samsung_reviews.split(\"\\n\"):\n",
    "    doc = nlp(review)\n",
    "    for tok in doc:\n",
    "        if tok.pos_ == 'NOUN':\n",
    "            noun.append(tok.lemma_.lower())\n",
    "            \n",
    "\n",
    "pd.Series(noun).value_counts().head()"
   ]
  },
  {
   "cell_type": "markdown",
   "id": "d1711942",
   "metadata": {
    "papermill": {
     "duration": 0.042097,
     "end_time": "2023-06-16T06:31:36.195930",
     "exception": false,
     "start_time": "2023-06-16T06:31:36.153833",
     "status": "completed"
    },
    "tags": []
   },
   "source": [
    "#### Does the hypothesis of nouns capturing `product features`hold?"
   ]
  },
  {
   "cell_type": "code",
   "execution_count": 30,
   "id": "e567ede2",
   "metadata": {
    "execution": {
     "iopub.execute_input": "2023-06-16T06:31:36.282570Z",
     "iopub.status.busy": "2023-06-16T06:31:36.282192Z",
     "iopub.status.idle": "2023-06-16T06:31:36.337642Z",
     "shell.execute_reply": "2023-06-16T06:31:36.336654Z"
    },
    "papermill": {
     "duration": 0.101112,
     "end_time": "2023-06-16T06:31:36.339575",
     "exception": false,
     "start_time": "2023-06-16T06:31:36.238463",
     "status": "completed"
    },
    "tags": []
   },
   "outputs": [
    {
     "data": {
      "text/plain": [
       "phone      43507\n",
       "battery     4334\n",
       "product     3992\n",
       "screen      3838\n",
       "time        3810\n",
       "dtype: int64"
      ]
     },
     "execution_count": 30,
     "metadata": {},
     "output_type": "execute_result"
    }
   ],
   "source": [
    "nouns = pd.Series(noun)\n",
    "nouns.value_counts().head()"
   ]
  },
  {
   "cell_type": "code",
   "execution_count": 31,
   "id": "9d346701",
   "metadata": {
    "execution": {
     "iopub.execute_input": "2023-06-16T06:31:36.427099Z",
     "iopub.status.busy": "2023-06-16T06:31:36.426144Z",
     "iopub.status.idle": "2023-06-16T06:31:36.463550Z",
     "shell.execute_reply": "2023-06-16T06:31:36.462521Z"
    },
    "papermill": {
     "duration": 0.083257,
     "end_time": "2023-06-16T06:31:36.465606",
     "exception": false,
     "start_time": "2023-06-16T06:31:36.382349",
     "status": "completed"
    },
    "tags": []
   },
   "outputs": [
    {
     "data": {
      "text/plain": [
       "phone      43507\n",
       "battery     4334\n",
       "product     3992\n",
       "screen      3838\n",
       "time        3810\n",
       "card        3384\n",
       "price       3149\n",
       "problem     3137\n",
       "camera      2936\n",
       "app         2593\n",
       "dtype: int64"
      ]
     },
     "execution_count": 31,
     "metadata": {},
     "output_type": "execute_result"
    }
   ],
   "source": [
    "nouns.value_counts().head(10)"
   ]
  },
  {
   "cell_type": "markdown",
   "id": "36e5e3fd",
   "metadata": {
    "papermill": {
     "duration": 0.042408,
     "end_time": "2023-06-16T06:31:36.550834",
     "exception": false,
     "start_time": "2023-06-16T06:31:36.508426",
     "status": "completed"
    },
    "tags": []
   },
   "source": [
    "##### We now know that people mention `battery, product, screen` etc. But we still don't know in what context they mention these keywords"
   ]
  },
  {
   "cell_type": "markdown",
   "id": "10410382",
   "metadata": {
    "papermill": {
     "duration": 0.042144,
     "end_time": "2023-06-16T06:31:36.635847",
     "exception": false,
     "start_time": "2023-06-16T06:31:36.593703",
     "status": "completed"
    },
    "tags": []
   },
   "source": [
    "**Summary:**\n",
    "\n",
    "* Most frequently used lemmatised forms of noun, inform us about the product features people are talking about in product reviews\n",
    "* In order to process the review data faster spacy allows us to use the idea of enabling parts of model inference pipeline via spacy.loads() command and disable parameter"
   ]
  },
  {
   "cell_type": "markdown",
   "id": "32bc194a",
   "metadata": {
    "papermill": {
     "duration": 0.042844,
     "end_time": "2023-06-16T06:31:36.722821",
     "exception": false,
     "start_time": "2023-06-16T06:31:36.679977",
     "status": "completed"
    },
    "tags": []
   },
   "source": [
    "### We can use a simple hueristic\n",
    "\n",
    "* Find out what were the most common words that appeared before and after each mention of product feature\n",
    "* Use regex pattern to extract this information"
   ]
  },
  {
   "cell_type": "code",
   "execution_count": 32,
   "id": "8c7425e0",
   "metadata": {
    "execution": {
     "iopub.execute_input": "2023-06-16T06:31:36.812359Z",
     "iopub.status.busy": "2023-06-16T06:31:36.811326Z",
     "iopub.status.idle": "2023-06-16T06:31:36.815996Z",
     "shell.execute_reply": "2023-06-16T06:31:36.815049Z"
    },
    "papermill": {
     "duration": 0.052311,
     "end_time": "2023-06-16T06:31:36.818047",
     "exception": false,
     "start_time": "2023-06-16T06:31:36.765736",
     "status": "completed"
    },
    "tags": []
   },
   "outputs": [],
   "source": [
    "import re\n",
    "s1 = \"The Battery Was Great\""
   ]
  },
  {
   "attachments": {
    "d5a00a47-7d67-452e-aa9f-3464a62b60c3.png": {
     "image/png": "[encoded data removed]"
    }
   },
   "cell_type": "markdown",
   "id": "fb67e905",
   "metadata": {
    "papermill": {
     "duration": 0.04259,
     "end_time": "2023-06-16T06:31:36.904455",
     "exception": false,
     "start_time": "2023-06-16T06:31:36.861865",
     "status": "completed"
    },
    "tags": []
   },
   "source": [
    "The `battery` was ===> `Prefix` keyword Suffix\n",
    "\n",
    "![image.png](attachment:d5a00a47-7d67-452e-aa9f-3464a62b60c3.png)"
   ]
  },
  {
   "cell_type": "markdown",
   "id": "a17938af",
   "metadata": {
    "papermill": {
     "duration": 0.042873,
     "end_time": "2023-06-16T06:31:36.991082",
     "exception": false,
     "start_time": "2023-06-16T06:31:36.948209",
     "status": "completed"
    },
    "tags": []
   },
   "source": [
    "#### Extract all the prefixes and suffixes of battery"
   ]
  },
  {
   "cell_type": "code",
   "execution_count": 33,
   "id": "1c1ee758",
   "metadata": {
    "execution": {
     "iopub.execute_input": "2023-06-16T06:31:37.079479Z",
     "iopub.status.busy": "2023-06-16T06:31:37.078980Z",
     "iopub.status.idle": "2023-06-16T06:31:37.083640Z",
     "shell.execute_reply": "2023-06-16T06:31:37.082670Z"
    },
    "papermill": {
     "duration": 0.051337,
     "end_time": "2023-06-16T06:31:37.085683",
     "exception": false,
     "start_time": "2023-06-16T06:31:37.034346",
     "status": "completed"
    },
    "tags": []
   },
   "outputs": [],
   "source": [
    "pattern = re.compile(\"\\w+\\sbattery\\s\\w+\")"
   ]
  },
  {
   "cell_type": "code",
   "execution_count": 34,
   "id": "81b23adb",
   "metadata": {
    "execution": {
     "iopub.execute_input": "2023-06-16T06:31:37.173028Z",
     "iopub.status.busy": "2023-06-16T06:31:37.172589Z",
     "iopub.status.idle": "2023-06-16T06:31:38.039993Z",
     "shell.execute_reply": "2023-06-16T06:31:38.039084Z"
    },
    "papermill": {
     "duration": 0.913621,
     "end_time": "2023-06-16T06:31:38.042046",
     "exception": false,
     "start_time": "2023-06-16T06:31:37.128425",
     "status": "completed"
    },
    "tags": []
   },
   "outputs": [],
   "source": [
    "prefixes_suffixes = re.findall(pattern,samsung_reviews)"
   ]
  },
  {
   "cell_type": "code",
   "execution_count": 35,
   "id": "7c6b8752",
   "metadata": {
    "execution": {
     "iopub.execute_input": "2023-06-16T06:31:38.130292Z",
     "iopub.status.busy": "2023-06-16T06:31:38.129900Z",
     "iopub.status.idle": "2023-06-16T06:31:38.136076Z",
     "shell.execute_reply": "2023-06-16T06:31:38.135310Z"
    },
    "papermill": {
     "duration": 0.052935,
     "end_time": "2023-06-16T06:31:38.137901",
     "exception": false,
     "start_time": "2023-06-16T06:31:38.084966",
     "status": "completed"
    },
    "tags": []
   },
   "outputs": [
    {
     "data": {
      "text/plain": [
       "['that battery life',\n",
       " 'The battery was',\n",
       " 'great battery life',\n",
       " 'removable battery or',\n",
       " 'the battery in',\n",
       " 'The battery was',\n",
       " 'the battery is',\n",
       " 'Excellent battery life',\n",
       " 'the battery off',\n",
       " 'the battery goes']"
      ]
     },
     "execution_count": 35,
     "metadata": {},
     "output_type": "execute_result"
    }
   ],
   "source": [
    "prefixes_suffixes[0:10]"
   ]
  },
  {
   "cell_type": "code",
   "execution_count": 36,
   "id": "ce5eb976",
   "metadata": {
    "execution": {
     "iopub.execute_input": "2023-06-16T06:31:38.227485Z",
     "iopub.status.busy": "2023-06-16T06:31:38.227069Z",
     "iopub.status.idle": "2023-06-16T06:31:38.233995Z",
     "shell.execute_reply": "2023-06-16T06:31:38.233034Z"
    },
    "papermill": {
     "duration": 0.054543,
     "end_time": "2023-06-16T06:31:38.236099",
     "exception": false,
     "start_time": "2023-06-16T06:31:38.181556",
     "status": "completed"
    },
    "tags": []
   },
   "outputs": [
    {
     "data": {
      "text/plain": [
       "['that', 'battery', 'life']"
      ]
     },
     "execution_count": 36,
     "metadata": {},
     "output_type": "execute_result"
    }
   ],
   "source": [
    "prefixes_suffixes[0].split(\" \")"
   ]
  },
  {
   "cell_type": "code",
   "execution_count": 37,
   "id": "17973f15",
   "metadata": {
    "execution": {
     "iopub.execute_input": "2023-06-16T06:31:38.324134Z",
     "iopub.status.busy": "2023-06-16T06:31:38.323778Z",
     "iopub.status.idle": "2023-06-16T06:31:38.331084Z",
     "shell.execute_reply": "2023-06-16T06:31:38.330111Z"
    },
    "papermill": {
     "duration": 0.052917,
     "end_time": "2023-06-16T06:31:38.332850",
     "exception": false,
     "start_time": "2023-06-16T06:31:38.279933",
     "status": "completed"
    },
    "tags": []
   },
   "outputs": [],
   "source": [
    "prefixes = []\n",
    "suffixes = []\n",
    "for p in prefixes_suffixes:\n",
    "    l = p.split(\" \")\n",
    "    prefixes.append(l[0].lower())\n",
    "    suffixes.append(l[-1].lower())"
   ]
  },
  {
   "cell_type": "code",
   "execution_count": 38,
   "id": "8d3375ac",
   "metadata": {
    "execution": {
     "iopub.execute_input": "2023-06-16T06:31:38.423074Z",
     "iopub.status.busy": "2023-06-16T06:31:38.421911Z",
     "iopub.status.idle": "2023-06-16T06:31:38.431308Z",
     "shell.execute_reply": "2023-06-16T06:31:38.430444Z"
    },
    "papermill": {
     "duration": 0.057352,
     "end_time": "2023-06-16T06:31:38.433280",
     "exception": false,
     "start_time": "2023-06-16T06:31:38.375928",
     "status": "completed"
    },
    "tags": []
   },
   "outputs": [
    {
     "data": {
      "text/plain": [
       "the      1396\n",
       "good      122\n",
       "great      90\n",
       "and        82\n",
       "long       60\n",
       "dtype: int64"
      ]
     },
     "execution_count": 38,
     "metadata": {},
     "output_type": "execute_result"
    }
   ],
   "source": [
    "pd.Series(prefixes).value_counts().head(5)"
   ]
  },
  {
   "cell_type": "code",
   "execution_count": 39,
   "id": "4a9915a8",
   "metadata": {
    "execution": {
     "iopub.execute_input": "2023-06-16T06:31:38.520644Z",
     "iopub.status.busy": "2023-06-16T06:31:38.520284Z",
     "iopub.status.idle": "2023-06-16T06:31:38.528740Z",
     "shell.execute_reply": "2023-06-16T06:31:38.527819Z"
    },
    "papermill": {
     "duration": 0.054829,
     "end_time": "2023-06-16T06:31:38.530836",
     "exception": false,
     "start_time": "2023-06-16T06:31:38.476007",
     "status": "completed"
    },
    "tags": []
   },
   "outputs": [
    {
     "data": {
      "text/plain": [
       "life     1052\n",
       "is        210\n",
       "and       146\n",
       "lasts      83\n",
       "was        66\n",
       "dtype: int64"
      ]
     },
     "execution_count": 39,
     "metadata": {},
     "output_type": "execute_result"
    }
   ],
   "source": [
    "pd.Series(suffixes).value_counts().head(5)"
   ]
  },
  {
   "cell_type": "markdown",
   "id": "8d6e2226",
   "metadata": {
    "papermill": {
     "duration": 0.042209,
     "end_time": "2023-06-16T06:31:38.615891",
     "exception": false,
     "start_time": "2023-06-16T06:31:38.573682",
     "status": "completed"
    },
    "tags": []
   },
   "source": [
    "#### This doesn't make much sense as these are commonly used words. Let's remove stopwords and see what we get"
   ]
  },
  {
   "cell_type": "code",
   "execution_count": 40,
   "id": "a3c1b150",
   "metadata": {
    "execution": {
     "iopub.execute_input": "2023-06-16T06:31:38.705672Z",
     "iopub.status.busy": "2023-06-16T06:31:38.705302Z",
     "iopub.status.idle": "2023-06-16T06:31:38.712907Z",
     "shell.execute_reply": "2023-06-16T06:31:38.711902Z"
    },
    "papermill": {
     "duration": 0.056266,
     "end_time": "2023-06-16T06:31:38.714947",
     "exception": false,
     "start_time": "2023-06-16T06:31:38.658681",
     "status": "completed"
    },
    "tags": []
   },
   "outputs": [],
   "source": [
    "stop_words = [\"i\", \"me\", \"my\", \"myself\", \"we\", \"our\", \"ours\", \"ourselves\", \"you\", \"your\", \"yours\", \"yourself\", \"yourselves\", \"he\", \"him\", \"his\", \"himself\", \"she\", \"her\", \"hers\", \"herself\", \"it\", \"its\", \"itself\", \"they\", \"them\", \"their\", \"theirs\", \"themselves\", \"what\", \"which\", \"who\", \"whom\", \"this\", \"that\", \"these\", \"those\", \"am\", \"is\", \"are\", \"was\", \"were\", \"be\", \"been\", \"being\", \"have\", \"has\", \"had\", \"having\", \"do\", \"does\", \"did\", \"doing\", \"a\", \"an\", \"the\", \"and\", \"but\", \"if\", \"or\", \"because\", \"as\", \"until\", \"while\", \"of\", \"at\", \"by\", \"for\", \"with\", \"about\", \"against\", \"between\", \"into\", \"through\", \"during\", \"before\", \"after\", \"above\", \"below\", \"to\", \"from\", \"up\", \"down\", \"in\", \"out\", \"on\", \"off\", \"over\", \"under\", \"again\", \"further\", \"then\", \"once\", \"here\", \"there\", \"when\", \"where\", \"why\", \"how\", \"all\", \"any\", \"both\", \"each\", \"few\", \"more\", \"most\", \"other\", \"some\", \"such\", \"no\", \"nor\", \"not\", \"only\", \"own\", \"same\", \"so\", \"than\", \"too\", \"very\", \"s\", \"t\", \"can\", \"will\", \"just\", \"don\", \"should\", \"now\"]"
   ]
  },
  {
   "cell_type": "code",
   "execution_count": 41,
   "id": "e85d7b58",
   "metadata": {
    "execution": {
     "iopub.execute_input": "2023-06-16T06:31:38.802476Z",
     "iopub.status.busy": "2023-06-16T06:31:38.802132Z",
     "iopub.status.idle": "2023-06-16T06:31:38.815726Z",
     "shell.execute_reply": "2023-06-16T06:31:38.814561Z"
    },
    "papermill": {
     "duration": 0.059637,
     "end_time": "2023-06-16T06:31:38.817850",
     "exception": false,
     "start_time": "2023-06-16T06:31:38.758213",
     "status": "completed"
    },
    "tags": []
   },
   "outputs": [],
   "source": [
    "prefixes = [p for p in prefixes if p not in stop_words]\n",
    "suffixes = [s for s in suffixes if s not in stop_words]"
   ]
  },
  {
   "cell_type": "code",
   "execution_count": 42,
   "id": "83b21f1d",
   "metadata": {
    "execution": {
     "iopub.execute_input": "2023-06-16T06:31:38.906173Z",
     "iopub.status.busy": "2023-06-16T06:31:38.905819Z",
     "iopub.status.idle": "2023-06-16T06:31:38.913603Z",
     "shell.execute_reply": "2023-06-16T06:31:38.912689Z"
    },
    "papermill": {
     "duration": 0.054166,
     "end_time": "2023-06-16T06:31:38.915607",
     "exception": false,
     "start_time": "2023-06-16T06:31:38.861441",
     "status": "completed"
    },
    "tags": []
   },
   "outputs": [
    {
     "data": {
      "text/plain": [
       "good         122\n",
       "great         90\n",
       "long          60\n",
       "new           51\n",
       "removable     48\n",
       "dtype: int64"
      ]
     },
     "execution_count": 42,
     "metadata": {},
     "output_type": "execute_result"
    }
   ],
   "source": [
    "pd.Series(prefixes).value_counts().head(5)"
   ]
  },
  {
   "cell_type": "code",
   "execution_count": 43,
   "id": "7953dcfa",
   "metadata": {
    "execution": {
     "iopub.execute_input": "2023-06-16T06:31:39.003467Z",
     "iopub.status.busy": "2023-06-16T06:31:39.003126Z",
     "iopub.status.idle": "2023-06-16T06:31:39.011702Z",
     "shell.execute_reply": "2023-06-16T06:31:39.010588Z"
    },
    "papermill": {
     "duration": 0.05498,
     "end_time": "2023-06-16T06:31:39.013737",
     "exception": false,
     "start_time": "2023-06-16T06:31:38.958757",
     "status": "completed"
    },
    "tags": []
   },
   "outputs": [
    {
     "data": {
      "text/plain": [
       "life     1052\n",
       "lasts      83\n",
       "last       53\n",
       "doesn      40\n",
       "runs       31\n",
       "dtype: int64"
      ]
     },
     "execution_count": 43,
     "metadata": {},
     "output_type": "execute_result"
    }
   ],
   "source": [
    "pd.Series(suffixes).value_counts().head(5)"
   ]
  },
  {
   "cell_type": "markdown",
   "id": "15c238d6",
   "metadata": {
    "papermill": {
     "duration": 0.043388,
     "end_time": "2023-06-16T06:31:39.100231",
     "exception": false,
     "start_time": "2023-06-16T06:31:39.056843",
     "status": "completed"
    },
    "tags": []
   },
   "source": [
    "#### Lets pretty print"
   ]
  },
  {
   "cell_type": "code",
   "execution_count": 44,
   "id": "b76e0026",
   "metadata": {
    "execution": {
     "iopub.execute_input": "2023-06-16T06:31:39.189333Z",
     "iopub.status.busy": "2023-06-16T06:31:39.188967Z",
     "iopub.status.idle": "2023-06-16T06:31:39.196404Z",
     "shell.execute_reply": "2023-06-16T06:31:39.195526Z"
    },
    "papermill": {
     "duration": 0.05419,
     "end_time": "2023-06-16T06:31:39.198321",
     "exception": false,
     "start_time": "2023-06-16T06:31:39.144131",
     "status": "completed"
    },
    "tags": []
   },
   "outputs": [],
   "source": [
    "prefixes=pd.Series(prefixes).value_counts().head(5).index\n",
    "suffixes=pd.Series(suffixes).value_counts().head(5).index"
   ]
  },
  {
   "cell_type": "code",
   "execution_count": 45,
   "id": "b43af6a1",
   "metadata": {
    "execution": {
     "iopub.execute_input": "2023-06-16T06:31:39.287885Z",
     "iopub.status.busy": "2023-06-16T06:31:39.287245Z",
     "iopub.status.idle": "2023-06-16T06:31:39.297730Z",
     "shell.execute_reply": "2023-06-16T06:31:39.296781Z"
    },
    "papermill": {
     "duration": 0.057938,
     "end_time": "2023-06-16T06:31:39.299897",
     "exception": false,
     "start_time": "2023-06-16T06:31:39.241959",
     "status": "completed"
    },
    "tags": []
   },
   "outputs": [
    {
     "data": {
      "text/html": [
       "<div>\n",
       "<style scoped>\n",
       "    .dataframe tbody tr th:only-of-type {\n",
       "        vertical-align: middle;\n",
       "    }\n",
       "\n",
       "    .dataframe tbody tr th {\n",
       "        vertical-align: top;\n",
       "    }\n",
       "\n",
       "    .dataframe thead th {\n",
       "        text-align: right;\n",
       "    }\n",
       "</style>\n",
       "<table border=\"1\" class=\"dataframe\">\n",
       "  <thead>\n",
       "    <tr style=\"text-align: right;\">\n",
       "      <th></th>\n",
       "      <th>prefixes</th>\n",
       "      <th>keyword</th>\n",
       "      <th>suffixes</th>\n",
       "    </tr>\n",
       "  </thead>\n",
       "  <tbody>\n",
       "    <tr>\n",
       "      <th>0</th>\n",
       "      <td>good</td>\n",
       "      <td>battery</td>\n",
       "      <td>life</td>\n",
       "    </tr>\n",
       "    <tr>\n",
       "      <th>1</th>\n",
       "      <td>great</td>\n",
       "      <td>battery</td>\n",
       "      <td>lasts</td>\n",
       "    </tr>\n",
       "    <tr>\n",
       "      <th>2</th>\n",
       "      <td>long</td>\n",
       "      <td>battery</td>\n",
       "      <td>last</td>\n",
       "    </tr>\n",
       "    <tr>\n",
       "      <th>3</th>\n",
       "      <td>new</td>\n",
       "      <td>battery</td>\n",
       "      <td>doesn</td>\n",
       "    </tr>\n",
       "    <tr>\n",
       "      <th>4</th>\n",
       "      <td>removable</td>\n",
       "      <td>battery</td>\n",
       "      <td>runs</td>\n",
       "    </tr>\n",
       "  </tbody>\n",
       "</table>\n",
       "</div>"
      ],
      "text/plain": [
       "    prefixes  keyword suffixes\n",
       "0       good  battery     life\n",
       "1      great  battery    lasts\n",
       "2       long  battery     last\n",
       "3        new  battery    doesn\n",
       "4  removable  battery     runs"
      ]
     },
     "execution_count": 45,
     "metadata": {},
     "output_type": "execute_result"
    }
   ],
   "source": [
    "pd.DataFrame({'prefixes':prefixes,'keyword':['battery']*len(prefixes),'suffixes':suffixes})"
   ]
  },
  {
   "cell_type": "markdown",
   "id": "4524af7c",
   "metadata": {
    "papermill": {
     "duration": 0.043316,
     "end_time": "2023-06-16T06:31:39.387146",
     "exception": false,
     "start_time": "2023-06-16T06:31:39.343830",
     "status": "completed"
    },
    "tags": []
   },
   "source": [
    "#### Lets put all this logic in a function"
   ]
  },
  {
   "cell_type": "code",
   "execution_count": 46,
   "id": "48ad18ca",
   "metadata": {
    "execution": {
     "iopub.execute_input": "2023-06-16T06:31:39.475596Z",
     "iopub.status.busy": "2023-06-16T06:31:39.475215Z",
     "iopub.status.idle": "2023-06-16T06:31:39.483298Z",
     "shell.execute_reply": "2023-06-16T06:31:39.482242Z"
    },
    "papermill": {
     "duration": 0.054806,
     "end_time": "2023-06-16T06:31:39.485533",
     "exception": false,
     "start_time": "2023-06-16T06:31:39.430727",
     "status": "completed"
    },
    "tags": []
   },
   "outputs": [],
   "source": [
    "def get_context(reviews,keyword):\n",
    "    pattern = re.compile(f\"\\w+\\s{keyword}\\s\\w+\")\n",
    "    prefixes_suffixes = re.findall(pattern,reviews)\n",
    "    prefixes = []\n",
    "    suffixes = []\n",
    "    for p in prefixes_suffixes:\n",
    "        l = p.split(\" \")\n",
    "        prefixes.append(l[0].lower())\n",
    "        suffixes.append(l[-1].lower())\n",
    "    prefixes = [p for p in prefixes if p not in stop_words]\n",
    "    suffixes = [s for s in suffixes if s not in stop_words]\n",
    "    prefixes=pd.Series(prefixes).value_counts().head(5).index\n",
    "    suffixes=pd.Series(suffixes).value_counts().head(5).index\n",
    "    return pd.DataFrame({'prefixes':prefixes,'keyword':[f'{keyword}']*len(prefixes),'suffixes':suffixes})"
   ]
  },
  {
   "cell_type": "code",
   "execution_count": 47,
   "id": "5e600690",
   "metadata": {
    "execution": {
     "iopub.execute_input": "2023-06-16T06:31:39.575915Z",
     "iopub.status.busy": "2023-06-16T06:31:39.574962Z",
     "iopub.status.idle": "2023-06-16T06:31:40.431608Z",
     "shell.execute_reply": "2023-06-16T06:31:40.430647Z"
    },
    "papermill": {
     "duration": 0.904139,
     "end_time": "2023-06-16T06:31:40.433690",
     "exception": false,
     "start_time": "2023-06-16T06:31:39.529551",
     "status": "completed"
    },
    "tags": []
   },
   "outputs": [
    {
     "data": {
      "text/html": [
       "<div>\n",
       "<style scoped>\n",
       "    .dataframe tbody tr th:only-of-type {\n",
       "        vertical-align: middle;\n",
       "    }\n",
       "\n",
       "    .dataframe tbody tr th {\n",
       "        vertical-align: top;\n",
       "    }\n",
       "\n",
       "    .dataframe thead th {\n",
       "        text-align: right;\n",
       "    }\n",
       "</style>\n",
       "<table border=\"1\" class=\"dataframe\">\n",
       "  <thead>\n",
       "    <tr style=\"text-align: right;\">\n",
       "      <th></th>\n",
       "      <th>prefixes</th>\n",
       "      <th>keyword</th>\n",
       "      <th>suffixes</th>\n",
       "    </tr>\n",
       "  </thead>\n",
       "  <tbody>\n",
       "    <tr>\n",
       "      <th>0</th>\n",
       "      <td>good</td>\n",
       "      <td>battery</td>\n",
       "      <td>life</td>\n",
       "    </tr>\n",
       "    <tr>\n",
       "      <th>1</th>\n",
       "      <td>great</td>\n",
       "      <td>battery</td>\n",
       "      <td>lasts</td>\n",
       "    </tr>\n",
       "    <tr>\n",
       "      <th>2</th>\n",
       "      <td>long</td>\n",
       "      <td>battery</td>\n",
       "      <td>last</td>\n",
       "    </tr>\n",
       "    <tr>\n",
       "      <th>3</th>\n",
       "      <td>new</td>\n",
       "      <td>battery</td>\n",
       "      <td>doesn</td>\n",
       "    </tr>\n",
       "    <tr>\n",
       "      <th>4</th>\n",
       "      <td>removable</td>\n",
       "      <td>battery</td>\n",
       "      <td>runs</td>\n",
       "    </tr>\n",
       "  </tbody>\n",
       "</table>\n",
       "</div>"
      ],
      "text/plain": [
       "    prefixes  keyword suffixes\n",
       "0       good  battery     life\n",
       "1      great  battery    lasts\n",
       "2       long  battery     last\n",
       "3        new  battery    doesn\n",
       "4  removable  battery     runs"
      ]
     },
     "execution_count": 47,
     "metadata": {},
     "output_type": "execute_result"
    }
   ],
   "source": [
    "get_context(samsung_reviews,\"battery\")"
   ]
  },
  {
   "cell_type": "code",
   "execution_count": 48,
   "id": "3d5d1ab6",
   "metadata": {
    "execution": {
     "iopub.execute_input": "2023-06-16T06:31:40.523677Z",
     "iopub.status.busy": "2023-06-16T06:31:40.523280Z",
     "iopub.status.idle": "2023-06-16T06:31:41.396447Z",
     "shell.execute_reply": "2023-06-16T06:31:41.395546Z"
    },
    "papermill": {
     "duration": 0.920542,
     "end_time": "2023-06-16T06:31:41.398786",
     "exception": false,
     "start_time": "2023-06-16T06:31:40.478244",
     "status": "completed"
    },
    "tags": []
   },
   "outputs": [
    {
     "data": {
      "text/html": [
       "<div>\n",
       "<style scoped>\n",
       "    .dataframe tbody tr th:only-of-type {\n",
       "        vertical-align: middle;\n",
       "    }\n",
       "\n",
       "    .dataframe tbody tr th {\n",
       "        vertical-align: top;\n",
       "    }\n",
       "\n",
       "    .dataframe thead th {\n",
       "        text-align: right;\n",
       "    }\n",
       "</style>\n",
       "<table border=\"1\" class=\"dataframe\">\n",
       "  <thead>\n",
       "    <tr style=\"text-align: right;\">\n",
       "      <th></th>\n",
       "      <th>prefixes</th>\n",
       "      <th>keyword</th>\n",
       "      <th>suffixes</th>\n",
       "    </tr>\n",
       "  </thead>\n",
       "  <tbody>\n",
       "    <tr>\n",
       "      <th>0</th>\n",
       "      <td>touch</td>\n",
       "      <td>screen</td>\n",
       "      <td>protector</td>\n",
       "    </tr>\n",
       "    <tr>\n",
       "      <th>1</th>\n",
       "      <td>big</td>\n",
       "      <td>screen</td>\n",
       "      <td>size</td>\n",
       "    </tr>\n",
       "    <tr>\n",
       "      <th>2</th>\n",
       "      <td>great</td>\n",
       "      <td>screen</td>\n",
       "      <td>resolution</td>\n",
       "    </tr>\n",
       "    <tr>\n",
       "      <th>3</th>\n",
       "      <td>large</td>\n",
       "      <td>screen</td>\n",
       "      <td>protectors</td>\n",
       "    </tr>\n",
       "    <tr>\n",
       "      <th>4</th>\n",
       "      <td>home</td>\n",
       "      <td>screen</td>\n",
       "      <td>quality</td>\n",
       "    </tr>\n",
       "  </tbody>\n",
       "</table>\n",
       "</div>"
      ],
      "text/plain": [
       "  prefixes keyword    suffixes\n",
       "0    touch  screen   protector\n",
       "1      big  screen        size\n",
       "2    great  screen  resolution\n",
       "3    large  screen  protectors\n",
       "4     home  screen     quality"
      ]
     },
     "execution_count": 48,
     "metadata": {},
     "output_type": "execute_result"
    }
   ],
   "source": [
    "get_context(samsung_reviews,\"screen\")"
   ]
  },
  {
   "cell_type": "markdown",
   "id": "06a545ec",
   "metadata": {
    "papermill": {
     "duration": 0.047562,
     "end_time": "2023-06-16T06:31:41.490359",
     "exception": false,
     "start_time": "2023-06-16T06:31:41.442797",
     "status": "completed"
    },
    "tags": []
   },
   "source": [
    "**Summary:**\n",
    "\n",
    "- Simple hueristics sometime are very usefull\n",
    "- Regex can be life saviours\n",
    "- Don't forget to use simple text processing while trying to solve a non-trival problem"
   ]
  },
  {
   "cell_type": "markdown",
   "id": "9f87c188",
   "metadata": {
    "papermill": {
     "duration": 0.046882,
     "end_time": "2023-06-16T06:31:41.594249",
     "exception": false,
     "start_time": "2023-06-16T06:31:41.547367",
     "status": "completed"
    },
    "tags": []
   },
   "source": [
    "## **Questions Practice:**\n",
    "\n",
    "Using Dataset- Taggedword Dataset."
   ]
  },
  {
   "cell_type": "code",
   "execution_count": 49,
   "id": "036423b7",
   "metadata": {
    "execution": {
     "iopub.execute_input": "2023-06-16T06:31:41.686197Z",
     "iopub.status.busy": "2023-06-16T06:31:41.685260Z",
     "iopub.status.idle": "2023-06-16T06:31:42.140326Z",
     "shell.execute_reply": "2023-06-16T06:31:42.139640Z"
    },
    "papermill": {
     "duration": 0.504209,
     "end_time": "2023-06-16T06:31:42.142941",
     "exception": false,
     "start_time": "2023-06-16T06:31:41.638732",
     "status": "completed"
    },
    "tags": []
   },
   "outputs": [
    {
     "data": {
      "text/html": [
       "<div>\n",
       "<style scoped>\n",
       "    .dataframe tbody tr th:only-of-type {\n",
       "        vertical-align: middle;\n",
       "    }\n",
       "\n",
       "    .dataframe tbody tr th {\n",
       "        vertical-align: top;\n",
       "    }\n",
       "\n",
       "    .dataframe thead th {\n",
       "        text-align: right;\n",
       "    }\n",
       "</style>\n",
       "<table border=\"1\" class=\"dataframe\">\n",
       "  <thead>\n",
       "    <tr style=\"text-align: right;\">\n",
       "      <th></th>\n",
       "      <th>word</th>\n",
       "      <th>tag</th>\n",
       "    </tr>\n",
       "  </thead>\n",
       "  <tbody>\n",
       "    <tr>\n",
       "      <th>0</th>\n",
       "      <td>the</td>\n",
       "      <td>DET</td>\n",
       "    </tr>\n",
       "    <tr>\n",
       "      <th>1</th>\n",
       "      <td>fulton</td>\n",
       "      <td>NOUN</td>\n",
       "    </tr>\n",
       "    <tr>\n",
       "      <th>2</th>\n",
       "      <td>county</td>\n",
       "      <td>NOUN</td>\n",
       "    </tr>\n",
       "    <tr>\n",
       "      <th>3</th>\n",
       "      <td>grand</td>\n",
       "      <td>ADJ</td>\n",
       "    </tr>\n",
       "    <tr>\n",
       "      <th>4</th>\n",
       "      <td>jury</td>\n",
       "      <td>NOUN</td>\n",
       "    </tr>\n",
       "    <tr>\n",
       "      <th>...</th>\n",
       "      <td>...</td>\n",
       "      <td>...</td>\n",
       "    </tr>\n",
       "    <tr>\n",
       "      <th>1161187</th>\n",
       "      <td>boucle</td>\n",
       "      <td>NOUN</td>\n",
       "    </tr>\n",
       "    <tr>\n",
       "      <th>1161188</th>\n",
       "      <td>dress</td>\n",
       "      <td>NOUN</td>\n",
       "    </tr>\n",
       "    <tr>\n",
       "      <th>1161189</th>\n",
       "      <td>was</td>\n",
       "      <td>VERB</td>\n",
       "    </tr>\n",
       "    <tr>\n",
       "      <th>1161190</th>\n",
       "      <td>stupefying</td>\n",
       "      <td>VERB</td>\n",
       "    </tr>\n",
       "    <tr>\n",
       "      <th>1161191</th>\n",
       "      <td>!</td>\n",
       "      <td>ADJ</td>\n",
       "    </tr>\n",
       "  </tbody>\n",
       "</table>\n",
       "<p>1161192 rows × 2 columns</p>\n",
       "</div>"
      ],
      "text/plain": [
       "               word   tag\n",
       "0               the   DET\n",
       "1            fulton  NOUN\n",
       "2            county  NOUN\n",
       "3             grand   ADJ\n",
       "4              jury  NOUN\n",
       "...             ...   ...\n",
       "1161187      boucle  NOUN\n",
       "1161188       dress  NOUN\n",
       "1161189         was  VERB\n",
       "1161190  stupefying  VERB\n",
       "1161191           !   ADJ\n",
       "\n",
       "[1161192 rows x 2 columns]"
      ]
     },
     "execution_count": 49,
     "metadata": {},
     "output_type": "execute_result"
    }
   ],
   "source": [
    "data = pd.read_csv(\"/kaggle/input/tagged-words/tagged_words.csv\")\n",
    "data"
   ]
  },
  {
   "cell_type": "markdown",
   "id": "a699cb9a",
   "metadata": {
    "papermill": {
     "duration": 0.044168,
     "end_time": "2023-06-16T06:31:42.235149",
     "exception": false,
     "start_time": "2023-06-16T06:31:42.190981",
     "status": "completed"
    },
    "tags": []
   },
   "source": [
    "**1.Using the rule/frequency-based PoS tagger (which you can build with the training data set provided above), you can find out the PoS tag for each word.\n",
    "What will be the PoS tag for the word ‘saw’ in this sentence?**\n",
    "\n",
    "S: “I saw him running away”.\n",
    "\n",
    "(Ignore the case of the text in the sentence as well as in your training data)."
   ]
  },
  {
   "cell_type": "markdown",
   "id": "cf03f4fe",
   "metadata": {
    "papermill": {
     "duration": 0.043514,
     "end_time": "2023-06-16T06:31:42.324203",
     "exception": false,
     "start_time": "2023-06-16T06:31:42.280689",
     "status": "completed"
    },
    "tags": []
   },
   "source": [
    "You can count the number of times the word ‘saw’ occurs as different PoS tags. The majority tag will be the PoS tag of the word ‘saw’ in this sentence."
   ]
  },
  {
   "cell_type": "code",
   "execution_count": 50,
   "id": "0d793e88",
   "metadata": {
    "execution": {
     "iopub.execute_input": "2023-06-16T06:31:42.416069Z",
     "iopub.status.busy": "2023-06-16T06:31:42.415010Z",
     "iopub.status.idle": "2023-06-16T06:31:43.110764Z",
     "shell.execute_reply": "2023-06-16T06:31:43.109668Z"
    },
    "papermill": {
     "duration": 0.744068,
     "end_time": "2023-06-16T06:31:43.112863",
     "exception": false,
     "start_time": "2023-06-16T06:31:42.368795",
     "status": "completed"
    },
    "tags": []
   },
   "outputs": [
    {
     "name": "stdout",
     "output_type": "stream",
     "text": [
      "('I', 'PRON')\n",
      "('saw', 'VERB')\n",
      "('him', 'PRON')\n",
      "('running', 'VERB')\n",
      "('away', 'ADV')\n"
     ]
    },
    {
     "data": {
      "text/plain": [
       "VERB    347\n",
       "NOUN      5\n",
       "Name: tag, dtype: int64"
      ]
     },
     "execution_count": 50,
     "metadata": {},
     "output_type": "execute_result"
    }
   ],
   "source": [
    "sent = \"I saw him running away\"\n",
    "\n",
    "def get_common_tag(data,word):\n",
    "    if word.lower() in data['word'].unique():\n",
    "        q = f\"word=='{word.lower()}'\"\n",
    "        return word , data.query(q)['tag'].value_counts().head(1).index.tolist()[0]\n",
    "    else:\n",
    "        return f\"{word} not in data\"\n",
    "\n",
    "for word in sent.split(\" \"):\n",
    "    print(get_common_tag(data,word))\n",
    " \n",
    "data.query(\"word=='saw'\")['tag'].value_counts()"
   ]
  },
  {
   "cell_type": "markdown",
   "id": "9adc33ea",
   "metadata": {
    "papermill": {
     "duration": 0.043724,
     "end_time": "2023-06-16T06:31:43.201390",
     "exception": false,
     "start_time": "2023-06-16T06:31:43.157666",
     "status": "completed"
    },
    "tags": []
   },
   "source": [
    "**2. You can use the rule/frequency-based PoS tagger (which you can build with the training data set provided above) to find out the PoS tag for each word of any sentence.**\n",
    "\n",
    "Now, use this data set to create PoS tags for the sentence “He wished he was rich”. (Ignore the case of the words in the sentence as well as in the training data). Match the words in the left column with their PoS tags in the column on the right."
   ]
  },
  {
   "cell_type": "code",
   "execution_count": 51,
   "id": "bb6869f9",
   "metadata": {
    "execution": {
     "iopub.execute_input": "2023-06-16T06:31:43.291303Z",
     "iopub.status.busy": "2023-06-16T06:31:43.290925Z",
     "iopub.status.idle": "2023-06-16T06:31:43.933572Z",
     "shell.execute_reply": "2023-06-16T06:31:43.932361Z"
    },
    "papermill": {
     "duration": 0.690763,
     "end_time": "2023-06-16T06:31:43.936000",
     "exception": false,
     "start_time": "2023-06-16T06:31:43.245237",
     "status": "completed"
    },
    "tags": []
   },
   "outputs": [
    {
     "name": "stdout",
     "output_type": "stream",
     "text": [
      "('He', 'PRON')\n",
      "('wished', 'VERB')\n",
      "('he', 'PRON')\n",
      "('was', 'VERB')\n",
      "('rich', 'ADJ')\n"
     ]
    }
   ],
   "source": [
    "s = \"He wished he was rich\"\n",
    " \n",
    "def get_common_tag(data,word):\n",
    "    if word.lower() in data['word'].unique():\n",
    "        q = f\"word=='{word.lower()}'\"\n",
    "        return word , data.query(q)['tag'].value_counts().head(1).index.tolist()[0]\n",
    "    else:\n",
    "        return f\"{word} not in data\"\n",
    " \n",
    "for word in s.split(\" \"):\n",
    "    print(get_common_tag(data,word))"
   ]
  },
  {
   "cell_type": "markdown",
   "id": "aa5197cf",
   "metadata": {
    "papermill": {
     "duration": 0.044585,
     "end_time": "2023-06-16T06:31:44.025462",
     "exception": false,
     "start_time": "2023-06-16T06:31:43.980877",
     "status": "completed"
    },
    "tags": []
   },
   "source": [
    "**3.You are already aware of how an emission matrix looks. Now, take a look at this emission matrix.**\n",
    " \n",
    "\n",
    "**WORDS\tPOS TAG_1\tPOS TAG_2\tPOS TAG_3\n",
    "word_1\t0.25\t0.31\t0.12\n",
    "word_2\t0.054\t0.10\t0.08\n",
    "word_3\t0.15\t0.09\t0.32\n",
    "...\t...\t...\t...\n",
    "You already know that the column-wise sum of an emission matrix is always 1. So, in the matrix above, suppose the word ‘word_1’ appears a total of 20 times as a ‘PoS_TAG_1’ in the entire data set, and the total count of ‘PoS_TAG_1’ in the entire data set is 80. Then the emission probability of ‘word_1’ will be 20/80, i.e., 0.25, which is also referred to as P(word_1| PoS_TAG_1).*\n",
    "\n",
    "Now, based on the knowledge of the emission matrix and probability, you need to create an emission matrix for the given data set, i.e., ‘tagged_words.csv’. You can ignore the case of the words in the data set. What is the value of P(his|PRON)?\n",
    "\n",
    "Hint: You can use the Pandas library and try to create a crosstab using pd.crosstab() and use the normalize option for the columns to obtain the proportion values appropriately."
   ]
  },
  {
   "cell_type": "code",
   "execution_count": 52,
   "id": "9f98e083",
   "metadata": {
    "execution": {
     "iopub.execute_input": "2023-06-16T06:31:44.116167Z",
     "iopub.status.busy": "2023-06-16T06:31:44.115418Z",
     "iopub.status.idle": "2023-06-16T06:31:45.656455Z",
     "shell.execute_reply": "2023-06-16T06:31:45.655459Z"
    },
    "papermill": {
     "duration": 1.588732,
     "end_time": "2023-06-16T06:31:45.658634",
     "exception": false,
     "start_time": "2023-06-16T06:31:44.069902",
     "status": "completed"
    },
    "tags": []
   },
   "outputs": [
    {
     "data": {
      "text/plain": [
       "0.001"
      ]
     },
     "execution_count": 52,
     "metadata": {},
     "output_type": "execute_result"
    }
   ],
   "source": [
    "emmission_matrix = pd.crosstab(data['word'],data['tag'],normalize='columns')\n",
    "\n",
    "word = 'his'\n",
    "emmission_matrix.loc[word][emmission_matrix.loc[word]>0].round(3)\n",
    "emmission_matrix['PRON'].loc['his'].round(3)"
   ]
  },
  {
   "cell_type": "markdown",
   "id": "4c9d84aa",
   "metadata": {
    "papermill": {
     "duration": 0.044311,
     "end_time": "2023-06-16T06:31:45.748806",
     "exception": false,
     "start_time": "2023-06-16T06:31:45.704495",
     "status": "completed"
    },
    "tags": []
   },
   "source": [
    "**4. Using the given data set, can you compute the transition matrix?**\n",
    "\n",
    "Hint: Look for definite markers of sentence boundary, don't assume \"?\", \"!\" etc to be representing end of sentence conclusively in this dataset"
   ]
  },
  {
   "cell_type": "markdown",
   "id": "9bfd16ee",
   "metadata": {
    "papermill": {
     "duration": 0.044502,
     "end_time": "2023-06-16T06:31:45.837988",
     "exception": false,
     "start_time": "2023-06-16T06:31:45.793486",
     "status": "completed"
    },
    "tags": []
   },
   "source": [
    "**ANS: NO**\n",
    "\n",
    "To compute the transition matrix, you need data on the sentence boundaries as well. In the current data set, you only know which words had which PoS tags."
   ]
  },
  {
   "cell_type": "markdown",
   "id": "0e5d6cf1",
   "metadata": {
    "papermill": {
     "duration": 0.104028,
     "end_time": "2023-06-16T06:31:45.986473",
     "exception": false,
     "start_time": "2023-06-16T06:31:45.882445",
     "status": "completed"
    },
    "tags": []
   },
   "source": [
    "**5. When you use spaCy to perform PoS tagging, which token attributes can be used to extract PoS tags? (Multiple options can be correct.)**\n",
    "\n",
    "\n",
    "**ANS:**\n",
    "* .pos_\n",
    "* .tag_"
   ]
  },
  {
   "cell_type": "markdown",
   "id": "c517808d",
   "metadata": {
    "papermill": {
     "duration": 0.044409,
     "end_time": "2023-06-16T06:31:46.075499",
     "exception": false,
     "start_time": "2023-06-16T06:31:46.031090",
     "status": "completed"
    },
    "tags": []
   },
   "source": [
    "# **Parsing**"
   ]
  },
  {
   "cell_type": "markdown",
   "id": "568ce3cf",
   "metadata": {
    "papermill": {
     "duration": 0.044094,
     "end_time": "2023-06-16T06:31:46.164437",
     "exception": false,
     "start_time": "2023-06-16T06:31:46.120343",
     "status": "completed"
    },
    "tags": []
   },
   "source": [
    "## How Dependency Parsing Works?"
   ]
  },
  {
   "cell_type": "code",
   "execution_count": 53,
   "id": "fcc63629",
   "metadata": {
    "execution": {
     "iopub.execute_input": "2023-06-16T06:31:46.256333Z",
     "iopub.status.busy": "2023-06-16T06:31:46.255418Z",
     "iopub.status.idle": "2023-06-16T06:31:47.039216Z",
     "shell.execute_reply": "2023-06-16T06:31:47.038102Z"
    },
    "papermill": {
     "duration": 0.832694,
     "end_time": "2023-06-16T06:31:47.041951",
     "exception": false,
     "start_time": "2023-06-16T06:31:46.209257",
     "status": "completed"
    },
    "tags": []
   },
   "outputs": [],
   "source": [
    "import spacy\n",
    "from spacy import displacy\n",
    "\n",
    "import pandas as pd\n",
    "\n",
    "nlp = spacy.load('en_core_web_sm')"
   ]
  },
  {
   "cell_type": "code",
   "execution_count": 54,
   "id": "ed46e098",
   "metadata": {
    "execution": {
     "iopub.execute_input": "2023-06-16T06:31:47.135523Z",
     "iopub.status.busy": "2023-06-16T06:31:47.135132Z",
     "iopub.status.idle": "2023-06-16T06:31:47.140021Z",
     "shell.execute_reply": "2023-06-16T06:31:47.139001Z"
    },
    "papermill": {
     "duration": 0.053894,
     "end_time": "2023-06-16T06:31:47.142081",
     "exception": false,
     "start_time": "2023-06-16T06:31:47.088187",
     "status": "completed"
    },
    "tags": []
   },
   "outputs": [],
   "source": [
    "active = ['Hens lay eggs.',\n",
    "         'Birds build nests.',\n",
    "         'The batter hit the ball.',\n",
    "         'The computer transmitted a copy of the manual']\n",
    "passive = ['Eggs are laid by hens',\n",
    "           'Nests are built by birds',\n",
    "           'The ball was hit by the batter',\n",
    "           'A copy of the manual was transmitted by the computer.']"
   ]
  },
  {
   "cell_type": "code",
   "execution_count": 55,
   "id": "19c0a525",
   "metadata": {
    "execution": {
     "iopub.execute_input": "2023-06-16T06:31:47.234355Z",
     "iopub.status.busy": "2023-06-16T06:31:47.233278Z",
     "iopub.status.idle": "2023-06-16T06:31:47.247560Z",
     "shell.execute_reply": "2023-06-16T06:31:47.246346Z"
    },
    "papermill": {
     "duration": 0.062448,
     "end_time": "2023-06-16T06:31:47.249764",
     "exception": false,
     "start_time": "2023-06-16T06:31:47.187316",
     "status": "completed"
    },
    "tags": []
   },
   "outputs": [
    {
     "name": "stdout",
     "output_type": "stream",
     "text": [
      "Hens nsubj\n",
      "lay ROOT\n",
      "eggs dobj\n",
      ". punct\n"
     ]
    }
   ],
   "source": [
    "doc = nlp(active[0])\n",
    "for tok in doc:\n",
    "    print(tok.text, tok.dep_)"
   ]
  },
  {
   "cell_type": "markdown",
   "id": "2f386c09",
   "metadata": {
    "papermill": {
     "duration": 0.045187,
     "end_time": "2023-06-16T06:31:47.341183",
     "exception": false,
     "start_time": "2023-06-16T06:31:47.295996",
     "status": "completed"
    },
    "tags": []
   },
   "source": [
    "#### **Visualize this Parse**"
   ]
  },
  {
   "cell_type": "code",
   "execution_count": 56,
   "id": "e2cc4554",
   "metadata": {
    "execution": {
     "iopub.execute_input": "2023-06-16T06:31:47.433668Z",
     "iopub.status.busy": "2023-06-16T06:31:47.433031Z",
     "iopub.status.idle": "2023-06-16T06:31:47.443651Z",
     "shell.execute_reply": "2023-06-16T06:31:47.442665Z"
    },
    "papermill": {
     "duration": 0.058919,
     "end_time": "2023-06-16T06:31:47.445599",
     "exception": false,
     "start_time": "2023-06-16T06:31:47.386680",
     "status": "completed"
    },
    "tags": []
   },
   "outputs": [
    {
     "data": {
      "text/html": [
       "<span class=\"tex2jax_ignore\"><svg xmlns=\"http://www.w3.org/2000/svg\" xmlns:xlink=\"http://www.w3.org/1999/xlink\" xml:lang=\"en\" id=\"b67e87dd564b4fe4871a87abec398b1a-0\" class=\"displacy\" width=\"575\" height=\"224.5\" direction=\"ltr\" style=\"max-width: none; height: 224.5px; color: #000000; background: #ffffff; font-family: Arial; direction: ltr\">\n",
       "<text class=\"displacy-token\" fill=\"currentColor\" text-anchor=\"middle\" y=\"134.5\">\n",
       "    <tspan class=\"displacy-word\" fill=\"currentColor\" x=\"50\">Hens</tspan>\n",
       "    <tspan class=\"displacy-tag\" dy=\"2em\" fill=\"currentColor\" x=\"50\">NOUN</tspan>\n",
       "</text>\n",
       "\n",
       "<text class=\"displacy-token\" fill=\"currentColor\" text-anchor=\"middle\" y=\"134.5\">\n",
       "    <tspan class=\"displacy-word\" fill=\"currentColor\" x=\"225\">lay</tspan>\n",
       "    <tspan class=\"displacy-tag\" dy=\"2em\" fill=\"currentColor\" x=\"225\">VERB</tspan>\n",
       "</text>\n",
       "\n",
       "<text class=\"displacy-token\" fill=\"currentColor\" text-anchor=\"middle\" y=\"134.5\">\n",
       "    <tspan class=\"displacy-word\" fill=\"currentColor\" x=\"400\">eggs.</tspan>\n",
       "    <tspan class=\"displacy-tag\" dy=\"2em\" fill=\"currentColor\" x=\"400\">NOUN</tspan>\n",
       "</text>\n",
       "\n",
       "<g class=\"displacy-arrow\">\n",
       "    <path class=\"displacy-arc\" id=\"arrow-b67e87dd564b4fe4871a87abec398b1a-0-0\" stroke-width=\"2px\" d=\"M70,89.5 C70,2.0 225.0,2.0 225.0,89.5\" fill=\"none\" stroke=\"currentColor\"/>\n",
       "    <text dy=\"1.25em\" style=\"font-size: 0.8em; letter-spacing: 1px\">\n",
       "        <textPath xlink:href=\"#arrow-b67e87dd564b4fe4871a87abec398b1a-0-0\" class=\"displacy-label\" startOffset=\"50%\" side=\"left\" fill=\"currentColor\" text-anchor=\"middle\">nsubj</textPath>\n",
       "    </text>\n",
       "    <path class=\"displacy-arrowhead\" d=\"M70,91.5 L62,79.5 78,79.5\" fill=\"currentColor\"/>\n",
       "</g>\n",
       "\n",
       "<g class=\"displacy-arrow\">\n",
       "    <path class=\"displacy-arc\" id=\"arrow-b67e87dd564b4fe4871a87abec398b1a-0-1\" stroke-width=\"2px\" d=\"M245,89.5 C245,2.0 400.0,2.0 400.0,89.5\" fill=\"none\" stroke=\"currentColor\"/>\n",
       "    <text dy=\"1.25em\" style=\"font-size: 0.8em; letter-spacing: 1px\">\n",
       "        <textPath xlink:href=\"#arrow-b67e87dd564b4fe4871a87abec398b1a-0-1\" class=\"displacy-label\" startOffset=\"50%\" side=\"left\" fill=\"currentColor\" text-anchor=\"middle\">dobj</textPath>\n",
       "    </text>\n",
       "    <path class=\"displacy-arrowhead\" d=\"M400.0,91.5 L408.0,79.5 392.0,79.5\" fill=\"currentColor\"/>\n",
       "</g>\n",
       "</svg></span>"
      ],
      "text/plain": [
       "<IPython.core.display.HTML object>"
      ]
     },
     "metadata": {},
     "output_type": "display_data"
    }
   ],
   "source": [
    "displacy.render(doc, style ='dep')"
   ]
  },
  {
   "cell_type": "markdown",
   "id": "5de716a6",
   "metadata": {
    "papermill": {
     "duration": 0.044206,
     "end_time": "2023-06-16T06:31:47.534981",
     "exception": false,
     "start_time": "2023-06-16T06:31:47.490775",
     "status": "completed"
    },
    "tags": []
   },
   "source": [
    "To understand what these dependency relationships one can use [this link](https://universaldependencies.org/docs/en/dep/)"
   ]
  },
  {
   "cell_type": "markdown",
   "id": "c2b35b0b",
   "metadata": {
    "papermill": {
     "duration": 0.045271,
     "end_time": "2023-06-16T06:31:47.627528",
     "exception": false,
     "start_time": "2023-06-16T06:31:47.582257",
     "status": "completed"
    },
    "tags": []
   },
   "source": [
    "Going through the dependency relationships it looks like that one would need to know linguistics and grammar to be able to do analysis. This is not entirely true. Many times being able to find out `patterns` in terms of dependency relationships is enough to perform the task at hand"
   ]
  },
  {
   "cell_type": "code",
   "execution_count": 57,
   "id": "79671fc5",
   "metadata": {
    "execution": {
     "iopub.execute_input": "2023-06-16T06:31:47.733909Z",
     "iopub.status.busy": "2023-06-16T06:31:47.733209Z",
     "iopub.status.idle": "2023-06-16T06:31:47.784757Z",
     "shell.execute_reply": "2023-06-16T06:31:47.784048Z"
    },
    "papermill": {
     "duration": 0.104164,
     "end_time": "2023-06-16T06:31:47.786626",
     "exception": false,
     "start_time": "2023-06-16T06:31:47.682462",
     "status": "completed"
    },
    "tags": []
   },
   "outputs": [
    {
     "data": {
      "text/html": [
       "<span class=\"tex2jax_ignore\"><svg xmlns=\"http://www.w3.org/2000/svg\" xmlns:xlink=\"http://www.w3.org/1999/xlink\" xml:lang=\"en\" id=\"2f08544151b94c9abb3ecc4ff3c9c82b-0\" class=\"displacy\" width=\"575\" height=\"224.5\" direction=\"ltr\" style=\"max-width: none; height: 224.5px; color: #000000; background: #ffffff; font-family: Arial; direction: ltr\">\n",
       "<text class=\"displacy-token\" fill=\"currentColor\" text-anchor=\"middle\" y=\"134.5\">\n",
       "    <tspan class=\"displacy-word\" fill=\"currentColor\" x=\"50\">Hens</tspan>\n",
       "    <tspan class=\"displacy-tag\" dy=\"2em\" fill=\"currentColor\" x=\"50\">NOUN</tspan>\n",
       "</text>\n",
       "\n",
       "<text class=\"displacy-token\" fill=\"currentColor\" text-anchor=\"middle\" y=\"134.5\">\n",
       "    <tspan class=\"displacy-word\" fill=\"currentColor\" x=\"225\">lay</tspan>\n",
       "    <tspan class=\"displacy-tag\" dy=\"2em\" fill=\"currentColor\" x=\"225\">VERB</tspan>\n",
       "</text>\n",
       "\n",
       "<text class=\"displacy-token\" fill=\"currentColor\" text-anchor=\"middle\" y=\"134.5\">\n",
       "    <tspan class=\"displacy-word\" fill=\"currentColor\" x=\"400\">eggs.</tspan>\n",
       "    <tspan class=\"displacy-tag\" dy=\"2em\" fill=\"currentColor\" x=\"400\">NOUN</tspan>\n",
       "</text>\n",
       "\n",
       "<g class=\"displacy-arrow\">\n",
       "    <path class=\"displacy-arc\" id=\"arrow-2f08544151b94c9abb3ecc4ff3c9c82b-0-0\" stroke-width=\"2px\" d=\"M70,89.5 C70,2.0 225.0,2.0 225.0,89.5\" fill=\"none\" stroke=\"currentColor\"/>\n",
       "    <text dy=\"1.25em\" style=\"font-size: 0.8em; letter-spacing: 1px\">\n",
       "        <textPath xlink:href=\"#arrow-2f08544151b94c9abb3ecc4ff3c9c82b-0-0\" class=\"displacy-label\" startOffset=\"50%\" side=\"left\" fill=\"currentColor\" text-anchor=\"middle\">nsubj</textPath>\n",
       "    </text>\n",
       "    <path class=\"displacy-arrowhead\" d=\"M70,91.5 L62,79.5 78,79.5\" fill=\"currentColor\"/>\n",
       "</g>\n",
       "\n",
       "<g class=\"displacy-arrow\">\n",
       "    <path class=\"displacy-arc\" id=\"arrow-2f08544151b94c9abb3ecc4ff3c9c82b-0-1\" stroke-width=\"2px\" d=\"M245,89.5 C245,2.0 400.0,2.0 400.0,89.5\" fill=\"none\" stroke=\"currentColor\"/>\n",
       "    <text dy=\"1.25em\" style=\"font-size: 0.8em; letter-spacing: 1px\">\n",
       "        <textPath xlink:href=\"#arrow-2f08544151b94c9abb3ecc4ff3c9c82b-0-1\" class=\"displacy-label\" startOffset=\"50%\" side=\"left\" fill=\"currentColor\" text-anchor=\"middle\">dobj</textPath>\n",
       "    </text>\n",
       "    <path class=\"displacy-arrowhead\" d=\"M400.0,91.5 L408.0,79.5 392.0,79.5\" fill=\"currentColor\"/>\n",
       "</g>\n",
       "</svg></span>"
      ],
      "text/plain": [
       "<IPython.core.display.HTML object>"
      ]
     },
     "metadata": {},
     "output_type": "display_data"
    },
    {
     "data": {
      "text/html": [
       "<span class=\"tex2jax_ignore\"><svg xmlns=\"http://www.w3.org/2000/svg\" xmlns:xlink=\"http://www.w3.org/1999/xlink\" xml:lang=\"en\" id=\"74c4e338e16c468a80358d6d2b7f8a10-0\" class=\"displacy\" width=\"575\" height=\"224.5\" direction=\"ltr\" style=\"max-width: none; height: 224.5px; color: #000000; background: #ffffff; font-family: Arial; direction: ltr\">\n",
       "<text class=\"displacy-token\" fill=\"currentColor\" text-anchor=\"middle\" y=\"134.5\">\n",
       "    <tspan class=\"displacy-word\" fill=\"currentColor\" x=\"50\">Birds</tspan>\n",
       "    <tspan class=\"displacy-tag\" dy=\"2em\" fill=\"currentColor\" x=\"50\">NOUN</tspan>\n",
       "</text>\n",
       "\n",
       "<text class=\"displacy-token\" fill=\"currentColor\" text-anchor=\"middle\" y=\"134.5\">\n",
       "    <tspan class=\"displacy-word\" fill=\"currentColor\" x=\"225\">build</tspan>\n",
       "    <tspan class=\"displacy-tag\" dy=\"2em\" fill=\"currentColor\" x=\"225\">VERB</tspan>\n",
       "</text>\n",
       "\n",
       "<text class=\"displacy-token\" fill=\"currentColor\" text-anchor=\"middle\" y=\"134.5\">\n",
       "    <tspan class=\"displacy-word\" fill=\"currentColor\" x=\"400\">nests.</tspan>\n",
       "    <tspan class=\"displacy-tag\" dy=\"2em\" fill=\"currentColor\" x=\"400\">NOUN</tspan>\n",
       "</text>\n",
       "\n",
       "<g class=\"displacy-arrow\">\n",
       "    <path class=\"displacy-arc\" id=\"arrow-74c4e338e16c468a80358d6d2b7f8a10-0-0\" stroke-width=\"2px\" d=\"M70,89.5 C70,2.0 225.0,2.0 225.0,89.5\" fill=\"none\" stroke=\"currentColor\"/>\n",
       "    <text dy=\"1.25em\" style=\"font-size: 0.8em; letter-spacing: 1px\">\n",
       "        <textPath xlink:href=\"#arrow-74c4e338e16c468a80358d6d2b7f8a10-0-0\" class=\"displacy-label\" startOffset=\"50%\" side=\"left\" fill=\"currentColor\" text-anchor=\"middle\">nsubj</textPath>\n",
       "    </text>\n",
       "    <path class=\"displacy-arrowhead\" d=\"M70,91.5 L62,79.5 78,79.5\" fill=\"currentColor\"/>\n",
       "</g>\n",
       "\n",
       "<g class=\"displacy-arrow\">\n",
       "    <path class=\"displacy-arc\" id=\"arrow-74c4e338e16c468a80358d6d2b7f8a10-0-1\" stroke-width=\"2px\" d=\"M245,89.5 C245,2.0 400.0,2.0 400.0,89.5\" fill=\"none\" stroke=\"currentColor\"/>\n",
       "    <text dy=\"1.25em\" style=\"font-size: 0.8em; letter-spacing: 1px\">\n",
       "        <textPath xlink:href=\"#arrow-74c4e338e16c468a80358d6d2b7f8a10-0-1\" class=\"displacy-label\" startOffset=\"50%\" side=\"left\" fill=\"currentColor\" text-anchor=\"middle\">dobj</textPath>\n",
       "    </text>\n",
       "    <path class=\"displacy-arrowhead\" d=\"M400.0,91.5 L408.0,79.5 392.0,79.5\" fill=\"currentColor\"/>\n",
       "</g>\n",
       "</svg></span>"
      ],
      "text/plain": [
       "<IPython.core.display.HTML object>"
      ]
     },
     "metadata": {},
     "output_type": "display_data"
    },
    {
     "data": {
      "text/html": [
       "<span class=\"tex2jax_ignore\"><svg xmlns=\"http://www.w3.org/2000/svg\" xmlns:xlink=\"http://www.w3.org/1999/xlink\" xml:lang=\"en\" id=\"9116379e6dc34a33803daf6ca2655d11-0\" class=\"displacy\" width=\"925\" height=\"312.0\" direction=\"ltr\" style=\"max-width: none; height: 312.0px; color: #000000; background: #ffffff; font-family: Arial; direction: ltr\">\n",
       "<text class=\"displacy-token\" fill=\"currentColor\" text-anchor=\"middle\" y=\"222.0\">\n",
       "    <tspan class=\"displacy-word\" fill=\"currentColor\" x=\"50\">The</tspan>\n",
       "    <tspan class=\"displacy-tag\" dy=\"2em\" fill=\"currentColor\" x=\"50\">DET</tspan>\n",
       "</text>\n",
       "\n",
       "<text class=\"displacy-token\" fill=\"currentColor\" text-anchor=\"middle\" y=\"222.0\">\n",
       "    <tspan class=\"displacy-word\" fill=\"currentColor\" x=\"225\">batter</tspan>\n",
       "    <tspan class=\"displacy-tag\" dy=\"2em\" fill=\"currentColor\" x=\"225\">NOUN</tspan>\n",
       "</text>\n",
       "\n",
       "<text class=\"displacy-token\" fill=\"currentColor\" text-anchor=\"middle\" y=\"222.0\">\n",
       "    <tspan class=\"displacy-word\" fill=\"currentColor\" x=\"400\">hit</tspan>\n",
       "    <tspan class=\"displacy-tag\" dy=\"2em\" fill=\"currentColor\" x=\"400\">VERB</tspan>\n",
       "</text>\n",
       "\n",
       "<text class=\"displacy-token\" fill=\"currentColor\" text-anchor=\"middle\" y=\"222.0\">\n",
       "    <tspan class=\"displacy-word\" fill=\"currentColor\" x=\"575\">the</tspan>\n",
       "    <tspan class=\"displacy-tag\" dy=\"2em\" fill=\"currentColor\" x=\"575\">DET</tspan>\n",
       "</text>\n",
       "\n",
       "<text class=\"displacy-token\" fill=\"currentColor\" text-anchor=\"middle\" y=\"222.0\">\n",
       "    <tspan class=\"displacy-word\" fill=\"currentColor\" x=\"750\">ball.</tspan>\n",
       "    <tspan class=\"displacy-tag\" dy=\"2em\" fill=\"currentColor\" x=\"750\">NOUN</tspan>\n",
       "</text>\n",
       "\n",
       "<g class=\"displacy-arrow\">\n",
       "    <path class=\"displacy-arc\" id=\"arrow-9116379e6dc34a33803daf6ca2655d11-0-0\" stroke-width=\"2px\" d=\"M70,177.0 C70,89.5 220.0,89.5 220.0,177.0\" fill=\"none\" stroke=\"currentColor\"/>\n",
       "    <text dy=\"1.25em\" style=\"font-size: 0.8em; letter-spacing: 1px\">\n",
       "        <textPath xlink:href=\"#arrow-9116379e6dc34a33803daf6ca2655d11-0-0\" class=\"displacy-label\" startOffset=\"50%\" side=\"left\" fill=\"currentColor\" text-anchor=\"middle\">det</textPath>\n",
       "    </text>\n",
       "    <path class=\"displacy-arrowhead\" d=\"M70,179.0 L62,167.0 78,167.0\" fill=\"currentColor\"/>\n",
       "</g>\n",
       "\n",
       "<g class=\"displacy-arrow\">\n",
       "    <path class=\"displacy-arc\" id=\"arrow-9116379e6dc34a33803daf6ca2655d11-0-1\" stroke-width=\"2px\" d=\"M245,177.0 C245,89.5 395.0,89.5 395.0,177.0\" fill=\"none\" stroke=\"currentColor\"/>\n",
       "    <text dy=\"1.25em\" style=\"font-size: 0.8em; letter-spacing: 1px\">\n",
       "        <textPath xlink:href=\"#arrow-9116379e6dc34a33803daf6ca2655d11-0-1\" class=\"displacy-label\" startOffset=\"50%\" side=\"left\" fill=\"currentColor\" text-anchor=\"middle\">nsubj</textPath>\n",
       "    </text>\n",
       "    <path class=\"displacy-arrowhead\" d=\"M245,179.0 L237,167.0 253,167.0\" fill=\"currentColor\"/>\n",
       "</g>\n",
       "\n",
       "<g class=\"displacy-arrow\">\n",
       "    <path class=\"displacy-arc\" id=\"arrow-9116379e6dc34a33803daf6ca2655d11-0-2\" stroke-width=\"2px\" d=\"M595,177.0 C595,89.5 745.0,89.5 745.0,177.0\" fill=\"none\" stroke=\"currentColor\"/>\n",
       "    <text dy=\"1.25em\" style=\"font-size: 0.8em; letter-spacing: 1px\">\n",
       "        <textPath xlink:href=\"#arrow-9116379e6dc34a33803daf6ca2655d11-0-2\" class=\"displacy-label\" startOffset=\"50%\" side=\"left\" fill=\"currentColor\" text-anchor=\"middle\">det</textPath>\n",
       "    </text>\n",
       "    <path class=\"displacy-arrowhead\" d=\"M595,179.0 L587,167.0 603,167.0\" fill=\"currentColor\"/>\n",
       "</g>\n",
       "\n",
       "<g class=\"displacy-arrow\">\n",
       "    <path class=\"displacy-arc\" id=\"arrow-9116379e6dc34a33803daf6ca2655d11-0-3\" stroke-width=\"2px\" d=\"M420,177.0 C420,2.0 750.0,2.0 750.0,177.0\" fill=\"none\" stroke=\"currentColor\"/>\n",
       "    <text dy=\"1.25em\" style=\"font-size: 0.8em; letter-spacing: 1px\">\n",
       "        <textPath xlink:href=\"#arrow-9116379e6dc34a33803daf6ca2655d11-0-3\" class=\"displacy-label\" startOffset=\"50%\" side=\"left\" fill=\"currentColor\" text-anchor=\"middle\">dobj</textPath>\n",
       "    </text>\n",
       "    <path class=\"displacy-arrowhead\" d=\"M750.0,179.0 L758.0,167.0 742.0,167.0\" fill=\"currentColor\"/>\n",
       "</g>\n",
       "</svg></span>"
      ],
      "text/plain": [
       "<IPython.core.display.HTML object>"
      ]
     },
     "metadata": {},
     "output_type": "display_data"
    },
    {
     "data": {
      "text/html": [
       "<span class=\"tex2jax_ignore\"><svg xmlns=\"http://www.w3.org/2000/svg\" xmlns:xlink=\"http://www.w3.org/1999/xlink\" xml:lang=\"en\" id=\"bc49323beb9240be9c76c5bd836f2bd1-0\" class=\"displacy\" width=\"1450\" height=\"312.0\" direction=\"ltr\" style=\"max-width: none; height: 312.0px; color: #000000; background: #ffffff; font-family: Arial; direction: ltr\">\n",
       "<text class=\"displacy-token\" fill=\"currentColor\" text-anchor=\"middle\" y=\"222.0\">\n",
       "    <tspan class=\"displacy-word\" fill=\"currentColor\" x=\"50\">The</tspan>\n",
       "    <tspan class=\"displacy-tag\" dy=\"2em\" fill=\"currentColor\" x=\"50\">DET</tspan>\n",
       "</text>\n",
       "\n",
       "<text class=\"displacy-token\" fill=\"currentColor\" text-anchor=\"middle\" y=\"222.0\">\n",
       "    <tspan class=\"displacy-word\" fill=\"currentColor\" x=\"225\">computer</tspan>\n",
       "    <tspan class=\"displacy-tag\" dy=\"2em\" fill=\"currentColor\" x=\"225\">NOUN</tspan>\n",
       "</text>\n",
       "\n",
       "<text class=\"displacy-token\" fill=\"currentColor\" text-anchor=\"middle\" y=\"222.0\">\n",
       "    <tspan class=\"displacy-word\" fill=\"currentColor\" x=\"400\">transmitted</tspan>\n",
       "    <tspan class=\"displacy-tag\" dy=\"2em\" fill=\"currentColor\" x=\"400\">VERB</tspan>\n",
       "</text>\n",
       "\n",
       "<text class=\"displacy-token\" fill=\"currentColor\" text-anchor=\"middle\" y=\"222.0\">\n",
       "    <tspan class=\"displacy-word\" fill=\"currentColor\" x=\"575\">a</tspan>\n",
       "    <tspan class=\"displacy-tag\" dy=\"2em\" fill=\"currentColor\" x=\"575\">DET</tspan>\n",
       "</text>\n",
       "\n",
       "<text class=\"displacy-token\" fill=\"currentColor\" text-anchor=\"middle\" y=\"222.0\">\n",
       "    <tspan class=\"displacy-word\" fill=\"currentColor\" x=\"750\">copy</tspan>\n",
       "    <tspan class=\"displacy-tag\" dy=\"2em\" fill=\"currentColor\" x=\"750\">NOUN</tspan>\n",
       "</text>\n",
       "\n",
       "<text class=\"displacy-token\" fill=\"currentColor\" text-anchor=\"middle\" y=\"222.0\">\n",
       "    <tspan class=\"displacy-word\" fill=\"currentColor\" x=\"925\">of</tspan>\n",
       "    <tspan class=\"displacy-tag\" dy=\"2em\" fill=\"currentColor\" x=\"925\">ADP</tspan>\n",
       "</text>\n",
       "\n",
       "<text class=\"displacy-token\" fill=\"currentColor\" text-anchor=\"middle\" y=\"222.0\">\n",
       "    <tspan class=\"displacy-word\" fill=\"currentColor\" x=\"1100\">the</tspan>\n",
       "    <tspan class=\"displacy-tag\" dy=\"2em\" fill=\"currentColor\" x=\"1100\">DET</tspan>\n",
       "</text>\n",
       "\n",
       "<text class=\"displacy-token\" fill=\"currentColor\" text-anchor=\"middle\" y=\"222.0\">\n",
       "    <tspan class=\"displacy-word\" fill=\"currentColor\" x=\"1275\">manual</tspan>\n",
       "    <tspan class=\"displacy-tag\" dy=\"2em\" fill=\"currentColor\" x=\"1275\">NOUN</tspan>\n",
       "</text>\n",
       "\n",
       "<g class=\"displacy-arrow\">\n",
       "    <path class=\"displacy-arc\" id=\"arrow-bc49323beb9240be9c76c5bd836f2bd1-0-0\" stroke-width=\"2px\" d=\"M70,177.0 C70,89.5 220.0,89.5 220.0,177.0\" fill=\"none\" stroke=\"currentColor\"/>\n",
       "    <text dy=\"1.25em\" style=\"font-size: 0.8em; letter-spacing: 1px\">\n",
       "        <textPath xlink:href=\"#arrow-bc49323beb9240be9c76c5bd836f2bd1-0-0\" class=\"displacy-label\" startOffset=\"50%\" side=\"left\" fill=\"currentColor\" text-anchor=\"middle\">det</textPath>\n",
       "    </text>\n",
       "    <path class=\"displacy-arrowhead\" d=\"M70,179.0 L62,167.0 78,167.0\" fill=\"currentColor\"/>\n",
       "</g>\n",
       "\n",
       "<g class=\"displacy-arrow\">\n",
       "    <path class=\"displacy-arc\" id=\"arrow-bc49323beb9240be9c76c5bd836f2bd1-0-1\" stroke-width=\"2px\" d=\"M245,177.0 C245,89.5 395.0,89.5 395.0,177.0\" fill=\"none\" stroke=\"currentColor\"/>\n",
       "    <text dy=\"1.25em\" style=\"font-size: 0.8em; letter-spacing: 1px\">\n",
       "        <textPath xlink:href=\"#arrow-bc49323beb9240be9c76c5bd836f2bd1-0-1\" class=\"displacy-label\" startOffset=\"50%\" side=\"left\" fill=\"currentColor\" text-anchor=\"middle\">nsubj</textPath>\n",
       "    </text>\n",
       "    <path class=\"displacy-arrowhead\" d=\"M245,179.0 L237,167.0 253,167.0\" fill=\"currentColor\"/>\n",
       "</g>\n",
       "\n",
       "<g class=\"displacy-arrow\">\n",
       "    <path class=\"displacy-arc\" id=\"arrow-bc49323beb9240be9c76c5bd836f2bd1-0-2\" stroke-width=\"2px\" d=\"M595,177.0 C595,89.5 745.0,89.5 745.0,177.0\" fill=\"none\" stroke=\"currentColor\"/>\n",
       "    <text dy=\"1.25em\" style=\"font-size: 0.8em; letter-spacing: 1px\">\n",
       "        <textPath xlink:href=\"#arrow-bc49323beb9240be9c76c5bd836f2bd1-0-2\" class=\"displacy-label\" startOffset=\"50%\" side=\"left\" fill=\"currentColor\" text-anchor=\"middle\">det</textPath>\n",
       "    </text>\n",
       "    <path class=\"displacy-arrowhead\" d=\"M595,179.0 L587,167.0 603,167.0\" fill=\"currentColor\"/>\n",
       "</g>\n",
       "\n",
       "<g class=\"displacy-arrow\">\n",
       "    <path class=\"displacy-arc\" id=\"arrow-bc49323beb9240be9c76c5bd836f2bd1-0-3\" stroke-width=\"2px\" d=\"M420,177.0 C420,2.0 750.0,2.0 750.0,177.0\" fill=\"none\" stroke=\"currentColor\"/>\n",
       "    <text dy=\"1.25em\" style=\"font-size: 0.8em; letter-spacing: 1px\">\n",
       "        <textPath xlink:href=\"#arrow-bc49323beb9240be9c76c5bd836f2bd1-0-3\" class=\"displacy-label\" startOffset=\"50%\" side=\"left\" fill=\"currentColor\" text-anchor=\"middle\">dobj</textPath>\n",
       "    </text>\n",
       "    <path class=\"displacy-arrowhead\" d=\"M750.0,179.0 L758.0,167.0 742.0,167.0\" fill=\"currentColor\"/>\n",
       "</g>\n",
       "\n",
       "<g class=\"displacy-arrow\">\n",
       "    <path class=\"displacy-arc\" id=\"arrow-bc49323beb9240be9c76c5bd836f2bd1-0-4\" stroke-width=\"2px\" d=\"M770,177.0 C770,89.5 920.0,89.5 920.0,177.0\" fill=\"none\" stroke=\"currentColor\"/>\n",
       "    <text dy=\"1.25em\" style=\"font-size: 0.8em; letter-spacing: 1px\">\n",
       "        <textPath xlink:href=\"#arrow-bc49323beb9240be9c76c5bd836f2bd1-0-4\" class=\"displacy-label\" startOffset=\"50%\" side=\"left\" fill=\"currentColor\" text-anchor=\"middle\">prep</textPath>\n",
       "    </text>\n",
       "    <path class=\"displacy-arrowhead\" d=\"M920.0,179.0 L928.0,167.0 912.0,167.0\" fill=\"currentColor\"/>\n",
       "</g>\n",
       "\n",
       "<g class=\"displacy-arrow\">\n",
       "    <path class=\"displacy-arc\" id=\"arrow-bc49323beb9240be9c76c5bd836f2bd1-0-5\" stroke-width=\"2px\" d=\"M1120,177.0 C1120,89.5 1270.0,89.5 1270.0,177.0\" fill=\"none\" stroke=\"currentColor\"/>\n",
       "    <text dy=\"1.25em\" style=\"font-size: 0.8em; letter-spacing: 1px\">\n",
       "        <textPath xlink:href=\"#arrow-bc49323beb9240be9c76c5bd836f2bd1-0-5\" class=\"displacy-label\" startOffset=\"50%\" side=\"left\" fill=\"currentColor\" text-anchor=\"middle\">det</textPath>\n",
       "    </text>\n",
       "    <path class=\"displacy-arrowhead\" d=\"M1120,179.0 L1112,167.0 1128,167.0\" fill=\"currentColor\"/>\n",
       "</g>\n",
       "\n",
       "<g class=\"displacy-arrow\">\n",
       "    <path class=\"displacy-arc\" id=\"arrow-bc49323beb9240be9c76c5bd836f2bd1-0-6\" stroke-width=\"2px\" d=\"M945,177.0 C945,2.0 1275.0,2.0 1275.0,177.0\" fill=\"none\" stroke=\"currentColor\"/>\n",
       "    <text dy=\"1.25em\" style=\"font-size: 0.8em; letter-spacing: 1px\">\n",
       "        <textPath xlink:href=\"#arrow-bc49323beb9240be9c76c5bd836f2bd1-0-6\" class=\"displacy-label\" startOffset=\"50%\" side=\"left\" fill=\"currentColor\" text-anchor=\"middle\">pobj</textPath>\n",
       "    </text>\n",
       "    <path class=\"displacy-arrowhead\" d=\"M1275.0,179.0 L1283.0,167.0 1267.0,167.0\" fill=\"currentColor\"/>\n",
       "</g>\n",
       "</svg></span>"
      ],
      "text/plain": [
       "<IPython.core.display.HTML object>"
      ]
     },
     "metadata": {},
     "output_type": "display_data"
    }
   ],
   "source": [
    "for sent in active:\n",
    "    doc = nlp(sent)\n",
    "    displacy.render(doc, style = 'dep')"
   ]
  },
  {
   "cell_type": "code",
   "execution_count": 58,
   "id": "f5da91d9",
   "metadata": {
    "execution": {
     "iopub.execute_input": "2023-06-16T06:31:47.881135Z",
     "iopub.status.busy": "2023-06-16T06:31:47.880434Z",
     "iopub.status.idle": "2023-06-16T06:31:47.934762Z",
     "shell.execute_reply": "2023-06-16T06:31:47.933694Z"
    },
    "papermill": {
     "duration": 0.103979,
     "end_time": "2023-06-16T06:31:47.937187",
     "exception": false,
     "start_time": "2023-06-16T06:31:47.833208",
     "status": "completed"
    },
    "tags": []
   },
   "outputs": [
    {
     "data": {
      "text/html": [
       "<span class=\"tex2jax_ignore\"><svg xmlns=\"http://www.w3.org/2000/svg\" xmlns:xlink=\"http://www.w3.org/1999/xlink\" xml:lang=\"en\" id=\"28cf4c78671f4e069cfe383b54ae3d87-0\" class=\"displacy\" width=\"925\" height=\"312.0\" direction=\"ltr\" style=\"max-width: none; height: 312.0px; color: #000000; background: #ffffff; font-family: Arial; direction: ltr\">\n",
       "<text class=\"displacy-token\" fill=\"currentColor\" text-anchor=\"middle\" y=\"222.0\">\n",
       "    <tspan class=\"displacy-word\" fill=\"currentColor\" x=\"50\">Eggs</tspan>\n",
       "    <tspan class=\"displacy-tag\" dy=\"2em\" fill=\"currentColor\" x=\"50\">NOUN</tspan>\n",
       "</text>\n",
       "\n",
       "<text class=\"displacy-token\" fill=\"currentColor\" text-anchor=\"middle\" y=\"222.0\">\n",
       "    <tspan class=\"displacy-word\" fill=\"currentColor\" x=\"225\">are</tspan>\n",
       "    <tspan class=\"displacy-tag\" dy=\"2em\" fill=\"currentColor\" x=\"225\">AUX</tspan>\n",
       "</text>\n",
       "\n",
       "<text class=\"displacy-token\" fill=\"currentColor\" text-anchor=\"middle\" y=\"222.0\">\n",
       "    <tspan class=\"displacy-word\" fill=\"currentColor\" x=\"400\">laid</tspan>\n",
       "    <tspan class=\"displacy-tag\" dy=\"2em\" fill=\"currentColor\" x=\"400\">VERB</tspan>\n",
       "</text>\n",
       "\n",
       "<text class=\"displacy-token\" fill=\"currentColor\" text-anchor=\"middle\" y=\"222.0\">\n",
       "    <tspan class=\"displacy-word\" fill=\"currentColor\" x=\"575\">by</tspan>\n",
       "    <tspan class=\"displacy-tag\" dy=\"2em\" fill=\"currentColor\" x=\"575\">ADP</tspan>\n",
       "</text>\n",
       "\n",
       "<text class=\"displacy-token\" fill=\"currentColor\" text-anchor=\"middle\" y=\"222.0\">\n",
       "    <tspan class=\"displacy-word\" fill=\"currentColor\" x=\"750\">hens</tspan>\n",
       "    <tspan class=\"displacy-tag\" dy=\"2em\" fill=\"currentColor\" x=\"750\">NOUN</tspan>\n",
       "</text>\n",
       "\n",
       "<g class=\"displacy-arrow\">\n",
       "    <path class=\"displacy-arc\" id=\"arrow-28cf4c78671f4e069cfe383b54ae3d87-0-0\" stroke-width=\"2px\" d=\"M70,177.0 C70,2.0 400.0,2.0 400.0,177.0\" fill=\"none\" stroke=\"currentColor\"/>\n",
       "    <text dy=\"1.25em\" style=\"font-size: 0.8em; letter-spacing: 1px\">\n",
       "        <textPath xlink:href=\"#arrow-28cf4c78671f4e069cfe383b54ae3d87-0-0\" class=\"displacy-label\" startOffset=\"50%\" side=\"left\" fill=\"currentColor\" text-anchor=\"middle\">nsubjpass</textPath>\n",
       "    </text>\n",
       "    <path class=\"displacy-arrowhead\" d=\"M70,179.0 L62,167.0 78,167.0\" fill=\"currentColor\"/>\n",
       "</g>\n",
       "\n",
       "<g class=\"displacy-arrow\">\n",
       "    <path class=\"displacy-arc\" id=\"arrow-28cf4c78671f4e069cfe383b54ae3d87-0-1\" stroke-width=\"2px\" d=\"M245,177.0 C245,89.5 395.0,89.5 395.0,177.0\" fill=\"none\" stroke=\"currentColor\"/>\n",
       "    <text dy=\"1.25em\" style=\"font-size: 0.8em; letter-spacing: 1px\">\n",
       "        <textPath xlink:href=\"#arrow-28cf4c78671f4e069cfe383b54ae3d87-0-1\" class=\"displacy-label\" startOffset=\"50%\" side=\"left\" fill=\"currentColor\" text-anchor=\"middle\">auxpass</textPath>\n",
       "    </text>\n",
       "    <path class=\"displacy-arrowhead\" d=\"M245,179.0 L237,167.0 253,167.0\" fill=\"currentColor\"/>\n",
       "</g>\n",
       "\n",
       "<g class=\"displacy-arrow\">\n",
       "    <path class=\"displacy-arc\" id=\"arrow-28cf4c78671f4e069cfe383b54ae3d87-0-2\" stroke-width=\"2px\" d=\"M420,177.0 C420,89.5 570.0,89.5 570.0,177.0\" fill=\"none\" stroke=\"currentColor\"/>\n",
       "    <text dy=\"1.25em\" style=\"font-size: 0.8em; letter-spacing: 1px\">\n",
       "        <textPath xlink:href=\"#arrow-28cf4c78671f4e069cfe383b54ae3d87-0-2\" class=\"displacy-label\" startOffset=\"50%\" side=\"left\" fill=\"currentColor\" text-anchor=\"middle\">agent</textPath>\n",
       "    </text>\n",
       "    <path class=\"displacy-arrowhead\" d=\"M570.0,179.0 L578.0,167.0 562.0,167.0\" fill=\"currentColor\"/>\n",
       "</g>\n",
       "\n",
       "<g class=\"displacy-arrow\">\n",
       "    <path class=\"displacy-arc\" id=\"arrow-28cf4c78671f4e069cfe383b54ae3d87-0-3\" stroke-width=\"2px\" d=\"M595,177.0 C595,89.5 745.0,89.5 745.0,177.0\" fill=\"none\" stroke=\"currentColor\"/>\n",
       "    <text dy=\"1.25em\" style=\"font-size: 0.8em; letter-spacing: 1px\">\n",
       "        <textPath xlink:href=\"#arrow-28cf4c78671f4e069cfe383b54ae3d87-0-3\" class=\"displacy-label\" startOffset=\"50%\" side=\"left\" fill=\"currentColor\" text-anchor=\"middle\">pobj</textPath>\n",
       "    </text>\n",
       "    <path class=\"displacy-arrowhead\" d=\"M745.0,179.0 L753.0,167.0 737.0,167.0\" fill=\"currentColor\"/>\n",
       "</g>\n",
       "</svg></span>"
      ],
      "text/plain": [
       "<IPython.core.display.HTML object>"
      ]
     },
     "metadata": {},
     "output_type": "display_data"
    },
    {
     "data": {
      "text/html": [
       "<span class=\"tex2jax_ignore\"><svg xmlns=\"http://www.w3.org/2000/svg\" xmlns:xlink=\"http://www.w3.org/1999/xlink\" xml:lang=\"en\" id=\"98251980d289470fb23c072e4b27de3a-0\" class=\"displacy\" width=\"925\" height=\"312.0\" direction=\"ltr\" style=\"max-width: none; height: 312.0px; color: #000000; background: #ffffff; font-family: Arial; direction: ltr\">\n",
       "<text class=\"displacy-token\" fill=\"currentColor\" text-anchor=\"middle\" y=\"222.0\">\n",
       "    <tspan class=\"displacy-word\" fill=\"currentColor\" x=\"50\">Nests</tspan>\n",
       "    <tspan class=\"displacy-tag\" dy=\"2em\" fill=\"currentColor\" x=\"50\">NOUN</tspan>\n",
       "</text>\n",
       "\n",
       "<text class=\"displacy-token\" fill=\"currentColor\" text-anchor=\"middle\" y=\"222.0\">\n",
       "    <tspan class=\"displacy-word\" fill=\"currentColor\" x=\"225\">are</tspan>\n",
       "    <tspan class=\"displacy-tag\" dy=\"2em\" fill=\"currentColor\" x=\"225\">AUX</tspan>\n",
       "</text>\n",
       "\n",
       "<text class=\"displacy-token\" fill=\"currentColor\" text-anchor=\"middle\" y=\"222.0\">\n",
       "    <tspan class=\"displacy-word\" fill=\"currentColor\" x=\"400\">built</tspan>\n",
       "    <tspan class=\"displacy-tag\" dy=\"2em\" fill=\"currentColor\" x=\"400\">VERB</tspan>\n",
       "</text>\n",
       "\n",
       "<text class=\"displacy-token\" fill=\"currentColor\" text-anchor=\"middle\" y=\"222.0\">\n",
       "    <tspan class=\"displacy-word\" fill=\"currentColor\" x=\"575\">by</tspan>\n",
       "    <tspan class=\"displacy-tag\" dy=\"2em\" fill=\"currentColor\" x=\"575\">ADP</tspan>\n",
       "</text>\n",
       "\n",
       "<text class=\"displacy-token\" fill=\"currentColor\" text-anchor=\"middle\" y=\"222.0\">\n",
       "    <tspan class=\"displacy-word\" fill=\"currentColor\" x=\"750\">birds</tspan>\n",
       "    <tspan class=\"displacy-tag\" dy=\"2em\" fill=\"currentColor\" x=\"750\">NOUN</tspan>\n",
       "</text>\n",
       "\n",
       "<g class=\"displacy-arrow\">\n",
       "    <path class=\"displacy-arc\" id=\"arrow-98251980d289470fb23c072e4b27de3a-0-0\" stroke-width=\"2px\" d=\"M70,177.0 C70,2.0 400.0,2.0 400.0,177.0\" fill=\"none\" stroke=\"currentColor\"/>\n",
       "    <text dy=\"1.25em\" style=\"font-size: 0.8em; letter-spacing: 1px\">\n",
       "        <textPath xlink:href=\"#arrow-98251980d289470fb23c072e4b27de3a-0-0\" class=\"displacy-label\" startOffset=\"50%\" side=\"left\" fill=\"currentColor\" text-anchor=\"middle\">nsubjpass</textPath>\n",
       "    </text>\n",
       "    <path class=\"displacy-arrowhead\" d=\"M70,179.0 L62,167.0 78,167.0\" fill=\"currentColor\"/>\n",
       "</g>\n",
       "\n",
       "<g class=\"displacy-arrow\">\n",
       "    <path class=\"displacy-arc\" id=\"arrow-98251980d289470fb23c072e4b27de3a-0-1\" stroke-width=\"2px\" d=\"M245,177.0 C245,89.5 395.0,89.5 395.0,177.0\" fill=\"none\" stroke=\"currentColor\"/>\n",
       "    <text dy=\"1.25em\" style=\"font-size: 0.8em; letter-spacing: 1px\">\n",
       "        <textPath xlink:href=\"#arrow-98251980d289470fb23c072e4b27de3a-0-1\" class=\"displacy-label\" startOffset=\"50%\" side=\"left\" fill=\"currentColor\" text-anchor=\"middle\">auxpass</textPath>\n",
       "    </text>\n",
       "    <path class=\"displacy-arrowhead\" d=\"M245,179.0 L237,167.0 253,167.0\" fill=\"currentColor\"/>\n",
       "</g>\n",
       "\n",
       "<g class=\"displacy-arrow\">\n",
       "    <path class=\"displacy-arc\" id=\"arrow-98251980d289470fb23c072e4b27de3a-0-2\" stroke-width=\"2px\" d=\"M420,177.0 C420,89.5 570.0,89.5 570.0,177.0\" fill=\"none\" stroke=\"currentColor\"/>\n",
       "    <text dy=\"1.25em\" style=\"font-size: 0.8em; letter-spacing: 1px\">\n",
       "        <textPath xlink:href=\"#arrow-98251980d289470fb23c072e4b27de3a-0-2\" class=\"displacy-label\" startOffset=\"50%\" side=\"left\" fill=\"currentColor\" text-anchor=\"middle\">agent</textPath>\n",
       "    </text>\n",
       "    <path class=\"displacy-arrowhead\" d=\"M570.0,179.0 L578.0,167.0 562.0,167.0\" fill=\"currentColor\"/>\n",
       "</g>\n",
       "\n",
       "<g class=\"displacy-arrow\">\n",
       "    <path class=\"displacy-arc\" id=\"arrow-98251980d289470fb23c072e4b27de3a-0-3\" stroke-width=\"2px\" d=\"M595,177.0 C595,89.5 745.0,89.5 745.0,177.0\" fill=\"none\" stroke=\"currentColor\"/>\n",
       "    <text dy=\"1.25em\" style=\"font-size: 0.8em; letter-spacing: 1px\">\n",
       "        <textPath xlink:href=\"#arrow-98251980d289470fb23c072e4b27de3a-0-3\" class=\"displacy-label\" startOffset=\"50%\" side=\"left\" fill=\"currentColor\" text-anchor=\"middle\">pobj</textPath>\n",
       "    </text>\n",
       "    <path class=\"displacy-arrowhead\" d=\"M745.0,179.0 L753.0,167.0 737.0,167.0\" fill=\"currentColor\"/>\n",
       "</g>\n",
       "</svg></span>"
      ],
      "text/plain": [
       "<IPython.core.display.HTML object>"
      ]
     },
     "metadata": {},
     "output_type": "display_data"
    },
    {
     "data": {
      "text/html": [
       "<span class=\"tex2jax_ignore\"><svg xmlns=\"http://www.w3.org/2000/svg\" xmlns:xlink=\"http://www.w3.org/1999/xlink\" xml:lang=\"en\" id=\"17a07af8b1ec483c8eae073053ebb768-0\" class=\"displacy\" width=\"1275\" height=\"312.0\" direction=\"ltr\" style=\"max-width: none; height: 312.0px; color: #000000; background: #ffffff; font-family: Arial; direction: ltr\">\n",
       "<text class=\"displacy-token\" fill=\"currentColor\" text-anchor=\"middle\" y=\"222.0\">\n",
       "    <tspan class=\"displacy-word\" fill=\"currentColor\" x=\"50\">The</tspan>\n",
       "    <tspan class=\"displacy-tag\" dy=\"2em\" fill=\"currentColor\" x=\"50\">DET</tspan>\n",
       "</text>\n",
       "\n",
       "<text class=\"displacy-token\" fill=\"currentColor\" text-anchor=\"middle\" y=\"222.0\">\n",
       "    <tspan class=\"displacy-word\" fill=\"currentColor\" x=\"225\">ball</tspan>\n",
       "    <tspan class=\"displacy-tag\" dy=\"2em\" fill=\"currentColor\" x=\"225\">NOUN</tspan>\n",
       "</text>\n",
       "\n",
       "<text class=\"displacy-token\" fill=\"currentColor\" text-anchor=\"middle\" y=\"222.0\">\n",
       "    <tspan class=\"displacy-word\" fill=\"currentColor\" x=\"400\">was</tspan>\n",
       "    <tspan class=\"displacy-tag\" dy=\"2em\" fill=\"currentColor\" x=\"400\">AUX</tspan>\n",
       "</text>\n",
       "\n",
       "<text class=\"displacy-token\" fill=\"currentColor\" text-anchor=\"middle\" y=\"222.0\">\n",
       "    <tspan class=\"displacy-word\" fill=\"currentColor\" x=\"575\">hit</tspan>\n",
       "    <tspan class=\"displacy-tag\" dy=\"2em\" fill=\"currentColor\" x=\"575\">VERB</tspan>\n",
       "</text>\n",
       "\n",
       "<text class=\"displacy-token\" fill=\"currentColor\" text-anchor=\"middle\" y=\"222.0\">\n",
       "    <tspan class=\"displacy-word\" fill=\"currentColor\" x=\"750\">by</tspan>\n",
       "    <tspan class=\"displacy-tag\" dy=\"2em\" fill=\"currentColor\" x=\"750\">ADP</tspan>\n",
       "</text>\n",
       "\n",
       "<text class=\"displacy-token\" fill=\"currentColor\" text-anchor=\"middle\" y=\"222.0\">\n",
       "    <tspan class=\"displacy-word\" fill=\"currentColor\" x=\"925\">the</tspan>\n",
       "    <tspan class=\"displacy-tag\" dy=\"2em\" fill=\"currentColor\" x=\"925\">DET</tspan>\n",
       "</text>\n",
       "\n",
       "<text class=\"displacy-token\" fill=\"currentColor\" text-anchor=\"middle\" y=\"222.0\">\n",
       "    <tspan class=\"displacy-word\" fill=\"currentColor\" x=\"1100\">batter</tspan>\n",
       "    <tspan class=\"displacy-tag\" dy=\"2em\" fill=\"currentColor\" x=\"1100\">NOUN</tspan>\n",
       "</text>\n",
       "\n",
       "<g class=\"displacy-arrow\">\n",
       "    <path class=\"displacy-arc\" id=\"arrow-17a07af8b1ec483c8eae073053ebb768-0-0\" stroke-width=\"2px\" d=\"M70,177.0 C70,89.5 220.0,89.5 220.0,177.0\" fill=\"none\" stroke=\"currentColor\"/>\n",
       "    <text dy=\"1.25em\" style=\"font-size: 0.8em; letter-spacing: 1px\">\n",
       "        <textPath xlink:href=\"#arrow-17a07af8b1ec483c8eae073053ebb768-0-0\" class=\"displacy-label\" startOffset=\"50%\" side=\"left\" fill=\"currentColor\" text-anchor=\"middle\">det</textPath>\n",
       "    </text>\n",
       "    <path class=\"displacy-arrowhead\" d=\"M70,179.0 L62,167.0 78,167.0\" fill=\"currentColor\"/>\n",
       "</g>\n",
       "\n",
       "<g class=\"displacy-arrow\">\n",
       "    <path class=\"displacy-arc\" id=\"arrow-17a07af8b1ec483c8eae073053ebb768-0-1\" stroke-width=\"2px\" d=\"M245,177.0 C245,2.0 575.0,2.0 575.0,177.0\" fill=\"none\" stroke=\"currentColor\"/>\n",
       "    <text dy=\"1.25em\" style=\"font-size: 0.8em; letter-spacing: 1px\">\n",
       "        <textPath xlink:href=\"#arrow-17a07af8b1ec483c8eae073053ebb768-0-1\" class=\"displacy-label\" startOffset=\"50%\" side=\"left\" fill=\"currentColor\" text-anchor=\"middle\">nsubjpass</textPath>\n",
       "    </text>\n",
       "    <path class=\"displacy-arrowhead\" d=\"M245,179.0 L237,167.0 253,167.0\" fill=\"currentColor\"/>\n",
       "</g>\n",
       "\n",
       "<g class=\"displacy-arrow\">\n",
       "    <path class=\"displacy-arc\" id=\"arrow-17a07af8b1ec483c8eae073053ebb768-0-2\" stroke-width=\"2px\" d=\"M420,177.0 C420,89.5 570.0,89.5 570.0,177.0\" fill=\"none\" stroke=\"currentColor\"/>\n",
       "    <text dy=\"1.25em\" style=\"font-size: 0.8em; letter-spacing: 1px\">\n",
       "        <textPath xlink:href=\"#arrow-17a07af8b1ec483c8eae073053ebb768-0-2\" class=\"displacy-label\" startOffset=\"50%\" side=\"left\" fill=\"currentColor\" text-anchor=\"middle\">auxpass</textPath>\n",
       "    </text>\n",
       "    <path class=\"displacy-arrowhead\" d=\"M420,179.0 L412,167.0 428,167.0\" fill=\"currentColor\"/>\n",
       "</g>\n",
       "\n",
       "<g class=\"displacy-arrow\">\n",
       "    <path class=\"displacy-arc\" id=\"arrow-17a07af8b1ec483c8eae073053ebb768-0-3\" stroke-width=\"2px\" d=\"M595,177.0 C595,89.5 745.0,89.5 745.0,177.0\" fill=\"none\" stroke=\"currentColor\"/>\n",
       "    <text dy=\"1.25em\" style=\"font-size: 0.8em; letter-spacing: 1px\">\n",
       "        <textPath xlink:href=\"#arrow-17a07af8b1ec483c8eae073053ebb768-0-3\" class=\"displacy-label\" startOffset=\"50%\" side=\"left\" fill=\"currentColor\" text-anchor=\"middle\">agent</textPath>\n",
       "    </text>\n",
       "    <path class=\"displacy-arrowhead\" d=\"M745.0,179.0 L753.0,167.0 737.0,167.0\" fill=\"currentColor\"/>\n",
       "</g>\n",
       "\n",
       "<g class=\"displacy-arrow\">\n",
       "    <path class=\"displacy-arc\" id=\"arrow-17a07af8b1ec483c8eae073053ebb768-0-4\" stroke-width=\"2px\" d=\"M945,177.0 C945,89.5 1095.0,89.5 1095.0,177.0\" fill=\"none\" stroke=\"currentColor\"/>\n",
       "    <text dy=\"1.25em\" style=\"font-size: 0.8em; letter-spacing: 1px\">\n",
       "        <textPath xlink:href=\"#arrow-17a07af8b1ec483c8eae073053ebb768-0-4\" class=\"displacy-label\" startOffset=\"50%\" side=\"left\" fill=\"currentColor\" text-anchor=\"middle\">det</textPath>\n",
       "    </text>\n",
       "    <path class=\"displacy-arrowhead\" d=\"M945,179.0 L937,167.0 953,167.0\" fill=\"currentColor\"/>\n",
       "</g>\n",
       "\n",
       "<g class=\"displacy-arrow\">\n",
       "    <path class=\"displacy-arc\" id=\"arrow-17a07af8b1ec483c8eae073053ebb768-0-5\" stroke-width=\"2px\" d=\"M770,177.0 C770,2.0 1100.0,2.0 1100.0,177.0\" fill=\"none\" stroke=\"currentColor\"/>\n",
       "    <text dy=\"1.25em\" style=\"font-size: 0.8em; letter-spacing: 1px\">\n",
       "        <textPath xlink:href=\"#arrow-17a07af8b1ec483c8eae073053ebb768-0-5\" class=\"displacy-label\" startOffset=\"50%\" side=\"left\" fill=\"currentColor\" text-anchor=\"middle\">pobj</textPath>\n",
       "    </text>\n",
       "    <path class=\"displacy-arrowhead\" d=\"M1100.0,179.0 L1108.0,167.0 1092.0,167.0\" fill=\"currentColor\"/>\n",
       "</g>\n",
       "</svg></span>"
      ],
      "text/plain": [
       "<IPython.core.display.HTML object>"
      ]
     },
     "metadata": {},
     "output_type": "display_data"
    },
    {
     "data": {
      "text/html": [
       "<span class=\"tex2jax_ignore\"><svg xmlns=\"http://www.w3.org/2000/svg\" xmlns:xlink=\"http://www.w3.org/1999/xlink\" xml:lang=\"en\" id=\"7c105025b1d64a559917dbf4b588150d-0\" class=\"displacy\" width=\"1800\" height=\"399.5\" direction=\"ltr\" style=\"max-width: none; height: 399.5px; color: #000000; background: #ffffff; font-family: Arial; direction: ltr\">\n",
       "<text class=\"displacy-token\" fill=\"currentColor\" text-anchor=\"middle\" y=\"309.5\">\n",
       "    <tspan class=\"displacy-word\" fill=\"currentColor\" x=\"50\">A</tspan>\n",
       "    <tspan class=\"displacy-tag\" dy=\"2em\" fill=\"currentColor\" x=\"50\">DET</tspan>\n",
       "</text>\n",
       "\n",
       "<text class=\"displacy-token\" fill=\"currentColor\" text-anchor=\"middle\" y=\"309.5\">\n",
       "    <tspan class=\"displacy-word\" fill=\"currentColor\" x=\"225\">copy</tspan>\n",
       "    <tspan class=\"displacy-tag\" dy=\"2em\" fill=\"currentColor\" x=\"225\">NOUN</tspan>\n",
       "</text>\n",
       "\n",
       "<text class=\"displacy-token\" fill=\"currentColor\" text-anchor=\"middle\" y=\"309.5\">\n",
       "    <tspan class=\"displacy-word\" fill=\"currentColor\" x=\"400\">of</tspan>\n",
       "    <tspan class=\"displacy-tag\" dy=\"2em\" fill=\"currentColor\" x=\"400\">ADP</tspan>\n",
       "</text>\n",
       "\n",
       "<text class=\"displacy-token\" fill=\"currentColor\" text-anchor=\"middle\" y=\"309.5\">\n",
       "    <tspan class=\"displacy-word\" fill=\"currentColor\" x=\"575\">the</tspan>\n",
       "    <tspan class=\"displacy-tag\" dy=\"2em\" fill=\"currentColor\" x=\"575\">DET</tspan>\n",
       "</text>\n",
       "\n",
       "<text class=\"displacy-token\" fill=\"currentColor\" text-anchor=\"middle\" y=\"309.5\">\n",
       "    <tspan class=\"displacy-word\" fill=\"currentColor\" x=\"750\">manual</tspan>\n",
       "    <tspan class=\"displacy-tag\" dy=\"2em\" fill=\"currentColor\" x=\"750\">NOUN</tspan>\n",
       "</text>\n",
       "\n",
       "<text class=\"displacy-token\" fill=\"currentColor\" text-anchor=\"middle\" y=\"309.5\">\n",
       "    <tspan class=\"displacy-word\" fill=\"currentColor\" x=\"925\">was</tspan>\n",
       "    <tspan class=\"displacy-tag\" dy=\"2em\" fill=\"currentColor\" x=\"925\">AUX</tspan>\n",
       "</text>\n",
       "\n",
       "<text class=\"displacy-token\" fill=\"currentColor\" text-anchor=\"middle\" y=\"309.5\">\n",
       "    <tspan class=\"displacy-word\" fill=\"currentColor\" x=\"1100\">transmitted</tspan>\n",
       "    <tspan class=\"displacy-tag\" dy=\"2em\" fill=\"currentColor\" x=\"1100\">VERB</tspan>\n",
       "</text>\n",
       "\n",
       "<text class=\"displacy-token\" fill=\"currentColor\" text-anchor=\"middle\" y=\"309.5\">\n",
       "    <tspan class=\"displacy-word\" fill=\"currentColor\" x=\"1275\">by</tspan>\n",
       "    <tspan class=\"displacy-tag\" dy=\"2em\" fill=\"currentColor\" x=\"1275\">ADP</tspan>\n",
       "</text>\n",
       "\n",
       "<text class=\"displacy-token\" fill=\"currentColor\" text-anchor=\"middle\" y=\"309.5\">\n",
       "    <tspan class=\"displacy-word\" fill=\"currentColor\" x=\"1450\">the</tspan>\n",
       "    <tspan class=\"displacy-tag\" dy=\"2em\" fill=\"currentColor\" x=\"1450\">DET</tspan>\n",
       "</text>\n",
       "\n",
       "<text class=\"displacy-token\" fill=\"currentColor\" text-anchor=\"middle\" y=\"309.5\">\n",
       "    <tspan class=\"displacy-word\" fill=\"currentColor\" x=\"1625\">computer.</tspan>\n",
       "    <tspan class=\"displacy-tag\" dy=\"2em\" fill=\"currentColor\" x=\"1625\">NOUN</tspan>\n",
       "</text>\n",
       "\n",
       "<g class=\"displacy-arrow\">\n",
       "    <path class=\"displacy-arc\" id=\"arrow-7c105025b1d64a559917dbf4b588150d-0-0\" stroke-width=\"2px\" d=\"M70,264.5 C70,177.0 215.0,177.0 215.0,264.5\" fill=\"none\" stroke=\"currentColor\"/>\n",
       "    <text dy=\"1.25em\" style=\"font-size: 0.8em; letter-spacing: 1px\">\n",
       "        <textPath xlink:href=\"#arrow-7c105025b1d64a559917dbf4b588150d-0-0\" class=\"displacy-label\" startOffset=\"50%\" side=\"left\" fill=\"currentColor\" text-anchor=\"middle\">det</textPath>\n",
       "    </text>\n",
       "    <path class=\"displacy-arrowhead\" d=\"M70,266.5 L62,254.5 78,254.5\" fill=\"currentColor\"/>\n",
       "</g>\n",
       "\n",
       "<g class=\"displacy-arrow\">\n",
       "    <path class=\"displacy-arc\" id=\"arrow-7c105025b1d64a559917dbf4b588150d-0-1\" stroke-width=\"2px\" d=\"M245,264.5 C245,2.0 1100.0,2.0 1100.0,264.5\" fill=\"none\" stroke=\"currentColor\"/>\n",
       "    <text dy=\"1.25em\" style=\"font-size: 0.8em; letter-spacing: 1px\">\n",
       "        <textPath xlink:href=\"#arrow-7c105025b1d64a559917dbf4b588150d-0-1\" class=\"displacy-label\" startOffset=\"50%\" side=\"left\" fill=\"currentColor\" text-anchor=\"middle\">nsubjpass</textPath>\n",
       "    </text>\n",
       "    <path class=\"displacy-arrowhead\" d=\"M245,266.5 L237,254.5 253,254.5\" fill=\"currentColor\"/>\n",
       "</g>\n",
       "\n",
       "<g class=\"displacy-arrow\">\n",
       "    <path class=\"displacy-arc\" id=\"arrow-7c105025b1d64a559917dbf4b588150d-0-2\" stroke-width=\"2px\" d=\"M245,264.5 C245,177.0 390.0,177.0 390.0,264.5\" fill=\"none\" stroke=\"currentColor\"/>\n",
       "    <text dy=\"1.25em\" style=\"font-size: 0.8em; letter-spacing: 1px\">\n",
       "        <textPath xlink:href=\"#arrow-7c105025b1d64a559917dbf4b588150d-0-2\" class=\"displacy-label\" startOffset=\"50%\" side=\"left\" fill=\"currentColor\" text-anchor=\"middle\">prep</textPath>\n",
       "    </text>\n",
       "    <path class=\"displacy-arrowhead\" d=\"M390.0,266.5 L398.0,254.5 382.0,254.5\" fill=\"currentColor\"/>\n",
       "</g>\n",
       "\n",
       "<g class=\"displacy-arrow\">\n",
       "    <path class=\"displacy-arc\" id=\"arrow-7c105025b1d64a559917dbf4b588150d-0-3\" stroke-width=\"2px\" d=\"M595,264.5 C595,177.0 740.0,177.0 740.0,264.5\" fill=\"none\" stroke=\"currentColor\"/>\n",
       "    <text dy=\"1.25em\" style=\"font-size: 0.8em; letter-spacing: 1px\">\n",
       "        <textPath xlink:href=\"#arrow-7c105025b1d64a559917dbf4b588150d-0-3\" class=\"displacy-label\" startOffset=\"50%\" side=\"left\" fill=\"currentColor\" text-anchor=\"middle\">det</textPath>\n",
       "    </text>\n",
       "    <path class=\"displacy-arrowhead\" d=\"M595,266.5 L587,254.5 603,254.5\" fill=\"currentColor\"/>\n",
       "</g>\n",
       "\n",
       "<g class=\"displacy-arrow\">\n",
       "    <path class=\"displacy-arc\" id=\"arrow-7c105025b1d64a559917dbf4b588150d-0-4\" stroke-width=\"2px\" d=\"M420,264.5 C420,89.5 745.0,89.5 745.0,264.5\" fill=\"none\" stroke=\"currentColor\"/>\n",
       "    <text dy=\"1.25em\" style=\"font-size: 0.8em; letter-spacing: 1px\">\n",
       "        <textPath xlink:href=\"#arrow-7c105025b1d64a559917dbf4b588150d-0-4\" class=\"displacy-label\" startOffset=\"50%\" side=\"left\" fill=\"currentColor\" text-anchor=\"middle\">pobj</textPath>\n",
       "    </text>\n",
       "    <path class=\"displacy-arrowhead\" d=\"M745.0,266.5 L753.0,254.5 737.0,254.5\" fill=\"currentColor\"/>\n",
       "</g>\n",
       "\n",
       "<g class=\"displacy-arrow\">\n",
       "    <path class=\"displacy-arc\" id=\"arrow-7c105025b1d64a559917dbf4b588150d-0-5\" stroke-width=\"2px\" d=\"M945,264.5 C945,177.0 1090.0,177.0 1090.0,264.5\" fill=\"none\" stroke=\"currentColor\"/>\n",
       "    <text dy=\"1.25em\" style=\"font-size: 0.8em; letter-spacing: 1px\">\n",
       "        <textPath xlink:href=\"#arrow-7c105025b1d64a559917dbf4b588150d-0-5\" class=\"displacy-label\" startOffset=\"50%\" side=\"left\" fill=\"currentColor\" text-anchor=\"middle\">auxpass</textPath>\n",
       "    </text>\n",
       "    <path class=\"displacy-arrowhead\" d=\"M945,266.5 L937,254.5 953,254.5\" fill=\"currentColor\"/>\n",
       "</g>\n",
       "\n",
       "<g class=\"displacy-arrow\">\n",
       "    <path class=\"displacy-arc\" id=\"arrow-7c105025b1d64a559917dbf4b588150d-0-6\" stroke-width=\"2px\" d=\"M1120,264.5 C1120,177.0 1265.0,177.0 1265.0,264.5\" fill=\"none\" stroke=\"currentColor\"/>\n",
       "    <text dy=\"1.25em\" style=\"font-size: 0.8em; letter-spacing: 1px\">\n",
       "        <textPath xlink:href=\"#arrow-7c105025b1d64a559917dbf4b588150d-0-6\" class=\"displacy-label\" startOffset=\"50%\" side=\"left\" fill=\"currentColor\" text-anchor=\"middle\">agent</textPath>\n",
       "    </text>\n",
       "    <path class=\"displacy-arrowhead\" d=\"M1265.0,266.5 L1273.0,254.5 1257.0,254.5\" fill=\"currentColor\"/>\n",
       "</g>\n",
       "\n",
       "<g class=\"displacy-arrow\">\n",
       "    <path class=\"displacy-arc\" id=\"arrow-7c105025b1d64a559917dbf4b588150d-0-7\" stroke-width=\"2px\" d=\"M1470,264.5 C1470,177.0 1615.0,177.0 1615.0,264.5\" fill=\"none\" stroke=\"currentColor\"/>\n",
       "    <text dy=\"1.25em\" style=\"font-size: 0.8em; letter-spacing: 1px\">\n",
       "        <textPath xlink:href=\"#arrow-7c105025b1d64a559917dbf4b588150d-0-7\" class=\"displacy-label\" startOffset=\"50%\" side=\"left\" fill=\"currentColor\" text-anchor=\"middle\">det</textPath>\n",
       "    </text>\n",
       "    <path class=\"displacy-arrowhead\" d=\"M1470,266.5 L1462,254.5 1478,254.5\" fill=\"currentColor\"/>\n",
       "</g>\n",
       "\n",
       "<g class=\"displacy-arrow\">\n",
       "    <path class=\"displacy-arc\" id=\"arrow-7c105025b1d64a559917dbf4b588150d-0-8\" stroke-width=\"2px\" d=\"M1295,264.5 C1295,89.5 1620.0,89.5 1620.0,264.5\" fill=\"none\" stroke=\"currentColor\"/>\n",
       "    <text dy=\"1.25em\" style=\"font-size: 0.8em; letter-spacing: 1px\">\n",
       "        <textPath xlink:href=\"#arrow-7c105025b1d64a559917dbf4b588150d-0-8\" class=\"displacy-label\" startOffset=\"50%\" side=\"left\" fill=\"currentColor\" text-anchor=\"middle\">pobj</textPath>\n",
       "    </text>\n",
       "    <path class=\"displacy-arrowhead\" d=\"M1620.0,266.5 L1628.0,254.5 1612.0,254.5\" fill=\"currentColor\"/>\n",
       "</g>\n",
       "</svg></span>"
      ],
      "text/plain": [
       "<IPython.core.display.HTML object>"
      ]
     },
     "metadata": {},
     "output_type": "display_data"
    }
   ],
   "source": [
    "for sent in passive:\n",
    "    doc = nlp(sent)\n",
    "    displacy.render(doc, style = \"dep\")"
   ]
  },
  {
   "cell_type": "markdown",
   "id": "5bc07024",
   "metadata": {
    "papermill": {
     "duration": 0.046454,
     "end_time": "2023-06-16T06:31:48.031271",
     "exception": false,
     "start_time": "2023-06-16T06:31:47.984817",
     "status": "completed"
    },
    "tags": []
   },
   "source": [
    "**Summary:**\n",
    "* Spacy's dependency parser let's us visualise the relationships\n",
    "* When a sentence is in passive voice there is always a presence if nsubjpass dependency relation"
   ]
  },
  {
   "cell_type": "markdown",
   "id": "b0e5c7b0",
   "metadata": {
    "papermill": {
     "duration": 0.046691,
     "end_time": "2023-06-16T06:31:48.124994",
     "exception": false,
     "start_time": "2023-06-16T06:31:48.078303",
     "status": "completed"
    },
    "tags": []
   },
   "source": [
    "### How do we impliment the rule `if dep nsubjpass, then passive else not`?"
   ]
  },
  {
   "cell_type": "code",
   "execution_count": 59,
   "id": "735f8846",
   "metadata": {
    "execution": {
     "iopub.execute_input": "2023-06-16T06:31:48.222284Z",
     "iopub.status.busy": "2023-06-16T06:31:48.221522Z",
     "iopub.status.idle": "2023-06-16T06:31:48.237930Z",
     "shell.execute_reply": "2023-06-16T06:31:48.236984Z"
    },
    "papermill": {
     "duration": 0.06692,
     "end_time": "2023-06-16T06:31:48.239835",
     "exception": false,
     "start_time": "2023-06-16T06:31:48.172915",
     "status": "completed"
    },
    "tags": []
   },
   "outputs": [
    {
     "data": {
      "text/html": [
       "<span class=\"tex2jax_ignore\"><svg xmlns=\"http://www.w3.org/2000/svg\" xmlns:xlink=\"http://www.w3.org/1999/xlink\" xml:lang=\"en\" id=\"b2f25a97836c48b086f3c33535fcf83d-0\" class=\"displacy\" width=\"925\" height=\"312.0\" direction=\"ltr\" style=\"max-width: none; height: 312.0px; color: #000000; background: #ffffff; font-family: Arial; direction: ltr\">\n",
       "<text class=\"displacy-token\" fill=\"currentColor\" text-anchor=\"middle\" y=\"222.0\">\n",
       "    <tspan class=\"displacy-word\" fill=\"currentColor\" x=\"50\">Eggs</tspan>\n",
       "    <tspan class=\"displacy-tag\" dy=\"2em\" fill=\"currentColor\" x=\"50\">NOUN</tspan>\n",
       "</text>\n",
       "\n",
       "<text class=\"displacy-token\" fill=\"currentColor\" text-anchor=\"middle\" y=\"222.0\">\n",
       "    <tspan class=\"displacy-word\" fill=\"currentColor\" x=\"225\">are</tspan>\n",
       "    <tspan class=\"displacy-tag\" dy=\"2em\" fill=\"currentColor\" x=\"225\">AUX</tspan>\n",
       "</text>\n",
       "\n",
       "<text class=\"displacy-token\" fill=\"currentColor\" text-anchor=\"middle\" y=\"222.0\">\n",
       "    <tspan class=\"displacy-word\" fill=\"currentColor\" x=\"400\">laid</tspan>\n",
       "    <tspan class=\"displacy-tag\" dy=\"2em\" fill=\"currentColor\" x=\"400\">VERB</tspan>\n",
       "</text>\n",
       "\n",
       "<text class=\"displacy-token\" fill=\"currentColor\" text-anchor=\"middle\" y=\"222.0\">\n",
       "    <tspan class=\"displacy-word\" fill=\"currentColor\" x=\"575\">by</tspan>\n",
       "    <tspan class=\"displacy-tag\" dy=\"2em\" fill=\"currentColor\" x=\"575\">ADP</tspan>\n",
       "</text>\n",
       "\n",
       "<text class=\"displacy-token\" fill=\"currentColor\" text-anchor=\"middle\" y=\"222.0\">\n",
       "    <tspan class=\"displacy-word\" fill=\"currentColor\" x=\"750\">hens</tspan>\n",
       "    <tspan class=\"displacy-tag\" dy=\"2em\" fill=\"currentColor\" x=\"750\">NOUN</tspan>\n",
       "</text>\n",
       "\n",
       "<g class=\"displacy-arrow\">\n",
       "    <path class=\"displacy-arc\" id=\"arrow-b2f25a97836c48b086f3c33535fcf83d-0-0\" stroke-width=\"2px\" d=\"M70,177.0 C70,2.0 400.0,2.0 400.0,177.0\" fill=\"none\" stroke=\"currentColor\"/>\n",
       "    <text dy=\"1.25em\" style=\"font-size: 0.8em; letter-spacing: 1px\">\n",
       "        <textPath xlink:href=\"#arrow-b2f25a97836c48b086f3c33535fcf83d-0-0\" class=\"displacy-label\" startOffset=\"50%\" side=\"left\" fill=\"currentColor\" text-anchor=\"middle\">nsubjpass</textPath>\n",
       "    </text>\n",
       "    <path class=\"displacy-arrowhead\" d=\"M70,179.0 L62,167.0 78,167.0\" fill=\"currentColor\"/>\n",
       "</g>\n",
       "\n",
       "<g class=\"displacy-arrow\">\n",
       "    <path class=\"displacy-arc\" id=\"arrow-b2f25a97836c48b086f3c33535fcf83d-0-1\" stroke-width=\"2px\" d=\"M245,177.0 C245,89.5 395.0,89.5 395.0,177.0\" fill=\"none\" stroke=\"currentColor\"/>\n",
       "    <text dy=\"1.25em\" style=\"font-size: 0.8em; letter-spacing: 1px\">\n",
       "        <textPath xlink:href=\"#arrow-b2f25a97836c48b086f3c33535fcf83d-0-1\" class=\"displacy-label\" startOffset=\"50%\" side=\"left\" fill=\"currentColor\" text-anchor=\"middle\">auxpass</textPath>\n",
       "    </text>\n",
       "    <path class=\"displacy-arrowhead\" d=\"M245,179.0 L237,167.0 253,167.0\" fill=\"currentColor\"/>\n",
       "</g>\n",
       "\n",
       "<g class=\"displacy-arrow\">\n",
       "    <path class=\"displacy-arc\" id=\"arrow-b2f25a97836c48b086f3c33535fcf83d-0-2\" stroke-width=\"2px\" d=\"M420,177.0 C420,89.5 570.0,89.5 570.0,177.0\" fill=\"none\" stroke=\"currentColor\"/>\n",
       "    <text dy=\"1.25em\" style=\"font-size: 0.8em; letter-spacing: 1px\">\n",
       "        <textPath xlink:href=\"#arrow-b2f25a97836c48b086f3c33535fcf83d-0-2\" class=\"displacy-label\" startOffset=\"50%\" side=\"left\" fill=\"currentColor\" text-anchor=\"middle\">agent</textPath>\n",
       "    </text>\n",
       "    <path class=\"displacy-arrowhead\" d=\"M570.0,179.0 L578.0,167.0 562.0,167.0\" fill=\"currentColor\"/>\n",
       "</g>\n",
       "\n",
       "<g class=\"displacy-arrow\">\n",
       "    <path class=\"displacy-arc\" id=\"arrow-b2f25a97836c48b086f3c33535fcf83d-0-3\" stroke-width=\"2px\" d=\"M595,177.0 C595,89.5 745.0,89.5 745.0,177.0\" fill=\"none\" stroke=\"currentColor\"/>\n",
       "    <text dy=\"1.25em\" style=\"font-size: 0.8em; letter-spacing: 1px\">\n",
       "        <textPath xlink:href=\"#arrow-b2f25a97836c48b086f3c33535fcf83d-0-3\" class=\"displacy-label\" startOffset=\"50%\" side=\"left\" fill=\"currentColor\" text-anchor=\"middle\">pobj</textPath>\n",
       "    </text>\n",
       "    <path class=\"displacy-arrowhead\" d=\"M745.0,179.0 L753.0,167.0 737.0,167.0\" fill=\"currentColor\"/>\n",
       "</g>\n",
       "</svg></span>"
      ],
      "text/plain": [
       "<IPython.core.display.HTML object>"
      ]
     },
     "metadata": {},
     "output_type": "display_data"
    }
   ],
   "source": [
    "doc = nlp(passive[0])\n",
    "displacy.render(doc, style = 'dep')"
   ]
  },
  {
   "cell_type": "markdown",
   "id": "9fa6017a",
   "metadata": {
    "papermill": {
     "duration": 0.047145,
     "end_time": "2023-06-16T06:31:48.334062",
     "exception": false,
     "start_time": "2023-06-16T06:31:48.286917",
     "status": "completed"
    },
    "tags": []
   },
   "source": [
    "**Read More about Matcher object [here](https://spacy.io/api/matcher)**"
   ]
  },
  {
   "cell_type": "code",
   "execution_count": 60,
   "id": "a620169e",
   "metadata": {
    "execution": {
     "iopub.execute_input": "2023-06-16T06:31:48.429863Z",
     "iopub.status.busy": "2023-06-16T06:31:48.429456Z",
     "iopub.status.idle": "2023-06-16T06:31:48.434411Z",
     "shell.execute_reply": "2023-06-16T06:31:48.433445Z"
    },
    "papermill": {
     "duration": 0.055776,
     "end_time": "2023-06-16T06:31:48.436349",
     "exception": false,
     "start_time": "2023-06-16T06:31:48.380573",
     "status": "completed"
    },
    "tags": []
   },
   "outputs": [],
   "source": [
    "from spacy.matcher import Matcher"
   ]
  },
  {
   "cell_type": "markdown",
   "id": "698bb853",
   "metadata": {
    "papermill": {
     "duration": 0.04644,
     "end_time": "2023-06-16T06:31:48.529790",
     "exception": false,
     "start_time": "2023-06-16T06:31:48.483350",
     "status": "completed"
    },
    "tags": []
   },
   "source": [
    "### Create a rule with `Matcher`"
   ]
  },
  {
   "cell_type": "code",
   "execution_count": 61,
   "id": "39fd973c",
   "metadata": {
    "execution": {
     "iopub.execute_input": "2023-06-16T06:31:48.626049Z",
     "iopub.status.busy": "2023-06-16T06:31:48.625316Z",
     "iopub.status.idle": "2023-06-16T06:31:48.630419Z",
     "shell.execute_reply": "2023-06-16T06:31:48.629393Z"
    },
    "papermill": {
     "duration": 0.055828,
     "end_time": "2023-06-16T06:31:48.632720",
     "exception": false,
     "start_time": "2023-06-16T06:31:48.576892",
     "status": "completed"
    },
    "tags": []
   },
   "outputs": [],
   "source": [
    "rule = [{\"POS\":\"NOUN\"}]\n",
    "matcher = Matcher(nlp.vocab)\n",
    "\n",
    "matcher.add('Rule', [rule])"
   ]
  },
  {
   "cell_type": "code",
   "execution_count": 62,
   "id": "783abeef",
   "metadata": {
    "execution": {
     "iopub.execute_input": "2023-06-16T06:31:48.730556Z",
     "iopub.status.busy": "2023-06-16T06:31:48.730154Z",
     "iopub.status.idle": "2023-06-16T06:31:48.736806Z",
     "shell.execute_reply": "2023-06-16T06:31:48.735809Z"
    },
    "papermill": {
     "duration": 0.05844,
     "end_time": "2023-06-16T06:31:48.739091",
     "exception": false,
     "start_time": "2023-06-16T06:31:48.680651",
     "status": "completed"
    },
    "tags": []
   },
   "outputs": [
    {
     "data": {
      "text/plain": [
       "[(15740618714089435985, 0, 1), (15740618714089435985, 4, 5)]"
      ]
     },
     "execution_count": 62,
     "metadata": {},
     "output_type": "execute_result"
    }
   ],
   "source": [
    "matcher(doc)"
   ]
  },
  {
   "cell_type": "code",
   "execution_count": 63,
   "id": "a3f96608",
   "metadata": {
    "execution": {
     "iopub.execute_input": "2023-06-16T06:31:48.835430Z",
     "iopub.status.busy": "2023-06-16T06:31:48.834701Z",
     "iopub.status.idle": "2023-06-16T06:31:48.841022Z",
     "shell.execute_reply": "2023-06-16T06:31:48.840130Z"
    },
    "papermill": {
     "duration": 0.056476,
     "end_time": "2023-06-16T06:31:48.842983",
     "exception": false,
     "start_time": "2023-06-16T06:31:48.786507",
     "status": "completed"
    },
    "tags": []
   },
   "outputs": [
    {
     "data": {
      "text/plain": [
       "Eggs"
      ]
     },
     "execution_count": 63,
     "metadata": {},
     "output_type": "execute_result"
    }
   ],
   "source": [
    "doc[0:1]"
   ]
  },
  {
   "cell_type": "code",
   "execution_count": 64,
   "id": "bd5a8327",
   "metadata": {
    "execution": {
     "iopub.execute_input": "2023-06-16T06:31:48.938795Z",
     "iopub.status.busy": "2023-06-16T06:31:48.938388Z",
     "iopub.status.idle": "2023-06-16T06:31:48.944679Z",
     "shell.execute_reply": "2023-06-16T06:31:48.943700Z"
    },
    "papermill": {
     "duration": 0.056689,
     "end_time": "2023-06-16T06:31:48.946753",
     "exception": false,
     "start_time": "2023-06-16T06:31:48.890064",
     "status": "completed"
    },
    "tags": []
   },
   "outputs": [
    {
     "data": {
      "text/plain": [
       "hens"
      ]
     },
     "execution_count": 64,
     "metadata": {},
     "output_type": "execute_result"
    }
   ],
   "source": [
    "doc[4:5]"
   ]
  },
  {
   "cell_type": "markdown",
   "id": "faa81868",
   "metadata": {
    "papermill": {
     "duration": 0.046934,
     "end_time": "2023-06-16T06:31:49.040776",
     "exception": false,
     "start_time": "2023-06-16T06:31:48.993842",
     "status": "completed"
    },
    "tags": []
   },
   "source": [
    "### Create a rule for `passive voice`"
   ]
  },
  {
   "cell_type": "code",
   "execution_count": 65,
   "id": "6649e44e",
   "metadata": {
    "execution": {
     "iopub.execute_input": "2023-06-16T06:31:49.138200Z",
     "iopub.status.busy": "2023-06-16T06:31:49.136956Z",
     "iopub.status.idle": "2023-06-16T06:31:49.143057Z",
     "shell.execute_reply": "2023-06-16T06:31:49.142169Z"
    },
    "papermill": {
     "duration": 0.056888,
     "end_time": "2023-06-16T06:31:49.145103",
     "exception": false,
     "start_time": "2023-06-16T06:31:49.088215",
     "status": "completed"
    },
    "tags": []
   },
   "outputs": [],
   "source": [
    "passive_rule = [{'DEP':'nsubjpass'}]\n",
    "matcher = Matcher(nlp.vocab)\n",
    "\n",
    "matcher.add('Rule', [passive_rule])"
   ]
  },
  {
   "cell_type": "code",
   "execution_count": 66,
   "id": "7d5a3aa0",
   "metadata": {
    "execution": {
     "iopub.execute_input": "2023-06-16T06:31:49.242734Z",
     "iopub.status.busy": "2023-06-16T06:31:49.242030Z",
     "iopub.status.idle": "2023-06-16T06:31:49.248720Z",
     "shell.execute_reply": "2023-06-16T06:31:49.247777Z"
    },
    "papermill": {
     "duration": 0.058051,
     "end_time": "2023-06-16T06:31:49.250681",
     "exception": false,
     "start_time": "2023-06-16T06:31:49.192630",
     "status": "completed"
    },
    "tags": []
   },
   "outputs": [
    {
     "data": {
      "text/plain": [
       "[(15740618714089435985, 0, 1)]"
      ]
     },
     "execution_count": 66,
     "metadata": {},
     "output_type": "execute_result"
    }
   ],
   "source": [
    "matcher(doc)"
   ]
  },
  {
   "cell_type": "markdown",
   "id": "afb6ecb9",
   "metadata": {
    "papermill": {
     "duration": 0.047729,
     "end_time": "2023-06-16T06:31:49.347453",
     "exception": false,
     "start_time": "2023-06-16T06:31:49.299724",
     "status": "completed"
    },
    "tags": []
   },
   "source": [
    "### Let's check how this rule works if we use it on a sentence with `active voice`"
   ]
  },
  {
   "cell_type": "code",
   "execution_count": 67,
   "id": "0d9d50ec",
   "metadata": {
    "execution": {
     "iopub.execute_input": "2023-06-16T06:31:49.444256Z",
     "iopub.status.busy": "2023-06-16T06:31:49.443564Z",
     "iopub.status.idle": "2023-06-16T06:31:49.449509Z",
     "shell.execute_reply": "2023-06-16T06:31:49.448695Z"
    },
    "papermill": {
     "duration": 0.056266,
     "end_time": "2023-06-16T06:31:49.451438",
     "exception": false,
     "start_time": "2023-06-16T06:31:49.395172",
     "status": "completed"
    },
    "tags": []
   },
   "outputs": [
    {
     "data": {
      "text/plain": [
       "'Hens lay eggs.'"
      ]
     },
     "execution_count": 67,
     "metadata": {},
     "output_type": "execute_result"
    }
   ],
   "source": [
    "active[0]"
   ]
  },
  {
   "cell_type": "code",
   "execution_count": 68,
   "id": "c581eb1f",
   "metadata": {
    "execution": {
     "iopub.execute_input": "2023-06-16T06:31:49.548253Z",
     "iopub.status.busy": "2023-06-16T06:31:49.547682Z",
     "iopub.status.idle": "2023-06-16T06:31:49.562760Z",
     "shell.execute_reply": "2023-06-16T06:31:49.562046Z"
    },
    "papermill": {
     "duration": 0.065234,
     "end_time": "2023-06-16T06:31:49.564589",
     "exception": false,
     "start_time": "2023-06-16T06:31:49.499355",
     "status": "completed"
    },
    "tags": []
   },
   "outputs": [
    {
     "data": {
      "text/html": [
       "<span class=\"tex2jax_ignore\"><svg xmlns=\"http://www.w3.org/2000/svg\" xmlns:xlink=\"http://www.w3.org/1999/xlink\" xml:lang=\"en\" id=\"1cf057ea62b74abe991f92105e3f2b33-0\" class=\"displacy\" width=\"575\" height=\"224.5\" direction=\"ltr\" style=\"max-width: none; height: 224.5px; color: #000000; background: #ffffff; font-family: Arial; direction: ltr\">\n",
       "<text class=\"displacy-token\" fill=\"currentColor\" text-anchor=\"middle\" y=\"134.5\">\n",
       "    <tspan class=\"displacy-word\" fill=\"currentColor\" x=\"50\">Hens</tspan>\n",
       "    <tspan class=\"displacy-tag\" dy=\"2em\" fill=\"currentColor\" x=\"50\">NOUN</tspan>\n",
       "</text>\n",
       "\n",
       "<text class=\"displacy-token\" fill=\"currentColor\" text-anchor=\"middle\" y=\"134.5\">\n",
       "    <tspan class=\"displacy-word\" fill=\"currentColor\" x=\"225\">lay</tspan>\n",
       "    <tspan class=\"displacy-tag\" dy=\"2em\" fill=\"currentColor\" x=\"225\">VERB</tspan>\n",
       "</text>\n",
       "\n",
       "<text class=\"displacy-token\" fill=\"currentColor\" text-anchor=\"middle\" y=\"134.5\">\n",
       "    <tspan class=\"displacy-word\" fill=\"currentColor\" x=\"400\">eggs.</tspan>\n",
       "    <tspan class=\"displacy-tag\" dy=\"2em\" fill=\"currentColor\" x=\"400\">NOUN</tspan>\n",
       "</text>\n",
       "\n",
       "<g class=\"displacy-arrow\">\n",
       "    <path class=\"displacy-arc\" id=\"arrow-1cf057ea62b74abe991f92105e3f2b33-0-0\" stroke-width=\"2px\" d=\"M70,89.5 C70,2.0 225.0,2.0 225.0,89.5\" fill=\"none\" stroke=\"currentColor\"/>\n",
       "    <text dy=\"1.25em\" style=\"font-size: 0.8em; letter-spacing: 1px\">\n",
       "        <textPath xlink:href=\"#arrow-1cf057ea62b74abe991f92105e3f2b33-0-0\" class=\"displacy-label\" startOffset=\"50%\" side=\"left\" fill=\"currentColor\" text-anchor=\"middle\">nsubj</textPath>\n",
       "    </text>\n",
       "    <path class=\"displacy-arrowhead\" d=\"M70,91.5 L62,79.5 78,79.5\" fill=\"currentColor\"/>\n",
       "</g>\n",
       "\n",
       "<g class=\"displacy-arrow\">\n",
       "    <path class=\"displacy-arc\" id=\"arrow-1cf057ea62b74abe991f92105e3f2b33-0-1\" stroke-width=\"2px\" d=\"M245,89.5 C245,2.0 400.0,2.0 400.0,89.5\" fill=\"none\" stroke=\"currentColor\"/>\n",
       "    <text dy=\"1.25em\" style=\"font-size: 0.8em; letter-spacing: 1px\">\n",
       "        <textPath xlink:href=\"#arrow-1cf057ea62b74abe991f92105e3f2b33-0-1\" class=\"displacy-label\" startOffset=\"50%\" side=\"left\" fill=\"currentColor\" text-anchor=\"middle\">dobj</textPath>\n",
       "    </text>\n",
       "    <path class=\"displacy-arrowhead\" d=\"M400.0,91.5 L408.0,79.5 392.0,79.5\" fill=\"currentColor\"/>\n",
       "</g>\n",
       "</svg></span>"
      ],
      "text/plain": [
       "<IPython.core.display.HTML object>"
      ]
     },
     "metadata": {},
     "output_type": "display_data"
    }
   ],
   "source": [
    "doc = nlp(active[0])\n",
    "displacy.render(doc, style = 'dep')"
   ]
  },
  {
   "cell_type": "code",
   "execution_count": 69,
   "id": "46e76bc9",
   "metadata": {
    "execution": {
     "iopub.execute_input": "2023-06-16T06:31:49.662105Z",
     "iopub.status.busy": "2023-06-16T06:31:49.661433Z",
     "iopub.status.idle": "2023-06-16T06:31:49.666708Z",
     "shell.execute_reply": "2023-06-16T06:31:49.665588Z"
    },
    "papermill": {
     "duration": 0.056302,
     "end_time": "2023-06-16T06:31:49.668688",
     "exception": false,
     "start_time": "2023-06-16T06:31:49.612386",
     "status": "completed"
    },
    "tags": []
   },
   "outputs": [],
   "source": [
    "active_rule = [{'DEP':'NOUN'}]\n",
    "matcher = Matcher(nlp.vocab)\n",
    "\n",
    "matcher.add('Rule',[active_rule])"
   ]
  },
  {
   "cell_type": "code",
   "execution_count": 70,
   "id": "67a1652b",
   "metadata": {
    "execution": {
     "iopub.execute_input": "2023-06-16T06:31:49.766112Z",
     "iopub.status.busy": "2023-06-16T06:31:49.765738Z",
     "iopub.status.idle": "2023-06-16T06:31:49.771937Z",
     "shell.execute_reply": "2023-06-16T06:31:49.770994Z"
    },
    "papermill": {
     "duration": 0.056434,
     "end_time": "2023-06-16T06:31:49.773832",
     "exception": false,
     "start_time": "2023-06-16T06:31:49.717398",
     "status": "completed"
    },
    "tags": []
   },
   "outputs": [
    {
     "data": {
      "text/plain": [
       "[]"
      ]
     },
     "execution_count": 70,
     "metadata": {},
     "output_type": "execute_result"
    }
   ],
   "source": [
    "matcher(doc)"
   ]
  },
  {
   "cell_type": "markdown",
   "id": "4621fe2c",
   "metadata": {
    "papermill": {
     "duration": 0.047199,
     "end_time": "2023-06-16T06:31:49.868749",
     "exception": false,
     "start_time": "2023-06-16T06:31:49.821550",
     "status": "completed"
    },
    "tags": []
   },
   "source": [
    "**Now this coming blank. So instead of checking individually, we can build a function and check the dependency at a go**"
   ]
  },
  {
   "cell_type": "markdown",
   "id": "9c29c629",
   "metadata": {
    "papermill": {
     "duration": 0.047808,
     "end_time": "2023-06-16T06:31:49.964451",
     "exception": false,
     "start_time": "2023-06-16T06:31:49.916643",
     "status": "completed"
    },
    "tags": []
   },
   "source": [
    "#### Now lets make a function that impliments this logic"
   ]
  },
  {
   "cell_type": "code",
   "execution_count": 71,
   "id": "36d336ed",
   "metadata": {
    "execution": {
     "iopub.execute_input": "2023-06-16T06:31:50.061205Z",
     "iopub.status.busy": "2023-06-16T06:31:50.060817Z",
     "iopub.status.idle": "2023-06-16T06:31:50.066199Z",
     "shell.execute_reply": "2023-06-16T06:31:50.065242Z"
    },
    "papermill": {
     "duration": 0.055942,
     "end_time": "2023-06-16T06:31:50.068176",
     "exception": false,
     "start_time": "2023-06-16T06:31:50.012234",
     "status": "completed"
    },
    "tags": []
   },
   "outputs": [],
   "source": [
    "def is_passive(doc, matcher):\n",
    "    \n",
    "    if len(matcher(doc))>0:\n",
    "        return True\n",
    "    else:\n",
    "        return False"
   ]
  },
  {
   "cell_type": "markdown",
   "id": "13fafb0d",
   "metadata": {
    "papermill": {
     "duration": 0.047236,
     "end_time": "2023-06-16T06:31:50.162947",
     "exception": false,
     "start_time": "2023-06-16T06:31:50.115711",
     "status": "completed"
    },
    "tags": []
   },
   "source": [
    "#### Let's test this function on our small sample of sentences and see how the pipeline will work"
   ]
  },
  {
   "cell_type": "code",
   "execution_count": 72,
   "id": "34c977de",
   "metadata": {
    "execution": {
     "iopub.execute_input": "2023-06-16T06:31:50.259839Z",
     "iopub.status.busy": "2023-06-16T06:31:50.259417Z",
     "iopub.status.idle": "2023-06-16T06:31:50.289126Z",
     "shell.execute_reply": "2023-06-16T06:31:50.287858Z"
    },
    "papermill": {
     "duration": 0.081094,
     "end_time": "2023-06-16T06:31:50.291544",
     "exception": false,
     "start_time": "2023-06-16T06:31:50.210450",
     "status": "completed"
    },
    "tags": []
   },
   "outputs": [
    {
     "name": "stdout",
     "output_type": "stream",
     "text": [
      "False\n",
      "False\n",
      "False\n",
      "False\n"
     ]
    }
   ],
   "source": [
    "for sent in active:\n",
    "    \n",
    "    doc = nlp(sent)\n",
    "    res = is_passive(doc, matcher)\n",
    "    print(res)"
   ]
  },
  {
   "cell_type": "code",
   "execution_count": 73,
   "id": "b6ab18a9",
   "metadata": {
    "execution": {
     "iopub.execute_input": "2023-06-16T06:31:50.390184Z",
     "iopub.status.busy": "2023-06-16T06:31:50.389805Z",
     "iopub.status.idle": "2023-06-16T06:31:50.420540Z",
     "shell.execute_reply": "2023-06-16T06:31:50.419477Z"
    },
    "papermill": {
     "duration": 0.081722,
     "end_time": "2023-06-16T06:31:50.422683",
     "exception": false,
     "start_time": "2023-06-16T06:31:50.340961",
     "status": "completed"
    },
    "tags": []
   },
   "outputs": [
    {
     "name": "stdout",
     "output_type": "stream",
     "text": [
      "False\n",
      "False\n",
      "False\n",
      "False\n"
     ]
    }
   ],
   "source": [
    "for sent in passive:\n",
    "    \n",
    "    doc = nlp(sent)\n",
    "    print(is_passive(doc,matcher))"
   ]
  },
  {
   "cell_type": "markdown",
   "id": "067a30ee",
   "metadata": {
    "papermill": {
     "duration": 0.046924,
     "end_time": "2023-06-16T06:31:50.517515",
     "exception": false,
     "start_time": "2023-06-16T06:31:50.470591",
     "status": "completed"
    },
    "tags": []
   },
   "source": [
    "**Summary:**\n",
    "* One can go a long way by observing patterns in linguistic data, you don't always need to know the details of the linguitsics very well.\n",
    "* Once can use the matcher object to find if certain linguistic patterns exist in data"
   ]
  },
  {
   "cell_type": "markdown",
   "id": "57c84308",
   "metadata": {
    "papermill": {
     "duration": 0.046746,
     "end_time": "2023-06-16T06:31:50.611318",
     "exception": false,
     "start_time": "2023-06-16T06:31:50.564572",
     "status": "completed"
    },
    "tags": []
   },
   "source": [
    "### Lets check our rule on a larger corpus"
   ]
  },
  {
   "cell_type": "code",
   "execution_count": 74,
   "id": "8306da08",
   "metadata": {
    "execution": {
     "iopub.execute_input": "2023-06-16T06:31:50.708309Z",
     "iopub.status.busy": "2023-06-16T06:31:50.707967Z",
     "iopub.status.idle": "2023-06-16T06:31:50.726231Z",
     "shell.execute_reply": "2023-06-16T06:31:50.725498Z"
    },
    "papermill": {
     "duration": 0.069228,
     "end_time": "2023-06-16T06:31:50.728328",
     "exception": false,
     "start_time": "2023-06-16T06:31:50.659100",
     "status": "completed"
    },
    "tags": []
   },
   "outputs": [
    {
     "data": {
      "text/html": [
       "<div>\n",
       "<style scoped>\n",
       "    .dataframe tbody tr th:only-of-type {\n",
       "        vertical-align: middle;\n",
       "    }\n",
       "\n",
       "    .dataframe tbody tr th {\n",
       "        vertical-align: top;\n",
       "    }\n",
       "\n",
       "    .dataframe thead th {\n",
       "        text-align: right;\n",
       "    }\n",
       "</style>\n",
       "<table border=\"1\" class=\"dataframe\">\n",
       "  <thead>\n",
       "    <tr style=\"text-align: right;\">\n",
       "      <th></th>\n",
       "      <th>Active</th>\n",
       "      <th>Passive</th>\n",
       "    </tr>\n",
       "  </thead>\n",
       "  <tbody>\n",
       "    <tr>\n",
       "      <th>0</th>\n",
       "      <td>He reads a novel.</td>\n",
       "      <td>A novel is read.</td>\n",
       "    </tr>\n",
       "    <tr>\n",
       "      <th>1</th>\n",
       "      <td>He does not cook food.</td>\n",
       "      <td>Food is not cooked by him.</td>\n",
       "    </tr>\n",
       "  </tbody>\n",
       "</table>\n",
       "</div>"
      ],
      "text/plain": [
       "                   Active                     Passive\n",
       "0       He reads a novel.            A novel is read.\n",
       "1  He does not cook food.  Food is not cooked by him."
      ]
     },
     "execution_count": 74,
     "metadata": {},
     "output_type": "execute_result"
    }
   ],
   "source": [
    "active_passive = pd.read_csv(\"/kaggle/input/active-passive/active_passive.csv\")\n",
    "active_passive.head(2)"
   ]
  },
  {
   "cell_type": "code",
   "execution_count": 75,
   "id": "38411a9e",
   "metadata": {
    "execution": {
     "iopub.execute_input": "2023-06-16T06:31:50.825801Z",
     "iopub.status.busy": "2023-06-16T06:31:50.825379Z",
     "iopub.status.idle": "2023-06-16T06:31:50.830822Z",
     "shell.execute_reply": "2023-06-16T06:31:50.830165Z"
    },
    "papermill": {
     "duration": 0.056519,
     "end_time": "2023-06-16T06:31:50.832586",
     "exception": false,
     "start_time": "2023-06-16T06:31:50.776067",
     "status": "completed"
    },
    "tags": []
   },
   "outputs": [
    {
     "data": {
      "text/plain": [
       "(40, 2)"
      ]
     },
     "execution_count": 75,
     "metadata": {},
     "output_type": "execute_result"
    }
   ],
   "source": [
    "active_passive.shape"
   ]
  },
  {
   "cell_type": "code",
   "execution_count": 76,
   "id": "2132e1ad",
   "metadata": {
    "execution": {
     "iopub.execute_input": "2023-06-16T06:31:50.930839Z",
     "iopub.status.busy": "2023-06-16T06:31:50.930168Z",
     "iopub.status.idle": "2023-06-16T06:31:50.934916Z",
     "shell.execute_reply": "2023-06-16T06:31:50.934128Z"
    },
    "papermill": {
     "duration": 0.056082,
     "end_time": "2023-06-16T06:31:50.936849",
     "exception": false,
     "start_time": "2023-06-16T06:31:50.880767",
     "status": "completed"
    },
    "tags": []
   },
   "outputs": [],
   "source": [
    "active = active_passive['Active']\n",
    "passive = active_passive['Passive']"
   ]
  },
  {
   "cell_type": "markdown",
   "id": "3b9e4baf",
   "metadata": {
    "papermill": {
     "duration": 0.047253,
     "end_time": "2023-06-16T06:31:51.032321",
     "exception": false,
     "start_time": "2023-06-16T06:31:50.985068",
     "status": "completed"
    },
    "tags": []
   },
   "source": [
    "#### Create The Rule"
   ]
  },
  {
   "cell_type": "code",
   "execution_count": 77,
   "id": "b07c0b4c",
   "metadata": {
    "execution": {
     "iopub.execute_input": "2023-06-16T06:31:51.130537Z",
     "iopub.status.busy": "2023-06-16T06:31:51.129520Z",
     "iopub.status.idle": "2023-06-16T06:31:51.134315Z",
     "shell.execute_reply": "2023-06-16T06:31:51.133669Z"
    },
    "papermill": {
     "duration": 0.055724,
     "end_time": "2023-06-16T06:31:51.135969",
     "exception": false,
     "start_time": "2023-06-16T06:31:51.080245",
     "status": "completed"
    },
    "tags": []
   },
   "outputs": [],
   "source": [
    "passive_rule = [{'DEP':'nsubjpass'}]\n",
    "matcher = Matcher(nlp.vocab)\n",
    "\n",
    "matcher.add('Rule', [passive_rule])"
   ]
  },
  {
   "cell_type": "code",
   "execution_count": 78,
   "id": "65dc61bf",
   "metadata": {
    "execution": {
     "iopub.execute_input": "2023-06-16T06:31:51.234796Z",
     "iopub.status.busy": "2023-06-16T06:31:51.234075Z",
     "iopub.status.idle": "2023-06-16T06:31:51.238697Z",
     "shell.execute_reply": "2023-06-16T06:31:51.237928Z"
    },
    "papermill": {
     "duration": 0.056562,
     "end_time": "2023-06-16T06:31:51.240560",
     "exception": false,
     "start_time": "2023-06-16T06:31:51.183998",
     "status": "completed"
    },
    "tags": []
   },
   "outputs": [],
   "source": [
    "def is_passive(doc, matcher):\n",
    "    \n",
    "    if len(matcher(doc))> 0:\n",
    "        \n",
    "        return True\n",
    "    else:\n",
    "        \n",
    "        return False"
   ]
  },
  {
   "cell_type": "code",
   "execution_count": 79,
   "id": "66ec60e5",
   "metadata": {
    "execution": {
     "iopub.execute_input": "2023-06-16T06:31:51.339207Z",
     "iopub.status.busy": "2023-06-16T06:31:51.338561Z",
     "iopub.status.idle": "2023-06-16T06:31:51.583521Z",
     "shell.execute_reply": "2023-06-16T06:31:51.582418Z"
    },
    "papermill": {
     "duration": 0.296394,
     "end_time": "2023-06-16T06:31:51.585681",
     "exception": false,
     "start_time": "2023-06-16T06:31:51.289287",
     "status": "completed"
    },
    "tags": []
   },
   "outputs": [
    {
     "name": "stdout",
     "output_type": "stream",
     "text": [
      "40\n"
     ]
    }
   ],
   "source": [
    "cnt = 0 \n",
    "for sent in active:\n",
    "    doc = nlp(sent)\n",
    "    if not is_passive(doc, matcher):\n",
    "        cnt += 1\n",
    "    else:\n",
    "        pass\n",
    "\n",
    "print(cnt)"
   ]
  },
  {
   "cell_type": "code",
   "execution_count": 80,
   "id": "42a2389a",
   "metadata": {
    "execution": {
     "iopub.execute_input": "2023-06-16T06:31:51.684919Z",
     "iopub.status.busy": "2023-06-16T06:31:51.683149Z",
     "iopub.status.idle": "2023-06-16T06:31:51.936662Z",
     "shell.execute_reply": "2023-06-16T06:31:51.935421Z"
    },
    "papermill": {
     "duration": 0.304793,
     "end_time": "2023-06-16T06:31:51.939017",
     "exception": false,
     "start_time": "2023-06-16T06:31:51.634224",
     "status": "completed"
    },
    "tags": []
   },
   "outputs": [
    {
     "name": "stdout",
     "output_type": "stream",
     "text": [
      "1\n"
     ]
    }
   ],
   "source": [
    "cnt = 0\n",
    "missed = []\n",
    "for sent in passive:\n",
    "    \n",
    "    doc = nlp(sent)\n",
    "    \n",
    "    if not is_passive(doc, matcher):\n",
    "        \n",
    "        cnt += 1\n",
    "    else:\n",
    "        missed.append(doc)\n",
    "\n",
    "print(cnt)"
   ]
  },
  {
   "cell_type": "code",
   "execution_count": 81,
   "id": "44a392da",
   "metadata": {
    "execution": {
     "iopub.execute_input": "2023-06-16T06:31:52.038993Z",
     "iopub.status.busy": "2023-06-16T06:31:52.038638Z",
     "iopub.status.idle": "2023-06-16T06:31:52.044480Z",
     "shell.execute_reply": "2023-06-16T06:31:52.043487Z"
    },
    "papermill": {
     "duration": 0.058307,
     "end_time": "2023-06-16T06:31:52.046775",
     "exception": false,
     "start_time": "2023-06-16T06:31:51.988468",
     "status": "completed"
    },
    "tags": []
   },
   "outputs": [
    {
     "data": {
      "text/plain": [
       "39"
      ]
     },
     "execution_count": 81,
     "metadata": {},
     "output_type": "execute_result"
    }
   ],
   "source": [
    "len(missed)"
   ]
  },
  {
   "cell_type": "code",
   "execution_count": 82,
   "id": "b440ece4",
   "metadata": {
    "execution": {
     "iopub.execute_input": "2023-06-16T06:31:52.151996Z",
     "iopub.status.busy": "2023-06-16T06:31:52.151294Z",
     "iopub.status.idle": "2023-06-16T06:31:52.156740Z",
     "shell.execute_reply": "2023-06-16T06:31:52.156019Z"
    },
    "papermill": {
     "duration": 0.062646,
     "end_time": "2023-06-16T06:31:52.158605",
     "exception": false,
     "start_time": "2023-06-16T06:31:52.095959",
     "status": "completed"
    },
    "tags": []
   },
   "outputs": [
    {
     "data": {
      "text/plain": [
       "A novel is read."
      ]
     },
     "execution_count": 82,
     "metadata": {},
     "output_type": "execute_result"
    }
   ],
   "source": [
    "missed[0]"
   ]
  },
  {
   "cell_type": "code",
   "execution_count": 83,
   "id": "9c7f0705",
   "metadata": {
    "execution": {
     "iopub.execute_input": "2023-06-16T06:31:52.262495Z",
     "iopub.status.busy": "2023-06-16T06:31:52.261796Z",
     "iopub.status.idle": "2023-06-16T06:31:52.266920Z",
     "shell.execute_reply": "2023-06-16T06:31:52.266243Z"
    },
    "papermill": {
     "duration": 0.05888,
     "end_time": "2023-06-16T06:31:52.268745",
     "exception": false,
     "start_time": "2023-06-16T06:31:52.209865",
     "status": "completed"
    },
    "tags": []
   },
   "outputs": [
    {
     "data": {
      "text/plain": [
       "Food is not cooked by him."
      ]
     },
     "execution_count": 83,
     "metadata": {},
     "output_type": "execute_result"
    }
   ],
   "source": [
    "missed[1]"
   ]
  },
  {
   "cell_type": "markdown",
   "id": "aae4a805",
   "metadata": {
    "papermill": {
     "duration": 0.048587,
     "end_time": "2023-06-16T06:31:52.368296",
     "exception": false,
     "start_time": "2023-06-16T06:31:52.319709",
     "status": "completed"
    },
    "tags": []
   },
   "source": [
    "### Let's visualize their dependency trees"
   ]
  },
  {
   "cell_type": "code",
   "execution_count": 84,
   "id": "df87f22c",
   "metadata": {
    "execution": {
     "iopub.execute_input": "2023-06-16T06:31:52.468289Z",
     "iopub.status.busy": "2023-06-16T06:31:52.467562Z",
     "iopub.status.idle": "2023-06-16T06:31:52.501747Z",
     "shell.execute_reply": "2023-06-16T06:31:52.500955Z"
    },
    "papermill": {
     "duration": 0.086466,
     "end_time": "2023-06-16T06:31:52.503798",
     "exception": false,
     "start_time": "2023-06-16T06:31:52.417332",
     "status": "completed"
    },
    "tags": []
   },
   "outputs": [
    {
     "data": {
      "text/html": [
       "<span class=\"tex2jax_ignore\"><svg xmlns=\"http://www.w3.org/2000/svg\" xmlns:xlink=\"http://www.w3.org/1999/xlink\" xml:lang=\"en\" id=\"d3c9c12dd1594cc59b73866669fc5a5d-0\" class=\"displacy\" width=\"750\" height=\"312.0\" direction=\"ltr\" style=\"max-width: none; height: 312.0px; color: #000000; background: #ffffff; font-family: Arial; direction: ltr\">\n",
       "<text class=\"displacy-token\" fill=\"currentColor\" text-anchor=\"middle\" y=\"222.0\">\n",
       "    <tspan class=\"displacy-word\" fill=\"currentColor\" x=\"50\">A</tspan>\n",
       "    <tspan class=\"displacy-tag\" dy=\"2em\" fill=\"currentColor\" x=\"50\">DET</tspan>\n",
       "</text>\n",
       "\n",
       "<text class=\"displacy-token\" fill=\"currentColor\" text-anchor=\"middle\" y=\"222.0\">\n",
       "    <tspan class=\"displacy-word\" fill=\"currentColor\" x=\"225\">novel</tspan>\n",
       "    <tspan class=\"displacy-tag\" dy=\"2em\" fill=\"currentColor\" x=\"225\">NOUN</tspan>\n",
       "</text>\n",
       "\n",
       "<text class=\"displacy-token\" fill=\"currentColor\" text-anchor=\"middle\" y=\"222.0\">\n",
       "    <tspan class=\"displacy-word\" fill=\"currentColor\" x=\"400\">is</tspan>\n",
       "    <tspan class=\"displacy-tag\" dy=\"2em\" fill=\"currentColor\" x=\"400\">AUX</tspan>\n",
       "</text>\n",
       "\n",
       "<text class=\"displacy-token\" fill=\"currentColor\" text-anchor=\"middle\" y=\"222.0\">\n",
       "    <tspan class=\"displacy-word\" fill=\"currentColor\" x=\"575\">read.</tspan>\n",
       "    <tspan class=\"displacy-tag\" dy=\"2em\" fill=\"currentColor\" x=\"575\">VERB</tspan>\n",
       "</text>\n",
       "\n",
       "<g class=\"displacy-arrow\">\n",
       "    <path class=\"displacy-arc\" id=\"arrow-d3c9c12dd1594cc59b73866669fc5a5d-0-0\" stroke-width=\"2px\" d=\"M70,177.0 C70,89.5 220.0,89.5 220.0,177.0\" fill=\"none\" stroke=\"currentColor\"/>\n",
       "    <text dy=\"1.25em\" style=\"font-size: 0.8em; letter-spacing: 1px\">\n",
       "        <textPath xlink:href=\"#arrow-d3c9c12dd1594cc59b73866669fc5a5d-0-0\" class=\"displacy-label\" startOffset=\"50%\" side=\"left\" fill=\"currentColor\" text-anchor=\"middle\">det</textPath>\n",
       "    </text>\n",
       "    <path class=\"displacy-arrowhead\" d=\"M70,179.0 L62,167.0 78,167.0\" fill=\"currentColor\"/>\n",
       "</g>\n",
       "\n",
       "<g class=\"displacy-arrow\">\n",
       "    <path class=\"displacy-arc\" id=\"arrow-d3c9c12dd1594cc59b73866669fc5a5d-0-1\" stroke-width=\"2px\" d=\"M245,177.0 C245,2.0 575.0,2.0 575.0,177.0\" fill=\"none\" stroke=\"currentColor\"/>\n",
       "    <text dy=\"1.25em\" style=\"font-size: 0.8em; letter-spacing: 1px\">\n",
       "        <textPath xlink:href=\"#arrow-d3c9c12dd1594cc59b73866669fc5a5d-0-1\" class=\"displacy-label\" startOffset=\"50%\" side=\"left\" fill=\"currentColor\" text-anchor=\"middle\">nsubjpass</textPath>\n",
       "    </text>\n",
       "    <path class=\"displacy-arrowhead\" d=\"M245,179.0 L237,167.0 253,167.0\" fill=\"currentColor\"/>\n",
       "</g>\n",
       "\n",
       "<g class=\"displacy-arrow\">\n",
       "    <path class=\"displacy-arc\" id=\"arrow-d3c9c12dd1594cc59b73866669fc5a5d-0-2\" stroke-width=\"2px\" d=\"M420,177.0 C420,89.5 570.0,89.5 570.0,177.0\" fill=\"none\" stroke=\"currentColor\"/>\n",
       "    <text dy=\"1.25em\" style=\"font-size: 0.8em; letter-spacing: 1px\">\n",
       "        <textPath xlink:href=\"#arrow-d3c9c12dd1594cc59b73866669fc5a5d-0-2\" class=\"displacy-label\" startOffset=\"50%\" side=\"left\" fill=\"currentColor\" text-anchor=\"middle\">auxpass</textPath>\n",
       "    </text>\n",
       "    <path class=\"displacy-arrowhead\" d=\"M420,179.0 L412,167.0 428,167.0\" fill=\"currentColor\"/>\n",
       "</g>\n",
       "</svg></span>"
      ],
      "text/plain": [
       "<IPython.core.display.HTML object>"
      ]
     },
     "metadata": {},
     "output_type": "display_data"
    },
    {
     "data": {
      "text/html": [
       "<span class=\"tex2jax_ignore\"><svg xmlns=\"http://www.w3.org/2000/svg\" xmlns:xlink=\"http://www.w3.org/1999/xlink\" xml:lang=\"en\" id=\"098e93648a974e1cb941f68dfc4dd152-0\" class=\"displacy\" width=\"1100\" height=\"399.5\" direction=\"ltr\" style=\"max-width: none; height: 399.5px; color: #000000; background: #ffffff; font-family: Arial; direction: ltr\">\n",
       "<text class=\"displacy-token\" fill=\"currentColor\" text-anchor=\"middle\" y=\"309.5\">\n",
       "    <tspan class=\"displacy-word\" fill=\"currentColor\" x=\"50\">Food</tspan>\n",
       "    <tspan class=\"displacy-tag\" dy=\"2em\" fill=\"currentColor\" x=\"50\">NOUN</tspan>\n",
       "</text>\n",
       "\n",
       "<text class=\"displacy-token\" fill=\"currentColor\" text-anchor=\"middle\" y=\"309.5\">\n",
       "    <tspan class=\"displacy-word\" fill=\"currentColor\" x=\"225\">is</tspan>\n",
       "    <tspan class=\"displacy-tag\" dy=\"2em\" fill=\"currentColor\" x=\"225\">AUX</tspan>\n",
       "</text>\n",
       "\n",
       "<text class=\"displacy-token\" fill=\"currentColor\" text-anchor=\"middle\" y=\"309.5\">\n",
       "    <tspan class=\"displacy-word\" fill=\"currentColor\" x=\"400\">not</tspan>\n",
       "    <tspan class=\"displacy-tag\" dy=\"2em\" fill=\"currentColor\" x=\"400\">PART</tspan>\n",
       "</text>\n",
       "\n",
       "<text class=\"displacy-token\" fill=\"currentColor\" text-anchor=\"middle\" y=\"309.5\">\n",
       "    <tspan class=\"displacy-word\" fill=\"currentColor\" x=\"575\">cooked</tspan>\n",
       "    <tspan class=\"displacy-tag\" dy=\"2em\" fill=\"currentColor\" x=\"575\">VERB</tspan>\n",
       "</text>\n",
       "\n",
       "<text class=\"displacy-token\" fill=\"currentColor\" text-anchor=\"middle\" y=\"309.5\">\n",
       "    <tspan class=\"displacy-word\" fill=\"currentColor\" x=\"750\">by</tspan>\n",
       "    <tspan class=\"displacy-tag\" dy=\"2em\" fill=\"currentColor\" x=\"750\">ADP</tspan>\n",
       "</text>\n",
       "\n",
       "<text class=\"displacy-token\" fill=\"currentColor\" text-anchor=\"middle\" y=\"309.5\">\n",
       "    <tspan class=\"displacy-word\" fill=\"currentColor\" x=\"925\">him.</tspan>\n",
       "    <tspan class=\"displacy-tag\" dy=\"2em\" fill=\"currentColor\" x=\"925\">PRON</tspan>\n",
       "</text>\n",
       "\n",
       "<g class=\"displacy-arrow\">\n",
       "    <path class=\"displacy-arc\" id=\"arrow-098e93648a974e1cb941f68dfc4dd152-0-0\" stroke-width=\"2px\" d=\"M70,264.5 C70,2.0 575.0,2.0 575.0,264.5\" fill=\"none\" stroke=\"currentColor\"/>\n",
       "    <text dy=\"1.25em\" style=\"font-size: 0.8em; letter-spacing: 1px\">\n",
       "        <textPath xlink:href=\"#arrow-098e93648a974e1cb941f68dfc4dd152-0-0\" class=\"displacy-label\" startOffset=\"50%\" side=\"left\" fill=\"currentColor\" text-anchor=\"middle\">nsubjpass</textPath>\n",
       "    </text>\n",
       "    <path class=\"displacy-arrowhead\" d=\"M70,266.5 L62,254.5 78,254.5\" fill=\"currentColor\"/>\n",
       "</g>\n",
       "\n",
       "<g class=\"displacy-arrow\">\n",
       "    <path class=\"displacy-arc\" id=\"arrow-098e93648a974e1cb941f68dfc4dd152-0-1\" stroke-width=\"2px\" d=\"M245,264.5 C245,89.5 570.0,89.5 570.0,264.5\" fill=\"none\" stroke=\"currentColor\"/>\n",
       "    <text dy=\"1.25em\" style=\"font-size: 0.8em; letter-spacing: 1px\">\n",
       "        <textPath xlink:href=\"#arrow-098e93648a974e1cb941f68dfc4dd152-0-1\" class=\"displacy-label\" startOffset=\"50%\" side=\"left\" fill=\"currentColor\" text-anchor=\"middle\">auxpass</textPath>\n",
       "    </text>\n",
       "    <path class=\"displacy-arrowhead\" d=\"M245,266.5 L237,254.5 253,254.5\" fill=\"currentColor\"/>\n",
       "</g>\n",
       "\n",
       "<g class=\"displacy-arrow\">\n",
       "    <path class=\"displacy-arc\" id=\"arrow-098e93648a974e1cb941f68dfc4dd152-0-2\" stroke-width=\"2px\" d=\"M420,264.5 C420,177.0 565.0,177.0 565.0,264.5\" fill=\"none\" stroke=\"currentColor\"/>\n",
       "    <text dy=\"1.25em\" style=\"font-size: 0.8em; letter-spacing: 1px\">\n",
       "        <textPath xlink:href=\"#arrow-098e93648a974e1cb941f68dfc4dd152-0-2\" class=\"displacy-label\" startOffset=\"50%\" side=\"left\" fill=\"currentColor\" text-anchor=\"middle\">neg</textPath>\n",
       "    </text>\n",
       "    <path class=\"displacy-arrowhead\" d=\"M420,266.5 L412,254.5 428,254.5\" fill=\"currentColor\"/>\n",
       "</g>\n",
       "\n",
       "<g class=\"displacy-arrow\">\n",
       "    <path class=\"displacy-arc\" id=\"arrow-098e93648a974e1cb941f68dfc4dd152-0-3\" stroke-width=\"2px\" d=\"M595,264.5 C595,177.0 740.0,177.0 740.0,264.5\" fill=\"none\" stroke=\"currentColor\"/>\n",
       "    <text dy=\"1.25em\" style=\"font-size: 0.8em; letter-spacing: 1px\">\n",
       "        <textPath xlink:href=\"#arrow-098e93648a974e1cb941f68dfc4dd152-0-3\" class=\"displacy-label\" startOffset=\"50%\" side=\"left\" fill=\"currentColor\" text-anchor=\"middle\">agent</textPath>\n",
       "    </text>\n",
       "    <path class=\"displacy-arrowhead\" d=\"M740.0,266.5 L748.0,254.5 732.0,254.5\" fill=\"currentColor\"/>\n",
       "</g>\n",
       "\n",
       "<g class=\"displacy-arrow\">\n",
       "    <path class=\"displacy-arc\" id=\"arrow-098e93648a974e1cb941f68dfc4dd152-0-4\" stroke-width=\"2px\" d=\"M770,264.5 C770,177.0 915.0,177.0 915.0,264.5\" fill=\"none\" stroke=\"currentColor\"/>\n",
       "    <text dy=\"1.25em\" style=\"font-size: 0.8em; letter-spacing: 1px\">\n",
       "        <textPath xlink:href=\"#arrow-098e93648a974e1cb941f68dfc4dd152-0-4\" class=\"displacy-label\" startOffset=\"50%\" side=\"left\" fill=\"currentColor\" text-anchor=\"middle\">pobj</textPath>\n",
       "    </text>\n",
       "    <path class=\"displacy-arrowhead\" d=\"M915.0,266.5 L923.0,254.5 907.0,254.5\" fill=\"currentColor\"/>\n",
       "</g>\n",
       "</svg></span>"
      ],
      "text/plain": [
       "<IPython.core.display.HTML object>"
      ]
     },
     "metadata": {},
     "output_type": "display_data"
    },
    {
     "data": {
      "text/html": [
       "<span class=\"tex2jax_ignore\"><svg xmlns=\"http://www.w3.org/2000/svg\" xmlns:xlink=\"http://www.w3.org/1999/xlink\" xml:lang=\"en\" id=\"26bdf389b33d4c69b45995669365f417-0\" class=\"displacy\" width=\"1100\" height=\"399.5\" direction=\"ltr\" style=\"max-width: none; height: 399.5px; color: #000000; background: #ffffff; font-family: Arial; direction: ltr\">\n",
       "<text class=\"displacy-token\" fill=\"currentColor\" text-anchor=\"middle\" y=\"309.5\">\n",
       "    <tspan class=\"displacy-word\" fill=\"currentColor\" x=\"50\">Are</tspan>\n",
       "    <tspan class=\"displacy-tag\" dy=\"2em\" fill=\"currentColor\" x=\"50\">AUX</tspan>\n",
       "</text>\n",
       "\n",
       "<text class=\"displacy-token\" fill=\"currentColor\" text-anchor=\"middle\" y=\"309.5\">\n",
       "    <tspan class=\"displacy-word\" fill=\"currentColor\" x=\"225\">books</tspan>\n",
       "    <tspan class=\"displacy-tag\" dy=\"2em\" fill=\"currentColor\" x=\"225\">NOUN</tspan>\n",
       "</text>\n",
       "\n",
       "<text class=\"displacy-token\" fill=\"currentColor\" text-anchor=\"middle\" y=\"309.5\">\n",
       "    <tspan class=\"displacy-word\" fill=\"currentColor\" x=\"400\">being</tspan>\n",
       "    <tspan class=\"displacy-tag\" dy=\"2em\" fill=\"currentColor\" x=\"400\">AUX</tspan>\n",
       "</text>\n",
       "\n",
       "<text class=\"displacy-token\" fill=\"currentColor\" text-anchor=\"middle\" y=\"309.5\">\n",
       "    <tspan class=\"displacy-word\" fill=\"currentColor\" x=\"575\">purchased</tspan>\n",
       "    <tspan class=\"displacy-tag\" dy=\"2em\" fill=\"currentColor\" x=\"575\">VERB</tspan>\n",
       "</text>\n",
       "\n",
       "<text class=\"displacy-token\" fill=\"currentColor\" text-anchor=\"middle\" y=\"309.5\">\n",
       "    <tspan class=\"displacy-word\" fill=\"currentColor\" x=\"750\">by</tspan>\n",
       "    <tspan class=\"displacy-tag\" dy=\"2em\" fill=\"currentColor\" x=\"750\">ADP</tspan>\n",
       "</text>\n",
       "\n",
       "<text class=\"displacy-token\" fill=\"currentColor\" text-anchor=\"middle\" y=\"309.5\">\n",
       "    <tspan class=\"displacy-word\" fill=\"currentColor\" x=\"925\">him?</tspan>\n",
       "    <tspan class=\"displacy-tag\" dy=\"2em\" fill=\"currentColor\" x=\"925\">PRON</tspan>\n",
       "</text>\n",
       "\n",
       "<g class=\"displacy-arrow\">\n",
       "    <path class=\"displacy-arc\" id=\"arrow-26bdf389b33d4c69b45995669365f417-0-0\" stroke-width=\"2px\" d=\"M70,264.5 C70,2.0 575.0,2.0 575.0,264.5\" fill=\"none\" stroke=\"currentColor\"/>\n",
       "    <text dy=\"1.25em\" style=\"font-size: 0.8em; letter-spacing: 1px\">\n",
       "        <textPath xlink:href=\"#arrow-26bdf389b33d4c69b45995669365f417-0-0\" class=\"displacy-label\" startOffset=\"50%\" side=\"left\" fill=\"currentColor\" text-anchor=\"middle\">aux</textPath>\n",
       "    </text>\n",
       "    <path class=\"displacy-arrowhead\" d=\"M70,266.5 L62,254.5 78,254.5\" fill=\"currentColor\"/>\n",
       "</g>\n",
       "\n",
       "<g class=\"displacy-arrow\">\n",
       "    <path class=\"displacy-arc\" id=\"arrow-26bdf389b33d4c69b45995669365f417-0-1\" stroke-width=\"2px\" d=\"M245,264.5 C245,89.5 570.0,89.5 570.0,264.5\" fill=\"none\" stroke=\"currentColor\"/>\n",
       "    <text dy=\"1.25em\" style=\"font-size: 0.8em; letter-spacing: 1px\">\n",
       "        <textPath xlink:href=\"#arrow-26bdf389b33d4c69b45995669365f417-0-1\" class=\"displacy-label\" startOffset=\"50%\" side=\"left\" fill=\"currentColor\" text-anchor=\"middle\">nsubjpass</textPath>\n",
       "    </text>\n",
       "    <path class=\"displacy-arrowhead\" d=\"M245,266.5 L237,254.5 253,254.5\" fill=\"currentColor\"/>\n",
       "</g>\n",
       "\n",
       "<g class=\"displacy-arrow\">\n",
       "    <path class=\"displacy-arc\" id=\"arrow-26bdf389b33d4c69b45995669365f417-0-2\" stroke-width=\"2px\" d=\"M420,264.5 C420,177.0 565.0,177.0 565.0,264.5\" fill=\"none\" stroke=\"currentColor\"/>\n",
       "    <text dy=\"1.25em\" style=\"font-size: 0.8em; letter-spacing: 1px\">\n",
       "        <textPath xlink:href=\"#arrow-26bdf389b33d4c69b45995669365f417-0-2\" class=\"displacy-label\" startOffset=\"50%\" side=\"left\" fill=\"currentColor\" text-anchor=\"middle\">auxpass</textPath>\n",
       "    </text>\n",
       "    <path class=\"displacy-arrowhead\" d=\"M420,266.5 L412,254.5 428,254.5\" fill=\"currentColor\"/>\n",
       "</g>\n",
       "\n",
       "<g class=\"displacy-arrow\">\n",
       "    <path class=\"displacy-arc\" id=\"arrow-26bdf389b33d4c69b45995669365f417-0-3\" stroke-width=\"2px\" d=\"M595,264.5 C595,177.0 740.0,177.0 740.0,264.5\" fill=\"none\" stroke=\"currentColor\"/>\n",
       "    <text dy=\"1.25em\" style=\"font-size: 0.8em; letter-spacing: 1px\">\n",
       "        <textPath xlink:href=\"#arrow-26bdf389b33d4c69b45995669365f417-0-3\" class=\"displacy-label\" startOffset=\"50%\" side=\"left\" fill=\"currentColor\" text-anchor=\"middle\">agent</textPath>\n",
       "    </text>\n",
       "    <path class=\"displacy-arrowhead\" d=\"M740.0,266.5 L748.0,254.5 732.0,254.5\" fill=\"currentColor\"/>\n",
       "</g>\n",
       "\n",
       "<g class=\"displacy-arrow\">\n",
       "    <path class=\"displacy-arc\" id=\"arrow-26bdf389b33d4c69b45995669365f417-0-4\" stroke-width=\"2px\" d=\"M770,264.5 C770,177.0 915.0,177.0 915.0,264.5\" fill=\"none\" stroke=\"currentColor\"/>\n",
       "    <text dy=\"1.25em\" style=\"font-size: 0.8em; letter-spacing: 1px\">\n",
       "        <textPath xlink:href=\"#arrow-26bdf389b33d4c69b45995669365f417-0-4\" class=\"displacy-label\" startOffset=\"50%\" side=\"left\" fill=\"currentColor\" text-anchor=\"middle\">pobj</textPath>\n",
       "    </text>\n",
       "    <path class=\"displacy-arrowhead\" d=\"M915.0,266.5 L923.0,254.5 907.0,254.5\" fill=\"currentColor\"/>\n",
       "</g>\n",
       "</svg></span>"
      ],
      "text/plain": [
       "<IPython.core.display.HTML object>"
      ]
     },
     "metadata": {},
     "output_type": "display_data"
    },
    {
     "data": {
      "text/html": [
       "<span class=\"tex2jax_ignore\"><svg xmlns=\"http://www.w3.org/2000/svg\" xmlns:xlink=\"http://www.w3.org/1999/xlink\" xml:lang=\"en\" id=\"57fa12d5632c4da0a458c6f13d1d5140-0\" class=\"displacy\" width=\"925\" height=\"312.0\" direction=\"ltr\" style=\"max-width: none; height: 312.0px; color: #000000; background: #ffffff; font-family: Arial; direction: ltr\">\n",
       "<text class=\"displacy-token\" fill=\"currentColor\" text-anchor=\"middle\" y=\"222.0\">\n",
       "    <tspan class=\"displacy-word\" fill=\"currentColor\" x=\"50\">Plants</tspan>\n",
       "    <tspan class=\"displacy-tag\" dy=\"2em\" fill=\"currentColor\" x=\"50\">NOUN</tspan>\n",
       "</text>\n",
       "\n",
       "<text class=\"displacy-token\" fill=\"currentColor\" text-anchor=\"middle\" y=\"222.0\">\n",
       "    <tspan class=\"displacy-word\" fill=\"currentColor\" x=\"225\">are</tspan>\n",
       "    <tspan class=\"displacy-tag\" dy=\"2em\" fill=\"currentColor\" x=\"225\">AUX</tspan>\n",
       "</text>\n",
       "\n",
       "<text class=\"displacy-token\" fill=\"currentColor\" text-anchor=\"middle\" y=\"222.0\">\n",
       "    <tspan class=\"displacy-word\" fill=\"currentColor\" x=\"400\">grown</tspan>\n",
       "    <tspan class=\"displacy-tag\" dy=\"2em\" fill=\"currentColor\" x=\"400\">VERB</tspan>\n",
       "</text>\n",
       "\n",
       "<text class=\"displacy-token\" fill=\"currentColor\" text-anchor=\"middle\" y=\"222.0\">\n",
       "    <tspan class=\"displacy-word\" fill=\"currentColor\" x=\"575\">by</tspan>\n",
       "    <tspan class=\"displacy-tag\" dy=\"2em\" fill=\"currentColor\" x=\"575\">ADP</tspan>\n",
       "</text>\n",
       "\n",
       "<text class=\"displacy-token\" fill=\"currentColor\" text-anchor=\"middle\" y=\"222.0\">\n",
       "    <tspan class=\"displacy-word\" fill=\"currentColor\" x=\"750\">them.</tspan>\n",
       "    <tspan class=\"displacy-tag\" dy=\"2em\" fill=\"currentColor\" x=\"750\">PRON</tspan>\n",
       "</text>\n",
       "\n",
       "<g class=\"displacy-arrow\">\n",
       "    <path class=\"displacy-arc\" id=\"arrow-57fa12d5632c4da0a458c6f13d1d5140-0-0\" stroke-width=\"2px\" d=\"M70,177.0 C70,2.0 400.0,2.0 400.0,177.0\" fill=\"none\" stroke=\"currentColor\"/>\n",
       "    <text dy=\"1.25em\" style=\"font-size: 0.8em; letter-spacing: 1px\">\n",
       "        <textPath xlink:href=\"#arrow-57fa12d5632c4da0a458c6f13d1d5140-0-0\" class=\"displacy-label\" startOffset=\"50%\" side=\"left\" fill=\"currentColor\" text-anchor=\"middle\">nsubjpass</textPath>\n",
       "    </text>\n",
       "    <path class=\"displacy-arrowhead\" d=\"M70,179.0 L62,167.0 78,167.0\" fill=\"currentColor\"/>\n",
       "</g>\n",
       "\n",
       "<g class=\"displacy-arrow\">\n",
       "    <path class=\"displacy-arc\" id=\"arrow-57fa12d5632c4da0a458c6f13d1d5140-0-1\" stroke-width=\"2px\" d=\"M245,177.0 C245,89.5 395.0,89.5 395.0,177.0\" fill=\"none\" stroke=\"currentColor\"/>\n",
       "    <text dy=\"1.25em\" style=\"font-size: 0.8em; letter-spacing: 1px\">\n",
       "        <textPath xlink:href=\"#arrow-57fa12d5632c4da0a458c6f13d1d5140-0-1\" class=\"displacy-label\" startOffset=\"50%\" side=\"left\" fill=\"currentColor\" text-anchor=\"middle\">auxpass</textPath>\n",
       "    </text>\n",
       "    <path class=\"displacy-arrowhead\" d=\"M245,179.0 L237,167.0 253,167.0\" fill=\"currentColor\"/>\n",
       "</g>\n",
       "\n",
       "<g class=\"displacy-arrow\">\n",
       "    <path class=\"displacy-arc\" id=\"arrow-57fa12d5632c4da0a458c6f13d1d5140-0-2\" stroke-width=\"2px\" d=\"M420,177.0 C420,89.5 570.0,89.5 570.0,177.0\" fill=\"none\" stroke=\"currentColor\"/>\n",
       "    <text dy=\"1.25em\" style=\"font-size: 0.8em; letter-spacing: 1px\">\n",
       "        <textPath xlink:href=\"#arrow-57fa12d5632c4da0a458c6f13d1d5140-0-2\" class=\"displacy-label\" startOffset=\"50%\" side=\"left\" fill=\"currentColor\" text-anchor=\"middle\">agent</textPath>\n",
       "    </text>\n",
       "    <path class=\"displacy-arrowhead\" d=\"M570.0,179.0 L578.0,167.0 562.0,167.0\" fill=\"currentColor\"/>\n",
       "</g>\n",
       "\n",
       "<g class=\"displacy-arrow\">\n",
       "    <path class=\"displacy-arc\" id=\"arrow-57fa12d5632c4da0a458c6f13d1d5140-0-3\" stroke-width=\"2px\" d=\"M595,177.0 C595,89.5 745.0,89.5 745.0,177.0\" fill=\"none\" stroke=\"currentColor\"/>\n",
       "    <text dy=\"1.25em\" style=\"font-size: 0.8em; letter-spacing: 1px\">\n",
       "        <textPath xlink:href=\"#arrow-57fa12d5632c4da0a458c6f13d1d5140-0-3\" class=\"displacy-label\" startOffset=\"50%\" side=\"left\" fill=\"currentColor\" text-anchor=\"middle\">pobj</textPath>\n",
       "    </text>\n",
       "    <path class=\"displacy-arrowhead\" d=\"M745.0,179.0 L753.0,167.0 737.0,167.0\" fill=\"currentColor\"/>\n",
       "</g>\n",
       "</svg></span>"
      ],
      "text/plain": [
       "<IPython.core.display.HTML object>"
      ]
     },
     "metadata": {},
     "output_type": "display_data"
    },
    {
     "data": {
      "text/html": [
       "<span class=\"tex2jax_ignore\"><svg xmlns=\"http://www.w3.org/2000/svg\" xmlns:xlink=\"http://www.w3.org/1999/xlink\" xml:lang=\"en\" id=\"c030f727df194f52926432864ee6160e-0\" class=\"displacy\" width=\"925\" height=\"312.0\" direction=\"ltr\" style=\"max-width: none; height: 312.0px; color: #000000; background: #ffffff; font-family: Arial; direction: ltr\">\n",
       "<text class=\"displacy-token\" fill=\"currentColor\" text-anchor=\"middle\" y=\"222.0\">\n",
       "    <tspan class=\"displacy-word\" fill=\"currentColor\" x=\"50\">I</tspan>\n",
       "    <tspan class=\"displacy-tag\" dy=\"2em\" fill=\"currentColor\" x=\"50\">PRON</tspan>\n",
       "</text>\n",
       "\n",
       "<text class=\"displacy-token\" fill=\"currentColor\" text-anchor=\"middle\" y=\"222.0\">\n",
       "    <tspan class=\"displacy-word\" fill=\"currentColor\" x=\"225\">am</tspan>\n",
       "    <tspan class=\"displacy-tag\" dy=\"2em\" fill=\"currentColor\" x=\"225\">AUX</tspan>\n",
       "</text>\n",
       "\n",
       "<text class=\"displacy-token\" fill=\"currentColor\" text-anchor=\"middle\" y=\"222.0\">\n",
       "    <tspan class=\"displacy-word\" fill=\"currentColor\" x=\"400\">taught</tspan>\n",
       "    <tspan class=\"displacy-tag\" dy=\"2em\" fill=\"currentColor\" x=\"400\">VERB</tspan>\n",
       "</text>\n",
       "\n",
       "<text class=\"displacy-token\" fill=\"currentColor\" text-anchor=\"middle\" y=\"222.0\">\n",
       "    <tspan class=\"displacy-word\" fill=\"currentColor\" x=\"575\">by</tspan>\n",
       "    <tspan class=\"displacy-tag\" dy=\"2em\" fill=\"currentColor\" x=\"575\">ADP</tspan>\n",
       "</text>\n",
       "\n",
       "<text class=\"displacy-token\" fill=\"currentColor\" text-anchor=\"middle\" y=\"222.0\">\n",
       "    <tspan class=\"displacy-word\" fill=\"currentColor\" x=\"750\">her.</tspan>\n",
       "    <tspan class=\"displacy-tag\" dy=\"2em\" fill=\"currentColor\" x=\"750\">PRON</tspan>\n",
       "</text>\n",
       "\n",
       "<g class=\"displacy-arrow\">\n",
       "    <path class=\"displacy-arc\" id=\"arrow-c030f727df194f52926432864ee6160e-0-0\" stroke-width=\"2px\" d=\"M70,177.0 C70,2.0 400.0,2.0 400.0,177.0\" fill=\"none\" stroke=\"currentColor\"/>\n",
       "    <text dy=\"1.25em\" style=\"font-size: 0.8em; letter-spacing: 1px\">\n",
       "        <textPath xlink:href=\"#arrow-c030f727df194f52926432864ee6160e-0-0\" class=\"displacy-label\" startOffset=\"50%\" side=\"left\" fill=\"currentColor\" text-anchor=\"middle\">nsubjpass</textPath>\n",
       "    </text>\n",
       "    <path class=\"displacy-arrowhead\" d=\"M70,179.0 L62,167.0 78,167.0\" fill=\"currentColor\"/>\n",
       "</g>\n",
       "\n",
       "<g class=\"displacy-arrow\">\n",
       "    <path class=\"displacy-arc\" id=\"arrow-c030f727df194f52926432864ee6160e-0-1\" stroke-width=\"2px\" d=\"M245,177.0 C245,89.5 395.0,89.5 395.0,177.0\" fill=\"none\" stroke=\"currentColor\"/>\n",
       "    <text dy=\"1.25em\" style=\"font-size: 0.8em; letter-spacing: 1px\">\n",
       "        <textPath xlink:href=\"#arrow-c030f727df194f52926432864ee6160e-0-1\" class=\"displacy-label\" startOffset=\"50%\" side=\"left\" fill=\"currentColor\" text-anchor=\"middle\">auxpass</textPath>\n",
       "    </text>\n",
       "    <path class=\"displacy-arrowhead\" d=\"M245,179.0 L237,167.0 253,167.0\" fill=\"currentColor\"/>\n",
       "</g>\n",
       "\n",
       "<g class=\"displacy-arrow\">\n",
       "    <path class=\"displacy-arc\" id=\"arrow-c030f727df194f52926432864ee6160e-0-2\" stroke-width=\"2px\" d=\"M420,177.0 C420,89.5 570.0,89.5 570.0,177.0\" fill=\"none\" stroke=\"currentColor\"/>\n",
       "    <text dy=\"1.25em\" style=\"font-size: 0.8em; letter-spacing: 1px\">\n",
       "        <textPath xlink:href=\"#arrow-c030f727df194f52926432864ee6160e-0-2\" class=\"displacy-label\" startOffset=\"50%\" side=\"left\" fill=\"currentColor\" text-anchor=\"middle\">agent</textPath>\n",
       "    </text>\n",
       "    <path class=\"displacy-arrowhead\" d=\"M570.0,179.0 L578.0,167.0 562.0,167.0\" fill=\"currentColor\"/>\n",
       "</g>\n",
       "\n",
       "<g class=\"displacy-arrow\">\n",
       "    <path class=\"displacy-arc\" id=\"arrow-c030f727df194f52926432864ee6160e-0-3\" stroke-width=\"2px\" d=\"M595,177.0 C595,89.5 745.0,89.5 745.0,177.0\" fill=\"none\" stroke=\"currentColor\"/>\n",
       "    <text dy=\"1.25em\" style=\"font-size: 0.8em; letter-spacing: 1px\">\n",
       "        <textPath xlink:href=\"#arrow-c030f727df194f52926432864ee6160e-0-3\" class=\"displacy-label\" startOffset=\"50%\" side=\"left\" fill=\"currentColor\" text-anchor=\"middle\">pobj</textPath>\n",
       "    </text>\n",
       "    <path class=\"displacy-arrowhead\" d=\"M745.0,179.0 L753.0,167.0 737.0,167.0\" fill=\"currentColor\"/>\n",
       "</g>\n",
       "</svg></span>"
      ],
      "text/plain": [
       "<IPython.core.display.HTML object>"
      ]
     },
     "metadata": {},
     "output_type": "display_data"
    }
   ],
   "source": [
    "for doc in missed[0:5]:\n",
    "    displacy.render(doc, style=\"dep\")"
   ]
  },
  {
   "cell_type": "code",
   "execution_count": 85,
   "id": "df07f3b7",
   "metadata": {
    "execution": {
     "iopub.execute_input": "2023-06-16T06:31:52.605983Z",
     "iopub.status.busy": "2023-06-16T06:31:52.605543Z",
     "iopub.status.idle": "2023-06-16T06:31:52.611272Z",
     "shell.execute_reply": "2023-06-16T06:31:52.610642Z"
    },
    "papermill": {
     "duration": 0.058373,
     "end_time": "2023-06-16T06:31:52.613056",
     "exception": false,
     "start_time": "2023-06-16T06:31:52.554683",
     "status": "completed"
    },
    "tags": []
   },
   "outputs": [
    {
     "data": {
      "text/plain": [
       "'auxiliary (passive)'"
      ]
     },
     "execution_count": 85,
     "metadata": {},
     "output_type": "execute_result"
    }
   ],
   "source": [
    "spacy.explain(\"auxpass\")"
   ]
  },
  {
   "cell_type": "markdown",
   "id": "d1b95b29",
   "metadata": {
    "papermill": {
     "duration": 0.049953,
     "end_time": "2023-06-16T06:31:52.713384",
     "exception": false,
     "start_time": "2023-06-16T06:31:52.663431",
     "status": "completed"
    },
    "tags": []
   },
   "source": [
    "#### Update our rule"
   ]
  },
  {
   "cell_type": "code",
   "execution_count": 86,
   "id": "2039a925",
   "metadata": {
    "execution": {
     "iopub.execute_input": "2023-06-16T06:31:52.816877Z",
     "iopub.status.busy": "2023-06-16T06:31:52.816182Z",
     "iopub.status.idle": "2023-06-16T06:31:52.820932Z",
     "shell.execute_reply": "2023-06-16T06:31:52.820170Z"
    },
    "papermill": {
     "duration": 0.058689,
     "end_time": "2023-06-16T06:31:52.822807",
     "exception": false,
     "start_time": "2023-06-16T06:31:52.764118",
     "status": "completed"
    },
    "tags": []
   },
   "outputs": [],
   "source": [
    "passive_rule = [{'DEP':{\"IN\":['nsubjpass','auxpass']}}]\n",
    "matcher = Matcher(nlp.vocab)\n",
    "matcher.add('Rule',[passive_rule])"
   ]
  },
  {
   "cell_type": "code",
   "execution_count": 87,
   "id": "da4c4ffe",
   "metadata": {
    "execution": {
     "iopub.execute_input": "2023-06-16T06:31:52.925721Z",
     "iopub.status.busy": "2023-06-16T06:31:52.925278Z",
     "iopub.status.idle": "2023-06-16T06:31:53.166187Z",
     "shell.execute_reply": "2023-06-16T06:31:53.165095Z"
    },
    "papermill": {
     "duration": 0.295177,
     "end_time": "2023-06-16T06:31:53.168413",
     "exception": false,
     "start_time": "2023-06-16T06:31:52.873236",
     "status": "completed"
    },
    "tags": []
   },
   "outputs": [
    {
     "name": "stdout",
     "output_type": "stream",
     "text": [
      "40\n"
     ]
    }
   ],
   "source": [
    "cnt = 0\n",
    "for sent in active:\n",
    "    doc = nlp(sent)\n",
    "    if not is_passive(doc,matcher):\n",
    "        cnt += 1\n",
    "print(cnt)"
   ]
  },
  {
   "cell_type": "code",
   "execution_count": 88,
   "id": "5d3af48e",
   "metadata": {
    "execution": {
     "iopub.execute_input": "2023-06-16T06:31:53.271440Z",
     "iopub.status.busy": "2023-06-16T06:31:53.271057Z",
     "iopub.status.idle": "2023-06-16T06:31:53.515430Z",
     "shell.execute_reply": "2023-06-16T06:31:53.514524Z"
    },
    "papermill": {
     "duration": 0.298527,
     "end_time": "2023-06-16T06:31:53.517527",
     "exception": false,
     "start_time": "2023-06-16T06:31:53.219000",
     "status": "completed"
    },
    "tags": []
   },
   "outputs": [
    {
     "name": "stdout",
     "output_type": "stream",
     "text": [
      "40\n"
     ]
    }
   ],
   "source": [
    "cnt = 0\n",
    "missed = []\n",
    "for sent in passive:\n",
    "    doc = nlp(sent)\n",
    "    if is_passive(doc,matcher):\n",
    "        cnt += 1\n",
    "    else:\n",
    "        missed.append(doc)\n",
    "print(cnt)"
   ]
  },
  {
   "cell_type": "markdown",
   "id": "a792f827",
   "metadata": {
    "papermill": {
     "duration": 0.050256,
     "end_time": "2023-06-16T06:31:53.617753",
     "exception": false,
     "start_time": "2023-06-16T06:31:53.567497",
     "status": "completed"
    },
    "tags": []
   },
   "source": [
    "**Summary:**\n",
    "\n",
    "* Always test your rules and hueristics on a larger corpus to see the effectiveness of the rules\n",
    "* One can write intricate matching rules using `matcher` object"
   ]
  },
  {
   "cell_type": "code",
   "execution_count": 89,
   "id": "b7e9f491",
   "metadata": {
    "execution": {
     "iopub.execute_input": "2023-06-16T06:31:53.719192Z",
     "iopub.status.busy": "2023-06-16T06:31:53.718029Z",
     "iopub.status.idle": "2023-06-16T06:31:53.736785Z",
     "shell.execute_reply": "2023-06-16T06:31:53.735822Z"
    },
    "papermill": {
     "duration": 0.071548,
     "end_time": "2023-06-16T06:31:53.739065",
     "exception": false,
     "start_time": "2023-06-16T06:31:53.667517",
     "status": "completed"
    },
    "tags": []
   },
   "outputs": [
    {
     "data": {
      "text/html": [
       "<span class=\"tex2jax_ignore\"><svg xmlns=\"http://www.w3.org/2000/svg\" xmlns:xlink=\"http://www.w3.org/1999/xlink\" xml:lang=\"en\" id=\"aab378be47ff4498980de262c234b032-0\" class=\"displacy\" width=\"925\" height=\"312.0\" direction=\"ltr\" style=\"max-width: none; height: 312.0px; color: #000000; background: #ffffff; font-family: Arial; direction: ltr\">\n",
       "<text class=\"displacy-token\" fill=\"currentColor\" text-anchor=\"middle\" y=\"222.0\">\n",
       "    <tspan class=\"displacy-word\" fill=\"currentColor\" x=\"50\">Dole</tspan>\n",
       "    <tspan class=\"displacy-tag\" dy=\"2em\" fill=\"currentColor\" x=\"50\">PROPN</tspan>\n",
       "</text>\n",
       "\n",
       "<text class=\"displacy-token\" fill=\"currentColor\" text-anchor=\"middle\" y=\"222.0\">\n",
       "    <tspan class=\"displacy-word\" fill=\"currentColor\" x=\"225\">was</tspan>\n",
       "    <tspan class=\"displacy-tag\" dy=\"2em\" fill=\"currentColor\" x=\"225\">AUX</tspan>\n",
       "</text>\n",
       "\n",
       "<text class=\"displacy-token\" fill=\"currentColor\" text-anchor=\"middle\" y=\"222.0\">\n",
       "    <tspan class=\"displacy-word\" fill=\"currentColor\" x=\"400\">defeated</tspan>\n",
       "    <tspan class=\"displacy-tag\" dy=\"2em\" fill=\"currentColor\" x=\"400\">VERB</tspan>\n",
       "</text>\n",
       "\n",
       "<text class=\"displacy-token\" fill=\"currentColor\" text-anchor=\"middle\" y=\"222.0\">\n",
       "    <tspan class=\"displacy-word\" fill=\"currentColor\" x=\"575\">by</tspan>\n",
       "    <tspan class=\"displacy-tag\" dy=\"2em\" fill=\"currentColor\" x=\"575\">ADP</tspan>\n",
       "</text>\n",
       "\n",
       "<text class=\"displacy-token\" fill=\"currentColor\" text-anchor=\"middle\" y=\"222.0\">\n",
       "    <tspan class=\"displacy-word\" fill=\"currentColor\" x=\"750\">Clinton</tspan>\n",
       "    <tspan class=\"displacy-tag\" dy=\"2em\" fill=\"currentColor\" x=\"750\">PROPN</tspan>\n",
       "</text>\n",
       "\n",
       "<g class=\"displacy-arrow\">\n",
       "    <path class=\"displacy-arc\" id=\"arrow-aab378be47ff4498980de262c234b032-0-0\" stroke-width=\"2px\" d=\"M70,177.0 C70,2.0 400.0,2.0 400.0,177.0\" fill=\"none\" stroke=\"currentColor\"/>\n",
       "    <text dy=\"1.25em\" style=\"font-size: 0.8em; letter-spacing: 1px\">\n",
       "        <textPath xlink:href=\"#arrow-aab378be47ff4498980de262c234b032-0-0\" class=\"displacy-label\" startOffset=\"50%\" side=\"left\" fill=\"currentColor\" text-anchor=\"middle\">nsubjpass</textPath>\n",
       "    </text>\n",
       "    <path class=\"displacy-arrowhead\" d=\"M70,179.0 L62,167.0 78,167.0\" fill=\"currentColor\"/>\n",
       "</g>\n",
       "\n",
       "<g class=\"displacy-arrow\">\n",
       "    <path class=\"displacy-arc\" id=\"arrow-aab378be47ff4498980de262c234b032-0-1\" stroke-width=\"2px\" d=\"M245,177.0 C245,89.5 395.0,89.5 395.0,177.0\" fill=\"none\" stroke=\"currentColor\"/>\n",
       "    <text dy=\"1.25em\" style=\"font-size: 0.8em; letter-spacing: 1px\">\n",
       "        <textPath xlink:href=\"#arrow-aab378be47ff4498980de262c234b032-0-1\" class=\"displacy-label\" startOffset=\"50%\" side=\"left\" fill=\"currentColor\" text-anchor=\"middle\">auxpass</textPath>\n",
       "    </text>\n",
       "    <path class=\"displacy-arrowhead\" d=\"M245,179.0 L237,167.0 253,167.0\" fill=\"currentColor\"/>\n",
       "</g>\n",
       "\n",
       "<g class=\"displacy-arrow\">\n",
       "    <path class=\"displacy-arc\" id=\"arrow-aab378be47ff4498980de262c234b032-0-2\" stroke-width=\"2px\" d=\"M420,177.0 C420,89.5 570.0,89.5 570.0,177.0\" fill=\"none\" stroke=\"currentColor\"/>\n",
       "    <text dy=\"1.25em\" style=\"font-size: 0.8em; letter-spacing: 1px\">\n",
       "        <textPath xlink:href=\"#arrow-aab378be47ff4498980de262c234b032-0-2\" class=\"displacy-label\" startOffset=\"50%\" side=\"left\" fill=\"currentColor\" text-anchor=\"middle\">agent</textPath>\n",
       "    </text>\n",
       "    <path class=\"displacy-arrowhead\" d=\"M570.0,179.0 L578.0,167.0 562.0,167.0\" fill=\"currentColor\"/>\n",
       "</g>\n",
       "\n",
       "<g class=\"displacy-arrow\">\n",
       "    <path class=\"displacy-arc\" id=\"arrow-aab378be47ff4498980de262c234b032-0-3\" stroke-width=\"2px\" d=\"M595,177.0 C595,89.5 745.0,89.5 745.0,177.0\" fill=\"none\" stroke=\"currentColor\"/>\n",
       "    <text dy=\"1.25em\" style=\"font-size: 0.8em; letter-spacing: 1px\">\n",
       "        <textPath xlink:href=\"#arrow-aab378be47ff4498980de262c234b032-0-3\" class=\"displacy-label\" startOffset=\"50%\" side=\"left\" fill=\"currentColor\" text-anchor=\"middle\">pobj</textPath>\n",
       "    </text>\n",
       "    <path class=\"displacy-arrowhead\" d=\"M745.0,179.0 L753.0,167.0 737.0,167.0\" fill=\"currentColor\"/>\n",
       "</g>\n",
       "</svg></span>"
      ],
      "text/plain": [
       "<IPython.core.display.HTML object>"
      ]
     },
     "metadata": {},
     "output_type": "display_data"
    }
   ],
   "source": [
    "sent = \"Dole was defeated by Clinton\"\n",
    "doc = nlp(sent)\n",
    "displacy.render(doc,style=\"dep\", jupyter = True)"
   ]
  },
  {
   "cell_type": "markdown",
   "id": "42e5474e",
   "metadata": {
    "papermill": {
     "duration": 0.049907,
     "end_time": "2023-06-16T06:31:53.839376",
     "exception": false,
     "start_time": "2023-06-16T06:31:53.789469",
     "status": "completed"
    },
    "tags": []
   },
   "source": [
    "# **NER (Name- Entity- Recognisation)**"
   ]
  },
  {
   "attachments": {
    "b4e4cd2f-8a41-4edf-acf8-0debef99c7d0.png": {
     "image/png": "[encoded data removed]"
    }
   },
   "cell_type": "markdown",
   "id": "3f537587",
   "metadata": {
    "papermill": {
     "duration": 0.049822,
     "end_time": "2023-06-16T06:31:53.938888",
     "exception": false,
     "start_time": "2023-06-16T06:31:53.889066",
     "status": "completed"
    },
    "tags": []
   },
   "source": [
    "A search engine first tries to find the named entity used in the query, and then corresponding to that entity, it displays the appropriate searches to the user. Named entity recognition is one of the aspects of the search engine mechanism.\n",
    "![image.png](attachment:b4e4cd2f-8a41-4edf-acf8-0debef99c7d0.png)"
   ]
  },
  {
   "cell_type": "code",
   "execution_count": 90,
   "id": "027d95c6",
   "metadata": {
    "execution": {
     "iopub.execute_input": "2023-06-16T06:31:54.040764Z",
     "iopub.status.busy": "2023-06-16T06:31:54.040021Z",
     "iopub.status.idle": "2023-06-16T06:31:54.044557Z",
     "shell.execute_reply": "2023-06-16T06:31:54.043879Z"
    },
    "papermill": {
     "duration": 0.057609,
     "end_time": "2023-06-16T06:31:54.046541",
     "exception": false,
     "start_time": "2023-06-16T06:31:53.988932",
     "status": "completed"
    },
    "tags": []
   },
   "outputs": [],
   "source": [
    "import spacy\n",
    "import warnings\n",
    "warnings.filterwarnings('ignore')"
   ]
  },
  {
   "cell_type": "code",
   "execution_count": 91,
   "id": "3c923f1a",
   "metadata": {
    "execution": {
     "iopub.execute_input": "2023-06-16T06:31:54.149893Z",
     "iopub.status.busy": "2023-06-16T06:31:54.149381Z",
     "iopub.status.idle": "2023-06-16T06:31:54.941819Z",
     "shell.execute_reply": "2023-06-16T06:31:54.940675Z"
    },
    "papermill": {
     "duration": 0.846895,
     "end_time": "2023-06-16T06:31:54.944363",
     "exception": false,
     "start_time": "2023-06-16T06:31:54.097468",
     "status": "completed"
    },
    "tags": []
   },
   "outputs": [],
   "source": [
    "model = spacy.load(\"en_core_web_sm\") #load pre-trained model\n",
    "\n",
    "doc = \"Sumit is an adjunct faculty at Upgrad. \"\n",
    "\n",
    "processed_doc = model(doc); #process input and perform NLP tasks"
   ]
  },
  {
   "cell_type": "markdown",
   "id": "8071d4aa",
   "metadata": {
    "papermill": {
     "duration": 0.050196,
     "end_time": "2023-06-16T06:31:55.045273",
     "exception": false,
     "start_time": "2023-06-16T06:31:54.995077",
     "status": "completed"
    },
    "tags": []
   },
   "source": [
    "Since a named entity is a noun, let us see what information we get from using POS tags."
   ]
  },
  {
   "cell_type": "code",
   "execution_count": 92,
   "id": "0c169f20",
   "metadata": {
    "execution": {
     "iopub.execute_input": "2023-06-16T06:31:55.148287Z",
     "iopub.status.busy": "2023-06-16T06:31:55.147866Z",
     "iopub.status.idle": "2023-06-16T06:31:55.155632Z",
     "shell.execute_reply": "2023-06-16T06:31:55.154546Z"
    },
    "papermill": {
     "duration": 0.062354,
     "end_time": "2023-06-16T06:31:55.157849",
     "exception": false,
     "start_time": "2023-06-16T06:31:55.095495",
     "status": "completed"
    },
    "tags": []
   },
   "outputs": [
    {
     "data": {
      "text/plain": [
       "(Upgrad,)"
      ]
     },
     "execution_count": 92,
     "metadata": {},
     "output_type": "execute_result"
    }
   ],
   "source": [
    "processed_doc.ents"
   ]
  },
  {
   "cell_type": "code",
   "execution_count": 93,
   "id": "85a2df6e",
   "metadata": {
    "execution": {
     "iopub.execute_input": "2023-06-16T06:31:55.263517Z",
     "iopub.status.busy": "2023-06-16T06:31:55.263167Z",
     "iopub.status.idle": "2023-06-16T06:31:55.267777Z",
     "shell.execute_reply": "2023-06-16T06:31:55.266949Z"
    },
    "papermill": {
     "duration": 0.059308,
     "end_time": "2023-06-16T06:31:55.269845",
     "exception": false,
     "start_time": "2023-06-16T06:31:55.210537",
     "status": "completed"
    },
    "tags": []
   },
   "outputs": [
    {
     "name": "stdout",
     "output_type": "stream",
     "text": [
      "Sumit -- NOUN\n",
      "is -- AUX\n",
      "an -- DET\n",
      "adjunct -- ADJ\n",
      "faculty -- NOUN\n",
      "at -- ADP\n",
      "Upgrad -- PROPN\n",
      ". -- PUNCT\n"
     ]
    }
   ],
   "source": [
    "for token in processed_doc:\n",
    "    \n",
    "    print(token.text, '--', token.pos_)"
   ]
  },
  {
   "cell_type": "markdown",
   "id": "25f01938",
   "metadata": {
    "papermill": {
     "duration": 0.050476,
     "end_time": "2023-06-16T06:31:55.371329",
     "exception": false,
     "start_time": "2023-06-16T06:31:55.320853",
     "status": "completed"
    },
    "tags": []
   },
   "source": [
    "So we see that the POS tags for named entities are correctly identified. Let us see what the output of NER system in spacy is to understand the differences."
   ]
  },
  {
   "cell_type": "code",
   "execution_count": 94,
   "id": "d446e9fb",
   "metadata": {
    "execution": {
     "iopub.execute_input": "2023-06-16T06:31:55.474414Z",
     "iopub.status.busy": "2023-06-16T06:31:55.473341Z",
     "iopub.status.idle": "2023-06-16T06:31:55.478996Z",
     "shell.execute_reply": "2023-06-16T06:31:55.477831Z"
    },
    "papermill": {
     "duration": 0.05897,
     "end_time": "2023-06-16T06:31:55.480777",
     "exception": false,
     "start_time": "2023-06-16T06:31:55.421807",
     "status": "completed"
    },
    "tags": []
   },
   "outputs": [
    {
     "name": "stdout",
     "output_type": "stream",
     "text": [
      "Upgrad  --  31  --  37  --  ORG\n"
     ]
    }
   ],
   "source": [
    "for ent in processed_doc.ents:\n",
    "  print(ent.text, \" -- \", ent.start_char, \" -- \", ent.end_char, \" -- \", ent.label_)"
   ]
  },
  {
   "cell_type": "markdown",
   "id": "0a28279d",
   "metadata": {
    "papermill": {
     "duration": 0.049527,
     "end_time": "2023-06-16T06:31:55.580790",
     "exception": false,
     "start_time": "2023-06-16T06:31:55.531263",
     "status": "completed"
    },
    "tags": []
   },
   "source": [
    "Okay, so we did find some named entities, but clearly we missed the faculty name.\n",
    "\n",
    "Let us build upon that example."
   ]
  },
  {
   "cell_type": "code",
   "execution_count": 95,
   "id": "dedcc217",
   "metadata": {
    "execution": {
     "iopub.execute_input": "2023-06-16T06:31:55.682710Z",
     "iopub.status.busy": "2023-06-16T06:31:55.682020Z",
     "iopub.status.idle": "2023-06-16T06:31:55.693243Z",
     "shell.execute_reply": "2023-06-16T06:31:55.692462Z"
    },
    "papermill": {
     "duration": 0.063823,
     "end_time": "2023-06-16T06:31:55.695101",
     "exception": false,
     "start_time": "2023-06-16T06:31:55.631278",
     "status": "completed"
    },
    "tags": []
   },
   "outputs": [],
   "source": [
    "doc2 = \"Dr. Sumit is an adjunct faculty at UpGrad\"\n",
    "processed_doc2 = model(doc2)"
   ]
  },
  {
   "cell_type": "code",
   "execution_count": 96,
   "id": "1e4b6f36",
   "metadata": {
    "execution": {
     "iopub.execute_input": "2023-06-16T06:31:55.799676Z",
     "iopub.status.busy": "2023-06-16T06:31:55.799039Z",
     "iopub.status.idle": "2023-06-16T06:31:55.804474Z",
     "shell.execute_reply": "2023-06-16T06:31:55.803678Z"
    },
    "papermill": {
     "duration": 0.059342,
     "end_time": "2023-06-16T06:31:55.806594",
     "exception": false,
     "start_time": "2023-06-16T06:31:55.747252",
     "status": "completed"
    },
    "tags": []
   },
   "outputs": [
    {
     "data": {
      "text/plain": [
       "(Sumit, UpGrad)"
      ]
     },
     "execution_count": 96,
     "metadata": {},
     "output_type": "execute_result"
    }
   ],
   "source": [
    "processed_doc2.ents"
   ]
  },
  {
   "cell_type": "code",
   "execution_count": 97,
   "id": "7aae2b86",
   "metadata": {
    "execution": {
     "iopub.execute_input": "2023-06-16T06:31:55.908967Z",
     "iopub.status.busy": "2023-06-16T06:31:55.908582Z",
     "iopub.status.idle": "2023-06-16T06:31:55.913268Z",
     "shell.execute_reply": "2023-06-16T06:31:55.912379Z"
    },
    "papermill": {
     "duration": 0.059039,
     "end_time": "2023-06-16T06:31:55.916160",
     "exception": false,
     "start_time": "2023-06-16T06:31:55.857121",
     "status": "completed"
    },
    "tags": []
   },
   "outputs": [
    {
     "name": "stdout",
     "output_type": "stream",
     "text": [
      "Dr.  --  PROPN\n",
      "Sumit  --  PROPN\n",
      "is  --  AUX\n",
      "an  --  DET\n",
      "adjunct  --  ADJ\n",
      "faculty  --  NOUN\n",
      "at  --  ADP\n",
      "UpGrad  --  PROPN\n"
     ]
    }
   ],
   "source": [
    "for token in processed_doc2:\n",
    "  print(token.text, \" -- \", token.pos_)"
   ]
  },
  {
   "cell_type": "code",
   "execution_count": 98,
   "id": "30ed86ee",
   "metadata": {
    "execution": {
     "iopub.execute_input": "2023-06-16T06:31:56.018326Z",
     "iopub.status.busy": "2023-06-16T06:31:56.017973Z",
     "iopub.status.idle": "2023-06-16T06:31:56.023335Z",
     "shell.execute_reply": "2023-06-16T06:31:56.022434Z"
    },
    "papermill": {
     "duration": 0.058975,
     "end_time": "2023-06-16T06:31:56.025546",
     "exception": false,
     "start_time": "2023-06-16T06:31:55.966571",
     "status": "completed"
    },
    "tags": []
   },
   "outputs": [
    {
     "name": "stdout",
     "output_type": "stream",
     "text": [
      "Sumit -- 4 -- 9 -- PERSON\n",
      "UpGrad -- 35 -- 41 -- ORG\n"
     ]
    }
   ],
   "source": [
    "for entity in processed_doc2.ents:\n",
    "    print(entity.text,'--', entity.start_char, '--', entity.end_char,'--', entity.label_)"
   ]
  },
  {
   "cell_type": "markdown",
   "id": "c1ec3342",
   "metadata": {
    "papermill": {
     "duration": 0.049889,
     "end_time": "2023-06-16T06:31:56.125828",
     "exception": false,
     "start_time": "2023-06-16T06:31:56.075939",
     "status": "completed"
    },
    "tags": []
   },
   "source": [
    "Now the NER system was able to correctly identify the faculty name from the input sentence."
   ]
  },
  {
   "cell_type": "code",
   "execution_count": 99,
   "id": "62942ab5",
   "metadata": {
    "execution": {
     "iopub.execute_input": "2023-06-16T06:31:56.229968Z",
     "iopub.status.busy": "2023-06-16T06:31:56.229354Z",
     "iopub.status.idle": "2023-06-16T06:31:56.242256Z",
     "shell.execute_reply": "2023-06-16T06:31:56.241141Z"
    },
    "papermill": {
     "duration": 0.067888,
     "end_time": "2023-06-16T06:31:56.244819",
     "exception": false,
     "start_time": "2023-06-16T06:31:56.176931",
     "status": "completed"
    },
    "tags": []
   },
   "outputs": [],
   "source": [
    "doc3 = \"Statue of Liberty is situated in New York, USA.\"\n",
    "processed_doc3 = model(doc3)"
   ]
  },
  {
   "cell_type": "code",
   "execution_count": 100,
   "id": "b2ceb4cf",
   "metadata": {
    "execution": {
     "iopub.execute_input": "2023-06-16T06:31:56.349495Z",
     "iopub.status.busy": "2023-06-16T06:31:56.348793Z",
     "iopub.status.idle": "2023-06-16T06:31:56.353750Z",
     "shell.execute_reply": "2023-06-16T06:31:56.352991Z"
    },
    "papermill": {
     "duration": 0.059072,
     "end_time": "2023-06-16T06:31:56.356228",
     "exception": false,
     "start_time": "2023-06-16T06:31:56.297156",
     "status": "completed"
    },
    "tags": []
   },
   "outputs": [
    {
     "name": "stdout",
     "output_type": "stream",
     "text": [
      "Statue -- PROPN\n",
      "of -- ADP\n",
      "Liberty -- PROPN\n",
      "is -- AUX\n",
      "situated -- VERB\n",
      "in -- ADP\n",
      "New -- PROPN\n",
      "York -- PROPN\n",
      ", -- PUNCT\n",
      "USA -- PROPN\n",
      ". -- PUNCT\n"
     ]
    }
   ],
   "source": [
    "for tok in processed_doc3:\n",
    "    print(tok.text, '--', tok.pos_)"
   ]
  },
  {
   "cell_type": "markdown",
   "id": "9da1b8b5",
   "metadata": {
    "papermill": {
     "duration": 0.050173,
     "end_time": "2023-06-16T06:31:56.458173",
     "exception": false,
     "start_time": "2023-06-16T06:31:56.408000",
     "status": "completed"
    },
    "tags": []
   },
   "source": [
    "**Note**\n",
    "\n",
    "In this example, that using a sequence of POS tags is not always sufficient. There are numerous variations in real life that are not always possible to anticipate beforehand and train your models or create rules accordingly."
   ]
  },
  {
   "cell_type": "code",
   "execution_count": 101,
   "id": "8dd890e0",
   "metadata": {
    "execution": {
     "iopub.execute_input": "2023-06-16T06:31:56.561934Z",
     "iopub.status.busy": "2023-06-16T06:31:56.561526Z",
     "iopub.status.idle": "2023-06-16T06:31:56.566866Z",
     "shell.execute_reply": "2023-06-16T06:31:56.565844Z"
    },
    "papermill": {
     "duration": 0.060422,
     "end_time": "2023-06-16T06:31:56.569297",
     "exception": false,
     "start_time": "2023-06-16T06:31:56.508875",
     "status": "completed"
    },
    "tags": []
   },
   "outputs": [
    {
     "name": "stdout",
     "output_type": "stream",
     "text": [
      "New York -- 33 -- 41 -- GPE\n",
      "USA -- 43 -- 46 -- GPE\n"
     ]
    }
   ],
   "source": [
    "for entity in processed_doc3.ents:\n",
    "    print(entity.text,'--', entity.start_char, '--', entity.end_char,'--', entity.label_)"
   ]
  },
  {
   "cell_type": "markdown",
   "id": "724fcb90",
   "metadata": {
    "papermill": {
     "duration": 0.050161,
     "end_time": "2023-06-16T06:31:56.670297",
     "exception": false,
     "start_time": "2023-06-16T06:31:56.620136",
     "status": "completed"
    },
    "tags": []
   },
   "source": [
    "Finally, let us see the output of NER at token level illustrating the IOB format discussed in lectures."
   ]
  },
  {
   "cell_type": "code",
   "execution_count": 102,
   "id": "439573f7",
   "metadata": {
    "execution": {
     "iopub.execute_input": "2023-06-16T06:31:56.774639Z",
     "iopub.status.busy": "2023-06-16T06:31:56.773951Z",
     "iopub.status.idle": "2023-06-16T06:31:56.780810Z",
     "shell.execute_reply": "2023-06-16T06:31:56.779379Z"
    },
    "papermill": {
     "duration": 0.061697,
     "end_time": "2023-06-16T06:31:56.782651",
     "exception": false,
     "start_time": "2023-06-16T06:31:56.720954",
     "status": "completed"
    },
    "tags": []
   },
   "outputs": [
    {
     "name": "stdout",
     "output_type": "stream",
     "text": [
      "Statue  --  O  --  \n",
      "of  --  O  --  \n",
      "Liberty  --  O  --  \n",
      "is  --  O  --  \n",
      "situated  --  O  --  \n",
      "in  --  O  --  \n",
      "New  --  B  --  GPE\n",
      "York  --  I  --  GPE\n",
      ",  --  O  --  \n",
      "USA  --  B  --  GPE\n",
      ".  --  O  --  \n"
     ]
    }
   ],
   "source": [
    "for token in processed_doc3:\n",
    "  print(token.text, \" -- \", token.ent_iob_, \" -- \", token.ent_type_)"
   ]
  },
  {
   "cell_type": "markdown",
   "id": "2b53ecca",
   "metadata": {
    "papermill": {
     "duration": 0.049978,
     "end_time": "2023-06-16T06:31:56.883017",
     "exception": false,
     "start_time": "2023-06-16T06:31:56.833039",
     "status": "completed"
    },
    "tags": []
   },
   "source": [
    "* You can use spacy's NER model to identify named entities in input text.\n",
    "* You also studied some cases where the model is not able to correctly identify all the entities invovled.\n",
    "* There are various situations where systems make errors and depending on the appliation and the severity and types of errors, follow up corrective measures can be employed (manual validation, discarding erroneous outouts, using heuristics, etc.)\n",
    "\n",
    "Let us now consider one practical application of NER systems -- Anonymization of data and redacting personally indentifying information.\n",
    "\n",
    "In many scenarios, we want to withheld sensitive information such as names of persons in various confidential information.\n",
    "We can use NER methods to automatically identify PERSONS in text and remove PERSON names from text.\n",
    "Let us see how it can be done with what we have learnt till now. We take an example email from Enron e-mail dataset for ilustration in this demo.\n",
    "\n",
    "E-mail source:\n",
    "http://www.enron-mail.com/email/lay-k/elizabeth/Christmas_in_Aspen_4.html\n",
    "\n",
    "Complete Enron data:\n",
    "http://www.enron-mail.com/"
   ]
  },
  {
   "cell_type": "code",
   "execution_count": 103,
   "id": "49e44092",
   "metadata": {
    "execution": {
     "iopub.execute_input": "2023-06-16T06:31:56.986783Z",
     "iopub.status.busy": "2023-06-16T06:31:56.985807Z",
     "iopub.status.idle": "2023-06-16T06:31:56.991289Z",
     "shell.execute_reply": "2023-06-16T06:31:56.990552Z"
    },
    "papermill": {
     "duration": 0.059409,
     "end_time": "2023-06-16T06:31:56.993324",
     "exception": false,
     "start_time": "2023-06-16T06:31:56.933915",
     "status": "completed"
    },
    "tags": []
   },
   "outputs": [],
   "source": [
    "email = ('Dear Family, Jose Luis and I have changed our dates, we are '\n",
    "         'going to come to Aspen on the 23rd of December and leave on the '\n",
    "         '30th of December. We would like to stay in the front bedroom of '\n",
    "         'the Aspen Cottage so that Mark, Natalie and Zachary can stay in '\n",
    "         'the guest cottage. Please let me know if there are any problems '\n",
    "         'with this. If I do not hear anything, I will assume this is all '\n",
    "         'o.k. with you.'\n",
    "         'Love, Liz')"
   ]
  },
  {
   "cell_type": "code",
   "execution_count": 104,
   "id": "caf5e9bd",
   "metadata": {
    "execution": {
     "iopub.execute_input": "2023-06-16T06:31:57.097909Z",
     "iopub.status.busy": "2023-06-16T06:31:57.097115Z",
     "iopub.status.idle": "2023-06-16T06:31:57.125745Z",
     "shell.execute_reply": "2023-06-16T06:31:57.124688Z"
    },
    "papermill": {
     "duration": 0.083779,
     "end_time": "2023-06-16T06:31:57.128011",
     "exception": false,
     "start_time": "2023-06-16T06:31:57.044232",
     "status": "completed"
    },
    "tags": []
   },
   "outputs": [],
   "source": [
    "processed_email = model(email) # Apply spacy's model to process the email"
   ]
  },
  {
   "cell_type": "code",
   "execution_count": 105,
   "id": "1e752ec4",
   "metadata": {
    "execution": {
     "iopub.execute_input": "2023-06-16T06:31:57.232193Z",
     "iopub.status.busy": "2023-06-16T06:31:57.231429Z",
     "iopub.status.idle": "2023-06-16T06:31:57.239191Z",
     "shell.execute_reply": "2023-06-16T06:31:57.238407Z"
    },
    "papermill": {
     "duration": 0.061941,
     "end_time": "2023-06-16T06:31:57.241095",
     "exception": false,
     "start_time": "2023-06-16T06:31:57.179154",
     "status": "completed"
    },
    "tags": []
   },
   "outputs": [
    {
     "name": "stdout",
     "output_type": "stream",
     "text": [
      "\n",
      "\n",
      "-- After Anonymization--\n",
      "\n"
     ]
    },
    {
     "data": {
      "text/plain": [
       "'Dear Family, ********* and I have changed our dates, we are going to come to Aspen on the 23rd of December and leave on the 30th of December. We would like to stay in the front bedroom of the Aspen Cottage so that ****, ******* and ******* can stay in the guest cottage. Please let me know if there are any problems with this. If I do not hear anything, I will assume this is all o.k. with you.Love, ***'"
      ]
     },
     "execution_count": 105,
     "metadata": {},
     "output_type": "execute_result"
    }
   ],
   "source": [
    "\n",
    "anonymized_email = list(email) # intialize data structure to store anonymized email\n",
    "\n",
    "for ent in processed_email.ents:\n",
    "  if(ent.label_ == 'PERSON'): # if the word corresponds to a PERSON entity\n",
    "    for char_pos in range(ent.start_char, ent.end_char): # use character positions\n",
    "      anonymized_email[char_pos] = '*'\n",
    "\n",
    "print(\"\\n\\n-- After Anonymization--\\n\")\n",
    "\"\".join(anonymized_email)"
   ]
  },
  {
   "cell_type": "markdown",
   "id": "5a1e7e96",
   "metadata": {
    "papermill": {
     "duration": 0.050267,
     "end_time": "2023-06-16T06:31:57.342842",
     "exception": false,
     "start_time": "2023-06-16T06:31:57.292575",
     "status": "completed"
    },
    "tags": []
   },
   "source": [
    "**Question:**\n",
    "\n",
    "Suppose you are given the following message, and you want to hide the dates mentioned in this message. In order to hide the dates, you replace them with the ‘#’ symbol whenever a date appears.\n",
    "\n",
    "Message: \n",
    "\n",
    "‘Dear Family,\n",
    "Jose Luis and I have changed our dates, we are going to come to Aspen on the 23rd of December and leave onthe 30th of December. We would like to stay in the front bedroom of the Aspen Cottage so that Mark Natalie and Zachary can stay in the guest cottage.\n",
    "Please let me know if there are any problems with this. If I do not hear anything, I will assume this is all o.k. with you.\n",
    "Love,\n",
    "Liz ’"
   ]
  },
  {
   "cell_type": "code",
   "execution_count": 106,
   "id": "0981155e",
   "metadata": {
    "execution": {
     "iopub.execute_input": "2023-06-16T06:31:57.447394Z",
     "iopub.status.busy": "2023-06-16T06:31:57.446697Z",
     "iopub.status.idle": "2023-06-16T06:31:57.470211Z",
     "shell.execute_reply": "2023-06-16T06:31:57.469018Z"
    },
    "papermill": {
     "duration": 0.078536,
     "end_time": "2023-06-16T06:31:57.472837",
     "exception": false,
     "start_time": "2023-06-16T06:31:57.394301",
     "status": "completed"
    },
    "tags": []
   },
   "outputs": [],
   "source": [
    "message = ('Dear Family, Jose Luis and I have changed our dates,' \n",
    "           'we are going to come to Aspen on the 23rd of December and'\n",
    "           'leave onthe 30th of December. We would like to stay in the front bedroom'\n",
    "           'of the Aspen Cottage so that Mark Natalie and Zachary can stay in the guest cottage.'\n",
    "           'Please let me know if there are any problems with this. If I do not hear anything,'\n",
    "           'I will assume this is all o.k. with you. Love, Liz ')\n",
    "\n",
    "processed_msg = model(message)"
   ]
  },
  {
   "cell_type": "code",
   "execution_count": 107,
   "id": "535cf41d",
   "metadata": {
    "execution": {
     "iopub.execute_input": "2023-06-16T06:31:57.580505Z",
     "iopub.status.busy": "2023-06-16T06:31:57.580090Z",
     "iopub.status.idle": "2023-06-16T06:31:57.584660Z",
     "shell.execute_reply": "2023-06-16T06:31:57.583656Z"
    },
    "papermill": {
     "duration": 0.061657,
     "end_time": "2023-06-16T06:31:57.586824",
     "exception": false,
     "start_time": "2023-06-16T06:31:57.525167",
     "status": "completed"
    },
    "tags": []
   },
   "outputs": [],
   "source": [
    "anonymized_msg = list(processed_msg)"
   ]
  },
  {
   "cell_type": "code",
   "execution_count": 108,
   "id": "81464f1c",
   "metadata": {
    "execution": {
     "iopub.execute_input": "2023-06-16T06:31:57.703019Z",
     "iopub.status.busy": "2023-06-16T06:31:57.702179Z",
     "iopub.status.idle": "2023-06-16T06:31:57.706938Z",
     "shell.execute_reply": "2023-06-16T06:31:57.706150Z"
    },
    "papermill": {
     "duration": 0.067371,
     "end_time": "2023-06-16T06:31:57.708970",
     "exception": false,
     "start_time": "2023-06-16T06:31:57.641599",
     "status": "completed"
    },
    "tags": []
   },
   "outputs": [],
   "source": [
    "# for ent in processed_email.ents:\n",
    "#     if(ent.label_ == 'DATE'): \n",
    "#         for char_pos in range(ent.start_char, ent.end_char): # use character positions\n",
    "#             anonymized_msg[char_pos] = '#'"
   ]
  },
  {
   "cell_type": "markdown",
   "id": "88b97ddb",
   "metadata": {
    "papermill": {
     "duration": 0.050261,
     "end_time": "2023-06-16T06:31:57.815161",
     "exception": false,
     "start_time": "2023-06-16T06:31:57.764900",
     "status": "completed"
    },
    "tags": []
   },
   "source": [
    "**Question:**\n",
    "\n",
    "Considering we are using the Spacy library, which of the following code snippets would identify the entities in the given sentence?\n",
    "\n",
    "‘Mr. Kenneth L. Lay, Chairman and CEO of Enron Corp. will not be able to\n",
    "attend the November 16 - 17, 2000 6th Olympiad of the Mind.’"
   ]
  },
  {
   "cell_type": "code",
   "execution_count": 109,
   "id": "e713a6c7",
   "metadata": {
    "execution": {
     "iopub.execute_input": "2023-06-16T06:31:57.919265Z",
     "iopub.status.busy": "2023-06-16T06:31:57.918514Z",
     "iopub.status.idle": "2023-06-16T06:31:58.714225Z",
     "shell.execute_reply": "2023-06-16T06:31:58.712987Z"
    },
    "papermill": {
     "duration": 0.850638,
     "end_time": "2023-06-16T06:31:58.716609",
     "exception": false,
     "start_time": "2023-06-16T06:31:57.865971",
     "status": "completed"
    },
    "tags": []
   },
   "outputs": [
    {
     "name": "stdout",
     "output_type": "stream",
     "text": [
      "Kenneth L. Lay  --  4  --  18  --  PERSON\n",
      "Enron Corp.  --  40  --  51  --  ORG\n",
      "November 16  --  79  --  90  --  DATE\n"
     ]
    }
   ],
   "source": [
    "model = spacy.load('en_core_web_sm')\n",
    "doc3 = \"Mr. Kenneth L. Lay, Chairman and CEO of Enron Corp. will not be able to attend November 16,\"\n",
    "processed_doc3 = model(doc3)\n",
    "for ent in processed_doc3.ents:\n",
    "  print(ent.text, \" -- \", ent.start_char, \" -- \", ent.end_char, \" -- \", ent.label_)"
   ]
  },
  {
   "cell_type": "markdown",
   "id": "55ec966a",
   "metadata": {
    "papermill": {
     "duration": 0.050535,
     "end_time": "2023-06-16T06:31:58.818863",
     "exception": false,
     "start_time": "2023-06-16T06:31:58.768328",
     "status": "completed"
    },
    "tags": []
   },
   "source": [
    "**Question:**\n",
    "\n",
    "What will be the NER tag of the word ‘Jaguar’ in the following two sentences, given that you are using Spacy? (Note: More than one option may be correct.)\n",
    "\n",
    "S1: ‘I drove away in my Jaguar.’<br>\n",
    "S2: ‘The deer ran away seeing the Jaguar.’\n",
    " "
   ]
  },
  {
   "cell_type": "code",
   "execution_count": 110,
   "id": "a2529d51",
   "metadata": {
    "execution": {
     "iopub.execute_input": "2023-06-16T06:31:58.921854Z",
     "iopub.status.busy": "2023-06-16T06:31:58.921464Z",
     "iopub.status.idle": "2023-06-16T06:31:59.724293Z",
     "shell.execute_reply": "2023-06-16T06:31:59.723103Z"
    },
    "papermill": {
     "duration": 0.857088,
     "end_time": "2023-06-16T06:31:59.726464",
     "exception": false,
     "start_time": "2023-06-16T06:31:58.869376",
     "status": "completed"
    },
    "tags": []
   },
   "outputs": [
    {
     "name": "stdout",
     "output_type": "stream",
     "text": [
      "Jaguar  --  19  --  25  --  ORG\n"
     ]
    }
   ],
   "source": [
    "model = spacy.load(\"en_core_web_sm\") #load pre-trained model\n",
    "doc = \"I drove away in my Jaguar.\"\n",
    "processed_doc = model(doc) #process input and perform NLP tasks\n",
    "\n",
    "for ent in processed_doc.ents:\n",
    "  print(ent.text, \" -- \", ent.start_char, \" -- \", ent.end_char, \" -- \", ent.label_)"
   ]
  },
  {
   "cell_type": "code",
   "execution_count": 111,
   "id": "e0c7a4ac",
   "metadata": {
    "execution": {
     "iopub.execute_input": "2023-06-16T06:31:59.831639Z",
     "iopub.status.busy": "2023-06-16T06:31:59.831213Z",
     "iopub.status.idle": "2023-06-16T06:32:00.626317Z",
     "shell.execute_reply": "2023-06-16T06:32:00.625164Z"
    },
    "papermill": {
     "duration": 0.849508,
     "end_time": "2023-06-16T06:32:00.628677",
     "exception": false,
     "start_time": "2023-06-16T06:31:59.779169",
     "status": "completed"
    },
    "tags": []
   },
   "outputs": [
    {
     "name": "stdout",
     "output_type": "stream",
     "text": [
      "Jaguar  --  29  --  35  --  ORG\n"
     ]
    }
   ],
   "source": [
    "model = spacy.load(\"en_core_web_sm\") #load pre-trained model\n",
    "doc = \"The deer ran away seeing the Jaguar.\"\n",
    "processed_doc = model(doc) #process input and perform NLP tasks\n",
    "\n",
    "for ent in processed_doc.ents:\n",
    "  print(ent.text, \" -- \", ent.start_char, \" -- \", ent.end_char, \" -- \", ent.label_)"
   ]
  },
  {
   "cell_type": "markdown",
   "id": "13d70a76",
   "metadata": {
    "papermill": {
     "duration": 0.050187,
     "end_time": "2023-06-16T06:32:00.729495",
     "exception": false,
     "start_time": "2023-06-16T06:32:00.679308",
     "status": "completed"
    },
    "tags": []
   },
   "source": [
    "# **CRF(Conditional Random Field)**"
   ]
  },
  {
   "cell_type": "markdown",
   "id": "c6fb90b6",
   "metadata": {
    "papermill": {
     "duration": 0.050002,
     "end_time": "2023-06-16T06:32:00.831352",
     "exception": false,
     "start_time": "2023-06-16T06:32:00.781350",
     "status": "completed"
    },
    "tags": []
   },
   "source": [
    "The Conditional Random Field (CRF) can be used as a sequence labelling technique for performing NER tagging. CRF is used to perform custom NER.\n",
    "\n",
    " \n",
    "\n",
    "Conditional Random Fields are the class of probabilistic models. There are two terms in the CRF nomenclature that you need to keep in mind, which are as follows:\n",
    "\n",
    "* **Random fields:** These indicate that the CRF is probability a distribution-based machine learning model.\n",
    "* **Conditional:** This indicates that the probabilities are conditional probabilities.\n",
    "\n",
    "The model building activity is to have some features to feed into the model. To get some features for this data set, it is necessary to define the feature functions for this data set.\n",
    "\n",
    "So, we defined three feature functions for this example, which are as follows:\n",
    "\n",
    "\n",
    "* **f1 (X, xi, xi-1, i) = 1 if xi= Xx+; otherwise, 0 (Words starting with an uppercase letter)**\n",
    "* **f2 (X, xi, xi-1, i) = 1 if xi= Noun and xi-1 is Noun; otherwise, 0 (Continuous entity)**\n",
    "* **f3 (X, xi, xi-1, i) = 1 if xi = Inc and xi-1 = B-Org; otherwise, 0 (Company names often end with Inc.)**\n",
    "\n",
    "1. The f1 feature indicates that if a particular word in the given sentence starts with an uppercase letter, then assign 1 as the value of f1; otherwise, assign 0 as the value of f1 to this word. \n",
    "2. The f2 feature indicates that if a particular word in the given sentence has a PoS tag of noun and the word before it also has a PoS tag of noun, then assign 1 as the value of f2 as to this word; otherwise, assign 0 as the value of f2 to this word.\n",
    "3. The f3 feature indicates that if a particular word in the given sentence is ‘Inc’ and the word before it has the NER tag of B-ORG, then assign 1 the value of f3 to this word; otherwise, assign 0 as the value of f3 to this word.\n",
    "\n",
    "\n",
    "**So, the model considers all the possible combinations of IOB tags of the given training example and calculates the scores of each combination using the weights corresponding to each feature function. The model starts the computation by taking any random initial weights for each feature function and iteratively modifies the weights until it reaches a stage where the score of the correct IOB tag sequence is the highest.**"
   ]
  },
  {
   "cell_type": "markdown",
   "id": "0ee00583",
   "metadata": {
    "papermill": {
     "duration": 0.050666,
     "end_time": "2023-06-16T06:32:00.932328",
     "exception": false,
     "start_time": "2023-06-16T06:32:00.881662",
     "status": "completed"
    },
    "tags": []
   },
   "source": [
    "For this demo, we will use the MIT Restaurant Corpus -- a dataset of transcriptions of spoken utterances about restaurants.\n",
    "\n",
    "The dataset has following entity types:\n",
    "\n",
    "'B-Rating'\n",
    "\n",
    "'I-Rating',\n",
    "\n",
    "'B-Amenity',\n",
    "\n",
    "'I-Amenity',\n",
    "\n",
    "'B-Location',\n",
    "\n",
    "'I-Location',\n",
    "\n",
    "'B-Restaurant_Name',\n",
    "\n",
    "'I-Restaurant_Name',\n",
    "\n",
    "'B-Price',\n",
    "\n",
    "'B-Hours',\n",
    "\n",
    "'I-Hours',\n",
    "\n",
    "'B-Dish',\n",
    "\n",
    "'I-Dish',\n",
    "\n",
    "'B-Cuisine',\n",
    "\n",
    "'I-Price',\n",
    "\n",
    "'I-Cuisine'\n",
    "\n",
    "Let us load the dataset and see what are we working with."
   ]
  },
  {
   "cell_type": "code",
   "execution_count": 112,
   "id": "82f1f6d0",
   "metadata": {
    "execution": {
     "iopub.execute_input": "2023-06-16T06:32:01.034474Z",
     "iopub.status.busy": "2023-06-16T06:32:01.034069Z",
     "iopub.status.idle": "2023-06-16T06:32:01.084089Z",
     "shell.execute_reply": "2023-06-16T06:32:01.083010Z"
    },
    "papermill": {
     "duration": 0.104118,
     "end_time": "2023-06-16T06:32:01.086749",
     "exception": false,
     "start_time": "2023-06-16T06:32:00.982631",
     "status": "completed"
    },
    "tags": []
   },
   "outputs": [],
   "source": [
    "with open('/kaggle/input/restaurant-dataset/sent_train.txt', 'r') as train_sent_files:\n",
    "    \n",
    "    train_sent = train_sent_files.readlines()\n",
    "    \n",
    "with open('/kaggle/input/restaurant-dataset/label_train.txt', 'r') as train_label_files:\n",
    "    \n",
    "    train_label = train_label_files.readlines()\n",
    "    \n",
    "with open('/kaggle/input/restaurant-dataset/sent_test.txt', 'r') as test_sent_files:\n",
    "    \n",
    "    test_sent = test_sent_files.readlines()\n",
    "\n",
    "with open('/kaggle/input/restaurant-dataset/label_test.txt', 'r') as test_label_files:\n",
    "    \n",
    "    test_label = test_label_files.readlines()"
   ]
  },
  {
   "cell_type": "markdown",
   "id": "a4385f33",
   "metadata": {
    "papermill": {
     "duration": 0.05084,
     "end_time": "2023-06-16T06:32:01.189207",
     "exception": false,
     "start_time": "2023-06-16T06:32:01.138367",
     "status": "completed"
    },
    "tags": []
   },
   "source": [
    "Let us see some example data points."
   ]
  },
  {
   "cell_type": "code",
   "execution_count": 113,
   "id": "37f99bfb",
   "metadata": {
    "execution": {
     "iopub.execute_input": "2023-06-16T06:32:01.292899Z",
     "iopub.status.busy": "2023-06-16T06:32:01.292407Z",
     "iopub.status.idle": "2023-06-16T06:32:01.297380Z",
     "shell.execute_reply": "2023-06-16T06:32:01.296412Z"
    },
    "papermill": {
     "duration": 0.059623,
     "end_time": "2023-06-16T06:32:01.299802",
     "exception": false,
     "start_time": "2023-06-16T06:32:01.240179",
     "status": "completed"
    },
    "tags": []
   },
   "outputs": [
    {
     "name": "stdout",
     "output_type": "stream",
     "text": [
      "a place that serves soft serve ice cream \n",
      "\n",
      "O O O O B-Dish I-Dish I-Dish I-Dish \n",
      "\n"
     ]
    }
   ],
   "source": [
    "print(train_sent[5])\n",
    "\n",
    "print(train_label[5])"
   ]
  },
  {
   "cell_type": "markdown",
   "id": "bf3c71ec",
   "metadata": {
    "papermill": {
     "duration": 0.051177,
     "end_time": "2023-06-16T06:32:01.401661",
     "exception": false,
     "start_time": "2023-06-16T06:32:01.350484",
     "status": "completed"
    },
    "tags": []
   },
   "source": [
    "## Defining Features for Custom NER"
   ]
  },
  {
   "cell_type": "code",
   "execution_count": 114,
   "id": "f1badb92",
   "metadata": {
    "execution": {
     "iopub.execute_input": "2023-06-16T06:32:01.504998Z",
     "iopub.status.busy": "2023-06-16T06:32:01.504598Z",
     "iopub.status.idle": "2023-06-16T06:32:17.720596Z",
     "shell.execute_reply": "2023-06-16T06:32:17.719147Z"
    },
    "papermill": {
     "duration": 16.2712,
     "end_time": "2023-06-16T06:32:17.723495",
     "exception": false,
     "start_time": "2023-06-16T06:32:01.452295",
     "status": "completed"
    },
    "tags": []
   },
   "outputs": [
    {
     "name": "stdout",
     "output_type": "stream",
     "text": [
      "Collecting pycrf\r\n",
      "  Downloading pycrf-0.0.1.tar.gz (1.1 kB)\r\n",
      "  Preparing metadata (setup.py) ... \u001b[?25l-\b \b\\\b \bdone\r\n",
      "\u001b[?25hBuilding wheels for collected packages: pycrf\r\n",
      "  Building wheel for pycrf (setup.py) ... \u001b[?25l-\b \b\\\b \bdone\r\n",
      "\u001b[?25h  Created wheel for pycrf: filename=pycrf-0.0.1-py3-none-any.whl size=1896 sha256=8163f24c67f513b99ac65154f6c15b89464728256afcb4627288620e7ec3f135\r\n",
      "  Stored in directory: /root/.cache/pip/wheels/fd/3a/fb/e4d15c9c2b169f43811b23a863ee9717ff3eda5d2301789043\r\n",
      "Successfully built pycrf\r\n",
      "Installing collected packages: pycrf\r\n",
      "Successfully installed pycrf-0.0.1\r\n",
      "\u001b[33mWARNING: Running pip as the 'root' user can result in broken permissions and conflicting behaviour with the system package manager. It is recommended to use a virtual environment instead: https://pip.pypa.io/warnings/venv\u001b[0m\u001b[33m\r\n",
      "\u001b[0m\u001b[31mERROR: Could not find a version that satisfies the requirement sklearn-crfsuit (from versions: none)\u001b[0m\u001b[31m\r\n",
      "\u001b[0m\u001b[31mERROR: No matching distribution found for sklearn-crfsuit\u001b[0m\u001b[31m\r\n",
      "\u001b[0m"
     ]
    }
   ],
   "source": [
    "!pip install pycrf\n",
    "!pip install sklearn-crfsuit"
   ]
  },
  {
   "cell_type": "code",
   "execution_count": 115,
   "id": "f7338074",
   "metadata": {
    "execution": {
     "iopub.execute_input": "2023-06-16T06:32:17.831904Z",
     "iopub.status.busy": "2023-06-16T06:32:17.831437Z",
     "iopub.status.idle": "2023-06-16T06:32:19.284030Z",
     "shell.execute_reply": "2023-06-16T06:32:19.282057Z"
    },
    "papermill": {
     "duration": 1.509667,
     "end_time": "2023-06-16T06:32:19.286469",
     "exception": false,
     "start_time": "2023-06-16T06:32:17.776802",
     "status": "completed"
    },
    "tags": []
   },
   "outputs": [
    {
     "name": "stdout",
     "output_type": "stream",
     "text": [
      "pip 23.1.2 from /opt/conda/lib/python3.10/site-packages/pip (python 3.10)\r\n",
      "Note: you may need to restart the kernel to use updated packages.\n"
     ]
    }
   ],
   "source": [
    "pip --version"
   ]
  },
  {
   "cell_type": "markdown",
   "id": "5c77f5fc",
   "metadata": {
    "papermill": {
     "duration": 0.052806,
     "end_time": "2023-06-16T06:32:19.453319",
     "exception": false,
     "start_time": "2023-06-16T06:32:19.400513",
     "status": "completed"
    },
    "tags": []
   },
   "source": [
    "We will now start with computing features for our input sequences.\n",
    "\n",
    "We have defined the following features for CRF model building:\n",
    "\n",
    "f1 = input word is in lower case;<br>\n",
    "f2 = last 3 characters of word;<br>\n",
    "f3 = last 2 characers of word;<br>\n",
    "f4 = 1; if the word is in uppercase, 0 otherwise;<br>\n",
    "f5 = 1; if word is a number; otherwise, 0<br>\n",
    "f6= 1; if the word starts with a capital letter; otherwise, 0"
   ]
  },
  {
   "cell_type": "code",
   "execution_count": 116,
   "id": "d9437a71",
   "metadata": {
    "execution": {
     "iopub.execute_input": "2023-06-16T06:32:19.561005Z",
     "iopub.status.busy": "2023-06-16T06:32:19.560562Z",
     "iopub.status.idle": "2023-06-16T06:32:19.569669Z",
     "shell.execute_reply": "2023-06-16T06:32:19.568390Z"
    },
    "papermill": {
     "duration": 0.065323,
     "end_time": "2023-06-16T06:32:19.571697",
     "exception": false,
     "start_time": "2023-06-16T06:32:19.506374",
     "status": "completed"
    },
    "tags": []
   },
   "outputs": [],
   "source": [
    "def getFeaturesForOneWord(sentence, position):\n",
    "    \n",
    "    word = sentence[position]\n",
    "    \n",
    "    features = [\n",
    "        \n",
    "        'word_lower=' + word.lower(), #Serve as word ID\n",
    "        'word[-3:]='  + word[-3:], #Last Three characters\n",
    "        'word[-2:]='  + word[-2:], #Last Two Characters\n",
    "        'word.isupper =%s' %word.isupper(), #Is the Word in all Upper Case\n",
    "        'word.isdigit = %s'%word.isdigit(), #Is the word is a digit\n",
    "        'words.startswithcapital=%s' %word[0].isupper() #Is word starting with capital\n",
    "        \n",
    "    ]\n",
    "    \n",
    "    if position>0: # Then extract teh features of Previous word as well\n",
    "        \n",
    "        previous_word = sentence[position-1]\n",
    "        \n",
    "        features.extend([\n",
    "        \n",
    "        'previous_word.lower=' + previous_word.lower(),\n",
    "        'previous_word.isupper=%s' % + previous_word.isupper(),\n",
    "        'previous_word.isdigit=%s' % + previous_word.isdigit(),\n",
    "        'previous_word.startsWithCapital=%s' %+previous_word[0].isupper()\n",
    "        \n",
    "        ])\n",
    "        \n",
    "    else:\n",
    "        \n",
    "        features.append('BEG')\n",
    "        \n",
    "    if(pos == len(sentence)-1):\n",
    "        features.append('END') # feature to track end of sentence\n",
    "\n",
    "        return features\n"
   ]
  },
  {
   "cell_type": "markdown",
   "id": "8e303278",
   "metadata": {
    "papermill": {
     "duration": 0.052631,
     "end_time": "2023-06-16T06:32:19.676886",
     "exception": false,
     "start_time": "2023-06-16T06:32:19.624255",
     "status": "completed"
    },
    "tags": []
   },
   "source": [
    "## Computing Features\n",
    "\n",
    "Define a function to get features for a sentence using the already defined 'getFeaturesForOneWord' function"
   ]
  },
  {
   "cell_type": "code",
   "execution_count": 117,
   "id": "68c90f9e",
   "metadata": {
    "execution": {
     "iopub.execute_input": "2023-06-16T06:32:19.784038Z",
     "iopub.status.busy": "2023-06-16T06:32:19.783682Z",
     "iopub.status.idle": "2023-06-16T06:32:19.788671Z",
     "shell.execute_reply": "2023-06-16T06:32:19.787588Z"
    },
    "papermill": {
     "duration": 0.061161,
     "end_time": "2023-06-16T06:32:19.790637",
     "exception": false,
     "start_time": "2023-06-16T06:32:19.729476",
     "status": "completed"
    },
    "tags": []
   },
   "outputs": [],
   "source": [
    "# Define a function to get features for a sentence \n",
    "# using the 'getFeaturesForOneWord' function.\n",
    "def getFeaturesForOneSentence(sentence):\n",
    "    sentence_list = sentence.split()\n",
    "    return [getFeaturesForOneWord(sentence_list, position) for position in range(len(sentence_list))]\n"
   ]
  },
  {
   "cell_type": "code",
   "execution_count": 118,
   "id": "33955e2b",
   "metadata": {
    "execution": {
     "iopub.execute_input": "2023-06-16T06:32:19.898705Z",
     "iopub.status.busy": "2023-06-16T06:32:19.898080Z",
     "iopub.status.idle": "2023-06-16T06:32:19.902597Z",
     "shell.execute_reply": "2023-06-16T06:32:19.901887Z"
    },
    "papermill": {
     "duration": 0.061669,
     "end_time": "2023-06-16T06:32:19.904571",
     "exception": false,
     "start_time": "2023-06-16T06:32:19.842902",
     "status": "completed"
    },
    "tags": []
   },
   "outputs": [],
   "source": [
    "# Define a function to get the labels for a sentence.\n",
    "\n",
    "def getLabelsInListForOneSentence(labels):\n",
    "    return labels.split()"
   ]
  },
  {
   "cell_type": "code",
   "execution_count": 119,
   "id": "c459d68f",
   "metadata": {
    "execution": {
     "iopub.execute_input": "2023-06-16T06:32:20.012111Z",
     "iopub.status.busy": "2023-06-16T06:32:20.011517Z",
     "iopub.status.idle": "2023-06-16T06:32:20.017663Z",
     "shell.execute_reply": "2023-06-16T06:32:20.016401Z"
    },
    "papermill": {
     "duration": 0.062431,
     "end_time": "2023-06-16T06:32:20.019535",
     "exception": false,
     "start_time": "2023-06-16T06:32:19.957104",
     "status": "completed"
    },
    "tags": []
   },
   "outputs": [
    {
     "name": "stdout",
     "output_type": "stream",
     "text": [
      "a place that serves soft serve ice cream \n",
      "\n"
     ]
    }
   ],
   "source": [
    "# Apply function 'getFeaturesForOneSentence' to get features on a single sentence which is at index value 5 in train_sentences\n",
    "\n",
    "example_sentence = train_sent[5]\n",
    "print(example_sentence)\n",
    "\n",
    "features = getFeaturesForOneSentence(example_sentence)\n",
    "features[2]"
   ]
  },
  {
   "cell_type": "code",
   "execution_count": null,
   "id": "9110cc6f",
   "metadata": {
    "papermill": {
     "duration": 0.052226,
     "end_time": "2023-06-16T06:32:20.124264",
     "exception": false,
     "start_time": "2023-06-16T06:32:20.072038",
     "status": "completed"
    },
    "tags": []
   },
   "outputs": [],
   "source": []
  }
 ],
 "metadata": {
  "kernelspec": {
   "display_name": "Python 3",
   "language": "python",
   "name": "python3"
  },
  "language_info": {
   "codemirror_mode": {
    "name": "ipython",
    "version": 3
   },
   "file_extension": ".py",
   "mimetype": "text/x-python",
   "name": "python",
   "nbconvert_exporter": "python",
   "pygments_lexer": "ipython3",
   "version": "3.10.10"
  },
  "papermill": {
   "default_parameters": {},
   "duration": 294.857216,
   "end_time": "2023-06-16T06:32:23.417993",
   "environment_variables": {},
   "exception": null,
   "input_path": "__notebook__.ipynb",
   "output_path": "__notebook__.ipynb",
   "parameters": {},
   "start_time": "2023-06-16T06:27:28.560777",
   "version": "2.4.0"
  }
 },
 "nbformat": 4,
 "nbformat_minor": 5
}
